{
  "nbformat": 4,
  "nbformat_minor": 0,
  "metadata": {
    "colab": {
      "private_outputs": true,
      "provenance": [],
      "authorship_tag": "ABX9TyM/1j9yuITqtQw0eflvXmA2",
      "include_colab_link": true
    },
    "kernelspec": {
      "name": "python3",
      "display_name": "Python 3"
    },
    "language_info": {
      "name": "python"
    }
  },
  "cells": [
    {
      "cell_type": "markdown",
      "metadata": {
        "id": "view-in-github",
        "colab_type": "text"
      },
      "source": [
        "<a href=\"https://colab.research.google.com/github/ravibalebilalu/ravibalebilalu/blob/main/Untitled4.ipynb\" target=\"_parent\"><img src=\"https://colab.research.google.com/assets/colab-badge.svg\" alt=\"Open In Colab\"/></a>"
      ]
    },
    {
      "cell_type": "markdown",
      "source": [
        "Here tasks are:\n",
        "1.\tImport the pandas library and read the following data into a DataFrame:\n",
        "ID,Name,Score\n",
        "1,Alice,85\n",
        "2,Bob,70\n",
        "3,Charlie,90\n",
        "4,Dave,60\n",
        "5,Eve,75\n",
        "2.\tAdd a new row to the DataFrame with the following values: 6,Frank,95.\n",
        "3.\tSelect all rows where Score is greater than 75.\n",
        "4.\tFind the maximum Score and the corresponding Name.\n",
        "5.\tGroup the DataFrame by Name and find the mean Score for each name.\n",
        "6.\tSort the DataFrame by Score in descending order.\n",
        "7.\tCalculate the standard deviation of the Score column.\n"
      ],
      "metadata": {
        "id": "j-ztTBbXngQq"
      }
    },
    {
      "cell_type": "code",
      "source": [
        "#data to dataframe \n",
        "a = [\"ID\",\"Name\",\"Score\"]\n",
        "b = [1,\"Alice\",85]\n",
        "c = [2,\"Bob\",70]\n",
        "d = [3,\"Charlie\",90]\n",
        "e = [4,\"Dave\",60]\n",
        "f = [5,\"Eve\",75]\n",
        "import pandas as pd\n",
        "df = pd.DataFrame(data = (b,c,d,e,f),columns = a)\n",
        "df\n"
      ],
      "metadata": {
        "id": "ou4yrdP9i6S-"
      },
      "execution_count": null,
      "outputs": []
    },
    {
      "cell_type": "code",
      "source": [
        "#adding new data to dataframe\n",
        "new = [6,\"Frank\",95]\n",
        "df.loc[len(df.index)] = new\n",
        "df"
      ],
      "metadata": {
        "id": "uPOll9f0jwZi"
      },
      "execution_count": null,
      "outputs": []
    },
    {
      "cell_type": "code",
      "source": [
        "#3.\tSelect all rows where Score is greater than 75.\n",
        "df[df.Score > 75]"
      ],
      "metadata": {
        "id": "wu_jfPdjlBGs"
      },
      "execution_count": null,
      "outputs": []
    },
    {
      "cell_type": "code",
      "source": [
        "#4.\tFind the maximum Score and the corresponding Name.\n",
        "df.groupby(\"Name\")[\"Score\"].max().sort_values(ascending = False).head(1)"
      ],
      "metadata": {
        "id": "P5w_9IEAlXko"
      },
      "execution_count": null,
      "outputs": []
    },
    {
      "cell_type": "code",
      "source": [
        "#Group the DataFrame by Name and find the mean Score for each name.\n",
        "df.groupby(\"Name\")[\"Score\"].mean()"
      ],
      "metadata": {
        "id": "eP0v6WeSmfee"
      },
      "execution_count": null,
      "outputs": []
    },
    {
      "cell_type": "code",
      "source": [
        "#6.\tSort the DataFrame by Score in descending order.\n",
        "df.sort_values(by = \"Score\",ascending = False)"
      ],
      "metadata": {
        "id": "xiTzFKMSm3yQ"
      },
      "execution_count": null,
      "outputs": []
    },
    {
      "cell_type": "code",
      "source": [
        "#\tCalculate the standard deviation of the Score column.\n",
        "df.Score.std()"
      ],
      "metadata": {
        "id": "Qlosgg0AnPsg"
      },
      "execution_count": null,
      "outputs": []
    },
    {
      "cell_type": "code",
      "source": [],
      "metadata": {
        "id": "ouq5YmtlnbHD"
      },
      "execution_count": null,
      "outputs": []
    }
  ]
}