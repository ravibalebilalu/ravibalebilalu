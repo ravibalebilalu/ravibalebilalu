{
 "cells": [
  {
   "cell_type": "code",
   "execution_count": 1,
   "id": "32d1a457",
   "metadata": {
    "execution": {
     "iopub.execute_input": "2022-08-28T08:04:14.658271Z",
     "iopub.status.busy": "2022-08-28T08:04:14.654712Z",
     "iopub.status.idle": "2022-08-28T08:04:14.710773Z",
     "shell.execute_reply": "2022-08-28T08:04:14.709887Z"
    },
    "papermill": {
     "duration": 0.063796,
     "end_time": "2022-08-28T08:04:14.712726",
     "exception": false,
     "start_time": "2022-08-28T08:04:14.648930",
     "status": "completed"
    },
    "tags": []
   },
   "outputs": [
    {
     "data": {
      "text/html": [
       "<div>\n",
       "<style scoped>\n",
       "    .dataframe tbody tr th:only-of-type {\n",
       "        vertical-align: middle;\n",
       "    }\n",
       "\n",
       "    .dataframe tbody tr th {\n",
       "        vertical-align: top;\n",
       "    }\n",
       "\n",
       "    .dataframe thead th {\n",
       "        text-align: right;\n",
       "    }\n",
       "</style>\n",
       "<table border=\"1\" class=\"dataframe\">\n",
       "  <thead>\n",
       "    <tr style=\"text-align: right;\">\n",
       "      <th></th>\n",
       "      <th>Category</th>\n",
       "      <th>Message</th>\n",
       "    </tr>\n",
       "  </thead>\n",
       "  <tbody>\n",
       "    <tr>\n",
       "      <th>0</th>\n",
       "      <td>ham</td>\n",
       "      <td>Go until jurong point, crazy.. Available only ...</td>\n",
       "    </tr>\n",
       "    <tr>\n",
       "      <th>1</th>\n",
       "      <td>ham</td>\n",
       "      <td>Ok lar... Joking wif u oni...</td>\n",
       "    </tr>\n",
       "    <tr>\n",
       "      <th>2</th>\n",
       "      <td>spam</td>\n",
       "      <td>Free entry in 2 a wkly comp to win FA Cup fina...</td>\n",
       "    </tr>\n",
       "    <tr>\n",
       "      <th>3</th>\n",
       "      <td>ham</td>\n",
       "      <td>U dun say so early hor... U c already then say...</td>\n",
       "    </tr>\n",
       "    <tr>\n",
       "      <th>4</th>\n",
       "      <td>ham</td>\n",
       "      <td>Nah I don't think he goes to usf, he lives aro...</td>\n",
       "    </tr>\n",
       "  </tbody>\n",
       "</table>\n",
       "</div>"
      ],
      "text/plain": [
       "  Category                                            Message\n",
       "0      ham  Go until jurong point, crazy.. Available only ...\n",
       "1      ham                      Ok lar... Joking wif u oni...\n",
       "2     spam  Free entry in 2 a wkly comp to win FA Cup fina...\n",
       "3      ham  U dun say so early hor... U c already then say...\n",
       "4      ham  Nah I don't think he goes to usf, he lives aro..."
      ]
     },
     "execution_count": 1,
     "metadata": {},
     "output_type": "execute_result"
    }
   ],
   "source": [
    "import pandas as pd\n",
    "df=pd.read_csv(\"../input/spam-text-message-classification/SPAM text message 20170820 - Data.csv\")\n",
    "df.head()"
   ]
  },
  {
   "cell_type": "code",
   "execution_count": 2,
   "id": "bf59444c",
   "metadata": {
    "execution": {
     "iopub.execute_input": "2022-08-28T08:04:14.723148Z",
     "iopub.status.busy": "2022-08-28T08:04:14.722499Z",
     "iopub.status.idle": "2022-08-28T08:04:14.732436Z",
     "shell.execute_reply": "2022-08-28T08:04:14.731717Z"
    },
    "papermill": {
     "duration": 0.017202,
     "end_time": "2022-08-28T08:04:14.734555",
     "exception": false,
     "start_time": "2022-08-28T08:04:14.717353",
     "status": "completed"
    },
    "tags": []
   },
   "outputs": [
    {
     "data": {
      "text/plain": [
       "Category    False\n",
       "Message     False\n",
       "dtype: bool"
      ]
     },
     "execution_count": 2,
     "metadata": {},
     "output_type": "execute_result"
    }
   ],
   "source": [
    "df.isnull().any()"
   ]
  },
  {
   "cell_type": "code",
   "execution_count": 3,
   "id": "aed6ceeb",
   "metadata": {
    "execution": {
     "iopub.execute_input": "2022-08-28T08:04:14.746986Z",
     "iopub.status.busy": "2022-08-28T08:04:14.746393Z",
     "iopub.status.idle": "2022-08-28T08:04:14.773309Z",
     "shell.execute_reply": "2022-08-28T08:04:14.771666Z"
    },
    "papermill": {
     "duration": 0.035453,
     "end_time": "2022-08-28T08:04:14.775339",
     "exception": false,
     "start_time": "2022-08-28T08:04:14.739886",
     "status": "completed"
    },
    "tags": []
   },
   "outputs": [
    {
     "name": "stdout",
     "output_type": "stream",
     "text": [
      "<class 'pandas.core.frame.DataFrame'>\n",
      "RangeIndex: 5572 entries, 0 to 5571\n",
      "Data columns (total 2 columns):\n",
      " #   Column    Non-Null Count  Dtype \n",
      "---  ------    --------------  ----- \n",
      " 0   Category  5572 non-null   object\n",
      " 1   Message   5572 non-null   object\n",
      "dtypes: object(2)\n",
      "memory usage: 87.2+ KB\n"
     ]
    }
   ],
   "source": [
    "df.info()"
   ]
  },
  {
   "cell_type": "code",
   "execution_count": 4,
   "id": "ed2ec863",
   "metadata": {
    "execution": {
     "iopub.execute_input": "2022-08-28T08:04:14.784785Z",
     "iopub.status.busy": "2022-08-28T08:04:14.784455Z",
     "iopub.status.idle": "2022-08-28T08:04:36.530982Z",
     "shell.execute_reply": "2022-08-28T08:04:36.529383Z"
    },
    "papermill": {
     "duration": 21.753572,
     "end_time": "2022-08-28T08:04:36.532968",
     "exception": false,
     "start_time": "2022-08-28T08:04:14.779396",
     "status": "completed"
    },
    "tags": []
   },
   "outputs": [
    {
     "name": "stderr",
     "output_type": "stream",
     "text": [
      "[nltk_data] Error loading stopwords: <urlopen error [Errno -3]\n",
      "[nltk_data]     Temporary failure in name resolution>\n"
     ]
    },
    {
     "data": {
      "text/plain": [
       "False"
      ]
     },
     "execution_count": 4,
     "metadata": {},
     "output_type": "execute_result"
    }
   ],
   "source": [
    "import nltk\n",
    "import re\n",
    "from nltk.corpus import stopwords\n",
    "from nltk.stem import PorterStemmer\n",
    "ps=PorterStemmer()\n",
    "nltk.download('stopwords')"
   ]
  },
  {
   "cell_type": "code",
   "execution_count": 5,
   "id": "7b1ed010",
   "metadata": {
    "execution": {
     "iopub.execute_input": "2022-08-28T08:04:36.543407Z",
     "iopub.status.busy": "2022-08-28T08:04:36.543081Z",
     "iopub.status.idle": "2022-08-28T08:04:47.627168Z",
     "shell.execute_reply": "2022-08-28T08:04:47.625747Z"
    },
    "papermill": {
     "duration": 11.091868,
     "end_time": "2022-08-28T08:04:47.629523",
     "exception": false,
     "start_time": "2022-08-28T08:04:36.537655",
     "status": "completed"
    },
    "tags": []
   },
   "outputs": [],
   "source": [
    "def clean(text):\n",
    "    result=re.sub('[^a-zA-Z]',' ',text)\n",
    "    result=result.lower()\n",
    "    result=result.split()\n",
    "    result=[ps.stem(word) for word in result if word not in set(stopwords.words('english'))]\n",
    "    result=' '.join(result)\n",
    "    return result\n",
    "df[\"text\"]=df[\"Message\"].apply(clean)\n"
   ]
  },
  {
   "cell_type": "code",
   "execution_count": 6,
   "id": "d99968a6",
   "metadata": {
    "execution": {
     "iopub.execute_input": "2022-08-28T08:04:47.638972Z",
     "iopub.status.busy": "2022-08-28T08:04:47.638644Z",
     "iopub.status.idle": "2022-08-28T08:04:47.732714Z",
     "shell.execute_reply": "2022-08-28T08:04:47.732062Z"
    },
    "papermill": {
     "duration": 0.10128,
     "end_time": "2022-08-28T08:04:47.734845",
     "exception": false,
     "start_time": "2022-08-28T08:04:47.633565",
     "status": "completed"
    },
    "tags": []
   },
   "outputs": [],
   "source": [
    "from sklearn.feature_extraction.text import CountVectorizer\n",
    "cv=CountVectorizer()\n",
    "x=cv.fit_transform(df[\"text\"]).toarray()\n",
    "df[\"cat\"]=df[\"Category\"].map({\"spam\":1,\"ham\":0})\n",
    "y=df[\"cat\"]"
   ]
  },
  {
   "cell_type": "code",
   "execution_count": 7,
   "id": "52987ad0",
   "metadata": {
    "execution": {
     "iopub.execute_input": "2022-08-28T08:04:47.743791Z",
     "iopub.status.busy": "2022-08-28T08:04:47.743495Z",
     "iopub.status.idle": "2022-08-28T08:04:48.289767Z",
     "shell.execute_reply": "2022-08-28T08:04:48.288868Z"
    },
    "papermill": {
     "duration": 0.553188,
     "end_time": "2022-08-28T08:04:48.292121",
     "exception": false,
     "start_time": "2022-08-28T08:04:47.738933",
     "status": "completed"
    },
    "tags": []
   },
   "outputs": [
    {
     "data": {
      "text/plain": [
       "0.979066985645933"
      ]
     },
     "execution_count": 7,
     "metadata": {},
     "output_type": "execute_result"
    }
   ],
   "source": [
    "from sklearn.model_selection import train_test_split\n",
    "x_train,x_test,y_train,y_test=train_test_split(x,y,test_size=0.3,random_state=1)\n",
    "from sklearn.linear_model import LogisticRegression\n",
    "from sklearn.metrics import accuracy_score\n",
    "regression=LogisticRegression()\n",
    "regression.fit(x_train,y_train)\n",
    "reg_pred=regression.predict(x_test)\n",
    "lg=accuracy_score(y_test,reg_pred)\n",
    "lg\n",
    "\n"
   ]
  },
  {
   "cell_type": "code",
   "execution_count": 8,
   "id": "a8d764e9",
   "metadata": {
    "execution": {
     "iopub.execute_input": "2022-08-28T08:04:48.305423Z",
     "iopub.status.busy": "2022-08-28T08:04:48.304735Z",
     "iopub.status.idle": "2022-08-28T08:04:48.678659Z",
     "shell.execute_reply": "2022-08-28T08:04:48.677534Z"
    },
    "papermill": {
     "duration": 0.382592,
     "end_time": "2022-08-28T08:04:48.680393",
     "exception": false,
     "start_time": "2022-08-28T08:04:48.297801",
     "status": "completed"
    },
    "tags": []
   },
   "outputs": [
    {
     "data": {
      "text/plain": [
       "0.8630382775119617"
      ]
     },
     "execution_count": 8,
     "metadata": {},
     "output_type": "execute_result"
    }
   ],
   "source": [
    "from sklearn.naive_bayes import GaussianNB\n",
    "navie=GaussianNB()\n",
    "navie.fit(x_train,y_train)\n",
    "navie_pred=navie.predict(x_test)\n",
    "nv=accuracy_score(y_test,navie_pred)\n",
    "nv"
   ]
  },
  {
   "cell_type": "code",
   "execution_count": 9,
   "id": "c1f5cdb1",
   "metadata": {
    "execution": {
     "iopub.execute_input": "2022-08-28T08:04:48.689897Z",
     "iopub.status.busy": "2022-08-28T08:04:48.689558Z",
     "iopub.status.idle": "2022-08-28T08:04:54.889402Z",
     "shell.execute_reply": "2022-08-28T08:04:54.888432Z"
    },
    "papermill": {
     "duration": 6.206754,
     "end_time": "2022-08-28T08:04:54.891345",
     "exception": false,
     "start_time": "2022-08-28T08:04:48.684591",
     "status": "completed"
    },
    "tags": []
   },
   "outputs": [
    {
     "data": {
      "text/plain": [
       "0.972488038277512"
      ]
     },
     "execution_count": 9,
     "metadata": {},
     "output_type": "execute_result"
    }
   ],
   "source": [
    "from sklearn.tree import DecisionTreeClassifier\n",
    "tree=DecisionTreeClassifier()\n",
    "tree.fit(x_train,y_train)\n",
    "tree_pred=tree.predict(x_test)\n",
    "dt=accuracy_score(y_test,tree_pred)\n",
    "dt\n",
    "\n"
   ]
  },
  {
   "cell_type": "code",
   "execution_count": 10,
   "id": "684b2318",
   "metadata": {
    "execution": {
     "iopub.execute_input": "2022-08-28T08:04:54.902414Z",
     "iopub.status.busy": "2022-08-28T08:04:54.901307Z",
     "iopub.status.idle": "2022-08-28T08:05:07.095750Z",
     "shell.execute_reply": "2022-08-28T08:05:07.094743Z"
    },
    "papermill": {
     "duration": 12.201887,
     "end_time": "2022-08-28T08:05:07.097870",
     "exception": false,
     "start_time": "2022-08-28T08:04:54.895983",
     "status": "completed"
    },
    "tags": []
   },
   "outputs": [
    {
     "data": {
      "text/plain": [
       "0.9760765550239234"
      ]
     },
     "execution_count": 10,
     "metadata": {},
     "output_type": "execute_result"
    }
   ],
   "source": [
    "from  sklearn.ensemble import RandomForestClassifier\n",
    "forest=RandomForestClassifier()\n",
    "forest.fit(x_train,y_train)\n",
    "forest_pred=forest.predict(x_test)\n",
    "rf=accuracy_score(y_test,forest_pred)\n",
    "rf\n"
   ]
  },
  {
   "cell_type": "code",
   "execution_count": 11,
   "id": "e7192eed",
   "metadata": {
    "execution": {
     "iopub.execute_input": "2022-08-28T08:05:07.108091Z",
     "iopub.status.busy": "2022-08-28T08:05:07.107745Z",
     "iopub.status.idle": "2022-08-28T08:05:33.585493Z",
     "shell.execute_reply": "2022-08-28T08:05:33.584266Z"
    },
    "papermill": {
     "duration": 26.484964,
     "end_time": "2022-08-28T08:05:33.587363",
     "exception": false,
     "start_time": "2022-08-28T08:05:07.102399",
     "status": "completed"
    },
    "tags": []
   },
   "outputs": [
    {
     "data": {
      "text/plain": [
       "0.9736842105263158"
      ]
     },
     "execution_count": 11,
     "metadata": {},
     "output_type": "execute_result"
    }
   ],
   "source": [
    "from sklearn.svm import SVC\n",
    "s_classifier=SVC()\n",
    "s_classifier.fit(x_train,y_train)\n",
    "s_pred=s_classifier.predict(x_test)\n",
    "sv=accuracy_score(y_test,s_pred)\n",
    "sv"
   ]
  },
  {
   "cell_type": "code",
   "execution_count": 12,
   "id": "4ac254cc",
   "metadata": {
    "execution": {
     "iopub.execute_input": "2022-08-28T08:05:33.597945Z",
     "iopub.status.busy": "2022-08-28T08:05:33.597595Z",
     "iopub.status.idle": "2022-08-28T08:05:34.822148Z",
     "shell.execute_reply": "2022-08-28T08:05:34.820941Z"
    },
    "papermill": {
     "duration": 1.232646,
     "end_time": "2022-08-28T08:05:34.824671",
     "exception": false,
     "start_time": "2022-08-28T08:05:33.592025",
     "status": "completed"
    },
    "tags": []
   },
   "outputs": [
    {
     "data": {
      "text/plain": [
       "0.9120813397129187"
      ]
     },
     "execution_count": 12,
     "metadata": {},
     "output_type": "execute_result"
    }
   ],
   "source": [
    "from sklearn.neighbors import KNeighborsClassifier\n",
    "neighbor=KNeighborsClassifier()\n",
    "neighbor.fit(x_train,y_train)\n",
    "neib_pred=neighbor.predict(x_test)\n",
    "knb=accuracy_score(y_test,neib_pred)\n",
    "knb"
   ]
  },
  {
   "cell_type": "code",
   "execution_count": 13,
   "id": "86942f2f",
   "metadata": {
    "execution": {
     "iopub.execute_input": "2022-08-28T08:05:34.836073Z",
     "iopub.status.busy": "2022-08-28T08:05:34.835425Z",
     "iopub.status.idle": "2022-08-28T08:05:41.139722Z",
     "shell.execute_reply": "2022-08-28T08:05:41.138663Z"
    },
    "papermill": {
     "duration": 6.312146,
     "end_time": "2022-08-28T08:05:41.141911",
     "exception": false,
     "start_time": "2022-08-28T08:05:34.829765",
     "status": "completed"
    },
    "tags": []
   },
   "outputs": [
    {
     "data": {
      "text/plain": [
       "0.05143540669856459"
      ]
     },
     "execution_count": 13,
     "metadata": {},
     "output_type": "execute_result"
    }
   ],
   "source": [
    "from sklearn.cluster import KMeans\n",
    "means=KMeans()\n",
    "means.fit(x_train,y_train)\n",
    "means_pred=means.predict(x_test)\n",
    "kmn=accuracy_score(y_test,means_pred)\n",
    "kmn"
   ]
  },
  {
   "cell_type": "code",
   "execution_count": 14,
   "id": "8fdb65d7",
   "metadata": {
    "execution": {
     "iopub.execute_input": "2022-08-28T08:05:41.167498Z",
     "iopub.status.busy": "2022-08-28T08:05:41.166544Z",
     "iopub.status.idle": "2022-08-28T08:05:41.173837Z",
     "shell.execute_reply": "2022-08-28T08:05:41.172619Z"
    },
    "papermill": {
     "duration": 0.027973,
     "end_time": "2022-08-28T08:05:41.176192",
     "exception": false,
     "start_time": "2022-08-28T08:05:41.148219",
     "status": "completed"
    },
    "tags": []
   },
   "outputs": [],
   "source": [
    "scores=[lg,nv,dt,rf,sv,knb,kmn]\n",
    "names=[\"lg\",\"nv\",\"dt\",\"rf\",\"sv\",\"knb\",\"kmn\"]\n",
    "\n",
    "result=pd.DataFrame(scores,names)\n"
   ]
  },
  {
   "cell_type": "code",
   "execution_count": 15,
   "id": "1d008ccf",
   "metadata": {
    "execution": {
     "iopub.execute_input": "2022-08-28T08:05:41.188414Z",
     "iopub.status.busy": "2022-08-28T08:05:41.187258Z",
     "iopub.status.idle": "2022-08-28T08:05:41.198127Z",
     "shell.execute_reply": "2022-08-28T08:05:41.197131Z"
    },
    "papermill": {
     "duration": 0.018505,
     "end_time": "2022-08-28T08:05:41.200072",
     "exception": false,
     "start_time": "2022-08-28T08:05:41.181567",
     "status": "completed"
    },
    "tags": []
   },
   "outputs": [
    {
     "data": {
      "text/html": [
       "<div>\n",
       "<style scoped>\n",
       "    .dataframe tbody tr th:only-of-type {\n",
       "        vertical-align: middle;\n",
       "    }\n",
       "\n",
       "    .dataframe tbody tr th {\n",
       "        vertical-align: top;\n",
       "    }\n",
       "\n",
       "    .dataframe thead th {\n",
       "        text-align: right;\n",
       "    }\n",
       "</style>\n",
       "<table border=\"1\" class=\"dataframe\">\n",
       "  <thead>\n",
       "    <tr style=\"text-align: right;\">\n",
       "      <th></th>\n",
       "      <th>0</th>\n",
       "    </tr>\n",
       "  </thead>\n",
       "  <tbody>\n",
       "    <tr>\n",
       "      <th>lg</th>\n",
       "      <td>0.979067</td>\n",
       "    </tr>\n",
       "    <tr>\n",
       "      <th>nv</th>\n",
       "      <td>0.863038</td>\n",
       "    </tr>\n",
       "    <tr>\n",
       "      <th>dt</th>\n",
       "      <td>0.972488</td>\n",
       "    </tr>\n",
       "    <tr>\n",
       "      <th>rf</th>\n",
       "      <td>0.976077</td>\n",
       "    </tr>\n",
       "    <tr>\n",
       "      <th>sv</th>\n",
       "      <td>0.973684</td>\n",
       "    </tr>\n",
       "    <tr>\n",
       "      <th>knb</th>\n",
       "      <td>0.912081</td>\n",
       "    </tr>\n",
       "    <tr>\n",
       "      <th>kmn</th>\n",
       "      <td>0.051435</td>\n",
       "    </tr>\n",
       "  </tbody>\n",
       "</table>\n",
       "</div>"
      ],
      "text/plain": [
       "            0\n",
       "lg   0.979067\n",
       "nv   0.863038\n",
       "dt   0.972488\n",
       "rf   0.976077\n",
       "sv   0.973684\n",
       "knb  0.912081\n",
       "kmn  0.051435"
      ]
     },
     "execution_count": 15,
     "metadata": {},
     "output_type": "execute_result"
    }
   ],
   "source": [
    "result"
   ]
  }
 ],
 "metadata": {
  "kernelspec": {
   "display_name": "Python 3",
   "language": "python",
   "name": "python3"
  },
  "language_info": {
   "codemirror_mode": {
    "name": "ipython",
    "version": 3
   },
   "file_extension": ".py",
   "mimetype": "text/x-python",
   "name": "python",
   "nbconvert_exporter": "python",
   "pygments_lexer": "ipython3",
   "version": "3.7.12"
  },
  "papermill": {
   "default_parameters": {},
   "duration": 96.42354,
   "end_time": "2022-08-28T08:05:41.927440",
   "environment_variables": {},
   "exception": null,
   "input_path": "__notebook__.ipynb",
   "output_path": "__notebook__.ipynb",
   "parameters": {},
   "start_time": "2022-08-28T08:04:05.503900",
   "version": "2.3.4"
  }
 },
 "nbformat": 4,
 "nbformat_minor": 5
}
