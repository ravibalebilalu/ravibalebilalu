{
 "cells": [
  {
   "cell_type": "code",
   "execution_count": 1,
   "id": "ff2b409d",
   "metadata": {
    "execution": {
     "iopub.execute_input": "2022-08-27T14:37:20.980911Z",
     "iopub.status.busy": "2022-08-27T14:37:20.980187Z",
     "iopub.status.idle": "2022-08-27T14:37:21.144936Z",
     "shell.execute_reply": "2022-08-27T14:37:21.143463Z"
    },
    "papermill": {
     "duration": 0.177156,
     "end_time": "2022-08-27T14:37:21.147914",
     "exception": false,
     "start_time": "2022-08-27T14:37:20.970758",
     "status": "completed"
    },
    "tags": []
   },
   "outputs": [
    {
     "data": {
      "text/html": [
       "<div>\n",
       "<style scoped>\n",
       "    .dataframe tbody tr th:only-of-type {\n",
       "        vertical-align: middle;\n",
       "    }\n",
       "\n",
       "    .dataframe tbody tr th {\n",
       "        vertical-align: top;\n",
       "    }\n",
       "\n",
       "    .dataframe thead th {\n",
       "        text-align: right;\n",
       "    }\n",
       "</style>\n",
       "<table border=\"1\" class=\"dataframe\">\n",
       "  <thead>\n",
       "    <tr style=\"text-align: right;\">\n",
       "      <th></th>\n",
       "      <th>Unnamed: 0</th>\n",
       "      <th>carat</th>\n",
       "      <th>cut</th>\n",
       "      <th>color</th>\n",
       "      <th>clarity</th>\n",
       "      <th>depth</th>\n",
       "      <th>table</th>\n",
       "      <th>price</th>\n",
       "      <th>x</th>\n",
       "      <th>y</th>\n",
       "      <th>z</th>\n",
       "    </tr>\n",
       "  </thead>\n",
       "  <tbody>\n",
       "    <tr>\n",
       "      <th>0</th>\n",
       "      <td>1</td>\n",
       "      <td>0.23</td>\n",
       "      <td>Ideal</td>\n",
       "      <td>E</td>\n",
       "      <td>SI2</td>\n",
       "      <td>61.5</td>\n",
       "      <td>55.0</td>\n",
       "      <td>326</td>\n",
       "      <td>3.95</td>\n",
       "      <td>3.98</td>\n",
       "      <td>2.43</td>\n",
       "    </tr>\n",
       "    <tr>\n",
       "      <th>1</th>\n",
       "      <td>2</td>\n",
       "      <td>0.21</td>\n",
       "      <td>Premium</td>\n",
       "      <td>E</td>\n",
       "      <td>SI1</td>\n",
       "      <td>59.8</td>\n",
       "      <td>61.0</td>\n",
       "      <td>326</td>\n",
       "      <td>3.89</td>\n",
       "      <td>3.84</td>\n",
       "      <td>2.31</td>\n",
       "    </tr>\n",
       "    <tr>\n",
       "      <th>2</th>\n",
       "      <td>3</td>\n",
       "      <td>0.23</td>\n",
       "      <td>Good</td>\n",
       "      <td>E</td>\n",
       "      <td>VS1</td>\n",
       "      <td>56.9</td>\n",
       "      <td>65.0</td>\n",
       "      <td>327</td>\n",
       "      <td>4.05</td>\n",
       "      <td>4.07</td>\n",
       "      <td>2.31</td>\n",
       "    </tr>\n",
       "    <tr>\n",
       "      <th>3</th>\n",
       "      <td>4</td>\n",
       "      <td>0.29</td>\n",
       "      <td>Premium</td>\n",
       "      <td>I</td>\n",
       "      <td>VS2</td>\n",
       "      <td>62.4</td>\n",
       "      <td>58.0</td>\n",
       "      <td>334</td>\n",
       "      <td>4.20</td>\n",
       "      <td>4.23</td>\n",
       "      <td>2.63</td>\n",
       "    </tr>\n",
       "    <tr>\n",
       "      <th>4</th>\n",
       "      <td>5</td>\n",
       "      <td>0.31</td>\n",
       "      <td>Good</td>\n",
       "      <td>J</td>\n",
       "      <td>SI2</td>\n",
       "      <td>63.3</td>\n",
       "      <td>58.0</td>\n",
       "      <td>335</td>\n",
       "      <td>4.34</td>\n",
       "      <td>4.35</td>\n",
       "      <td>2.75</td>\n",
       "    </tr>\n",
       "  </tbody>\n",
       "</table>\n",
       "</div>"
      ],
      "text/plain": [
       "   Unnamed: 0  carat      cut color clarity  depth  table  price     x     y  \\\n",
       "0           1   0.23    Ideal     E     SI2   61.5   55.0    326  3.95  3.98   \n",
       "1           2   0.21  Premium     E     SI1   59.8   61.0    326  3.89  3.84   \n",
       "2           3   0.23     Good     E     VS1   56.9   65.0    327  4.05  4.07   \n",
       "3           4   0.29  Premium     I     VS2   62.4   58.0    334  4.20  4.23   \n",
       "4           5   0.31     Good     J     SI2   63.3   58.0    335  4.34  4.35   \n",
       "\n",
       "      z  \n",
       "0  2.43  \n",
       "1  2.31  \n",
       "2  2.31  \n",
       "3  2.63  \n",
       "4  2.75  "
      ]
     },
     "execution_count": 1,
     "metadata": {},
     "output_type": "execute_result"
    }
   ],
   "source": [
    "import pandas as pd\n",
    "df=pd.read_csv(\"../input/diamonds-prices/Diamonds Prices2022.csv\")\n",
    "df.head()"
   ]
  },
  {
   "cell_type": "code",
   "execution_count": null,
   "id": "edc094f1",
   "metadata": {
    "papermill": {
     "duration": 0.007141,
     "end_time": "2022-08-27T14:37:21.161931",
     "exception": false,
     "start_time": "2022-08-27T14:37:21.154790",
     "status": "completed"
    },
    "tags": []
   },
   "outputs": [],
   "source": []
  },
  {
   "cell_type": "code",
   "execution_count": 2,
   "id": "b8be647a",
   "metadata": {
    "execution": {
     "iopub.execute_input": "2022-08-27T14:37:21.176442Z",
     "iopub.status.busy": "2022-08-27T14:37:21.175947Z",
     "iopub.status.idle": "2022-08-27T14:37:21.196009Z",
     "shell.execute_reply": "2022-08-27T14:37:21.194875Z"
    },
    "papermill": {
     "duration": 0.030457,
     "end_time": "2022-08-27T14:37:21.198861",
     "exception": false,
     "start_time": "2022-08-27T14:37:21.168404",
     "status": "completed"
    },
    "tags": []
   },
   "outputs": [
    {
     "data": {
      "text/plain": [
       "Unnamed: 0    False\n",
       "carat         False\n",
       "cut           False\n",
       "color         False\n",
       "clarity       False\n",
       "depth         False\n",
       "table         False\n",
       "price         False\n",
       "x             False\n",
       "y             False\n",
       "z             False\n",
       "dtype: bool"
      ]
     },
     "execution_count": 2,
     "metadata": {},
     "output_type": "execute_result"
    }
   ],
   "source": [
    "df.isnull().any()"
   ]
  },
  {
   "cell_type": "code",
   "execution_count": 3,
   "id": "a5301eea",
   "metadata": {
    "execution": {
     "iopub.execute_input": "2022-08-27T14:37:21.214028Z",
     "iopub.status.busy": "2022-08-27T14:37:21.213220Z",
     "iopub.status.idle": "2022-08-27T14:37:21.221904Z",
     "shell.execute_reply": "2022-08-27T14:37:21.220679Z"
    },
    "papermill": {
     "duration": 0.019031,
     "end_time": "2022-08-27T14:37:21.224428",
     "exception": false,
     "start_time": "2022-08-27T14:37:21.205397",
     "status": "completed"
    },
    "tags": []
   },
   "outputs": [
    {
     "data": {
      "text/plain": [
       "Unnamed: 0      int64\n",
       "carat         float64\n",
       "cut            object\n",
       "color          object\n",
       "clarity        object\n",
       "depth         float64\n",
       "table         float64\n",
       "price           int64\n",
       "x             float64\n",
       "y             float64\n",
       "z             float64\n",
       "dtype: object"
      ]
     },
     "execution_count": 3,
     "metadata": {},
     "output_type": "execute_result"
    }
   ],
   "source": [
    "df.dtypes"
   ]
  },
  {
   "cell_type": "code",
   "execution_count": 4,
   "id": "e15f82f2",
   "metadata": {
    "execution": {
     "iopub.execute_input": "2022-08-27T14:37:21.239425Z",
     "iopub.status.busy": "2022-08-27T14:37:21.238988Z",
     "iopub.status.idle": "2022-08-27T14:37:22.328259Z",
     "shell.execute_reply": "2022-08-27T14:37:22.327139Z"
    },
    "papermill": {
     "duration": 1.099853,
     "end_time": "2022-08-27T14:37:22.330849",
     "exception": false,
     "start_time": "2022-08-27T14:37:21.230996",
     "status": "completed"
    },
    "tags": []
   },
   "outputs": [
    {
     "data": {
      "text/html": [
       "<div>\n",
       "<style scoped>\n",
       "    .dataframe tbody tr th:only-of-type {\n",
       "        vertical-align: middle;\n",
       "    }\n",
       "\n",
       "    .dataframe tbody tr th {\n",
       "        vertical-align: top;\n",
       "    }\n",
       "\n",
       "    .dataframe thead th {\n",
       "        text-align: right;\n",
       "    }\n",
       "</style>\n",
       "<table border=\"1\" class=\"dataframe\">\n",
       "  <thead>\n",
       "    <tr style=\"text-align: right;\">\n",
       "      <th></th>\n",
       "      <th>Unnamed: 0</th>\n",
       "      <th>carat</th>\n",
       "      <th>cut</th>\n",
       "      <th>color</th>\n",
       "      <th>clarity</th>\n",
       "      <th>depth</th>\n",
       "      <th>table</th>\n",
       "      <th>price</th>\n",
       "      <th>x</th>\n",
       "      <th>y</th>\n",
       "      <th>z</th>\n",
       "    </tr>\n",
       "  </thead>\n",
       "  <tbody>\n",
       "    <tr>\n",
       "      <th>0</th>\n",
       "      <td>1</td>\n",
       "      <td>0.23</td>\n",
       "      <td>2</td>\n",
       "      <td>1</td>\n",
       "      <td>3</td>\n",
       "      <td>61.5</td>\n",
       "      <td>55.0</td>\n",
       "      <td>326</td>\n",
       "      <td>3.95</td>\n",
       "      <td>3.98</td>\n",
       "      <td>2.43</td>\n",
       "    </tr>\n",
       "    <tr>\n",
       "      <th>1</th>\n",
       "      <td>2</td>\n",
       "      <td>0.21</td>\n",
       "      <td>3</td>\n",
       "      <td>1</td>\n",
       "      <td>2</td>\n",
       "      <td>59.8</td>\n",
       "      <td>61.0</td>\n",
       "      <td>326</td>\n",
       "      <td>3.89</td>\n",
       "      <td>3.84</td>\n",
       "      <td>2.31</td>\n",
       "    </tr>\n",
       "    <tr>\n",
       "      <th>2</th>\n",
       "      <td>3</td>\n",
       "      <td>0.23</td>\n",
       "      <td>1</td>\n",
       "      <td>1</td>\n",
       "      <td>4</td>\n",
       "      <td>56.9</td>\n",
       "      <td>65.0</td>\n",
       "      <td>327</td>\n",
       "      <td>4.05</td>\n",
       "      <td>4.07</td>\n",
       "      <td>2.31</td>\n",
       "    </tr>\n",
       "    <tr>\n",
       "      <th>3</th>\n",
       "      <td>4</td>\n",
       "      <td>0.29</td>\n",
       "      <td>3</td>\n",
       "      <td>5</td>\n",
       "      <td>5</td>\n",
       "      <td>62.4</td>\n",
       "      <td>58.0</td>\n",
       "      <td>334</td>\n",
       "      <td>4.20</td>\n",
       "      <td>4.23</td>\n",
       "      <td>2.63</td>\n",
       "    </tr>\n",
       "    <tr>\n",
       "      <th>4</th>\n",
       "      <td>5</td>\n",
       "      <td>0.31</td>\n",
       "      <td>1</td>\n",
       "      <td>6</td>\n",
       "      <td>3</td>\n",
       "      <td>63.3</td>\n",
       "      <td>58.0</td>\n",
       "      <td>335</td>\n",
       "      <td>4.34</td>\n",
       "      <td>4.35</td>\n",
       "      <td>2.75</td>\n",
       "    </tr>\n",
       "  </tbody>\n",
       "</table>\n",
       "</div>"
      ],
      "text/plain": [
       "   Unnamed: 0  carat  cut  color  clarity  depth  table  price     x     y  \\\n",
       "0           1   0.23    2      1        3   61.5   55.0    326  3.95  3.98   \n",
       "1           2   0.21    3      1        2   59.8   61.0    326  3.89  3.84   \n",
       "2           3   0.23    1      1        4   56.9   65.0    327  4.05  4.07   \n",
       "3           4   0.29    3      5        5   62.4   58.0    334  4.20  4.23   \n",
       "4           5   0.31    1      6        3   63.3   58.0    335  4.34  4.35   \n",
       "\n",
       "      z  \n",
       "0  2.43  \n",
       "1  2.31  \n",
       "2  2.31  \n",
       "3  2.63  \n",
       "4  2.75  "
      ]
     },
     "execution_count": 4,
     "metadata": {},
     "output_type": "execute_result"
    }
   ],
   "source": [
    "from sklearn.preprocessing import LabelEncoder\n",
    "le=LabelEncoder()\n",
    "df[\"cut\"]=le.fit_transform(df[\"cut\"])\n",
    "df[\"color\"]=le.fit_transform(df[\"color\"])\n",
    "df[\"clarity\"]=le.fit_transform(df[\"clarity\"])\n",
    "df.head()"
   ]
  },
  {
   "cell_type": "code",
   "execution_count": 5,
   "id": "9546e00d",
   "metadata": {
    "execution": {
     "iopub.execute_input": "2022-08-27T14:37:22.347144Z",
     "iopub.status.busy": "2022-08-27T14:37:22.346758Z",
     "iopub.status.idle": "2022-08-27T14:37:22.372458Z",
     "shell.execute_reply": "2022-08-27T14:37:22.371272Z"
    },
    "papermill": {
     "duration": 0.037629,
     "end_time": "2022-08-27T14:37:22.375406",
     "exception": false,
     "start_time": "2022-08-27T14:37:22.337777",
     "status": "completed"
    },
    "tags": []
   },
   "outputs": [],
   "source": [
    "x=df[['carat', 'cut', 'color', 'clarity', 'depth', 'table', 'x', 'y', 'z']]\n",
    "y=df['price']\n",
    "import numpy as np\n",
    "x=np.array(x)\n",
    "y=np.array(y).reshape(-1,1)\n"
   ]
  },
  {
   "cell_type": "code",
   "execution_count": 6,
   "id": "bc2680d1",
   "metadata": {
    "execution": {
     "iopub.execute_input": "2022-08-27T14:37:22.392188Z",
     "iopub.status.busy": "2022-08-27T14:37:22.391822Z",
     "iopub.status.idle": "2022-08-27T14:37:22.403034Z",
     "shell.execute_reply": "2022-08-27T14:37:22.401974Z"
    },
    "papermill": {
     "duration": 0.022893,
     "end_time": "2022-08-27T14:37:22.405740",
     "exception": false,
     "start_time": "2022-08-27T14:37:22.382847",
     "status": "completed"
    },
    "tags": []
   },
   "outputs": [],
   "source": [
    "from sklearn.preprocessing import MinMaxScaler\n",
    "sc=MinMaxScaler()\n",
    "xsc=sc.fit_transform(x)\n",
    "ysc=sc.fit_transform(y)"
   ]
  },
  {
   "cell_type": "code",
   "execution_count": 7,
   "id": "d72c008e",
   "metadata": {
    "execution": {
     "iopub.execute_input": "2022-08-27T14:37:22.421352Z",
     "iopub.status.busy": "2022-08-27T14:37:22.420884Z",
     "iopub.status.idle": "2022-08-27T14:37:22.636125Z",
     "shell.execute_reply": "2022-08-27T14:37:22.634963Z"
    },
    "papermill": {
     "duration": 0.227401,
     "end_time": "2022-08-27T14:37:22.640060",
     "exception": false,
     "start_time": "2022-08-27T14:37:22.412659",
     "status": "completed"
    },
    "tags": []
   },
   "outputs": [
    {
     "data": {
      "text/plain": [
       "0.04612578084465609"
      ]
     },
     "execution_count": 7,
     "metadata": {},
     "output_type": "execute_result"
    }
   ],
   "source": [
    "from sklearn.model_selection import train_test_split\n",
    "x_train,x_test,y_train,y_test=train_test_split(xsc,ysc,test_size=0.3,random_state=1)\n",
    "from sklearn.linear_model import LinearRegression\n",
    "model=LinearRegression()\n",
    "model.fit(x_train,y_train)\n",
    "from sklearn.metrics import mean_absolute_error\n",
    "y_pred=model.predict(x_test)\n",
    "mean_absolute_error(y_test,y_pred)"
   ]
  },
  {
   "cell_type": "code",
   "execution_count": 8,
   "id": "e74243f9",
   "metadata": {
    "execution": {
     "iopub.execute_input": "2022-08-27T14:37:22.711356Z",
     "iopub.status.busy": "2022-08-27T14:37:22.710443Z",
     "iopub.status.idle": "2022-08-27T14:37:23.062789Z",
     "shell.execute_reply": "2022-08-27T14:37:23.061124Z"
    },
    "papermill": {
     "duration": 0.391386,
     "end_time": "2022-08-27T14:37:23.065559",
     "exception": false,
     "start_time": "2022-08-27T14:37:22.674173",
     "status": "completed"
    },
    "tags": []
   },
   "outputs": [
    {
     "data": {
      "text/plain": [
       "0.04612578084465609"
      ]
     },
     "execution_count": 8,
     "metadata": {},
     "output_type": "execute_result"
    }
   ],
   "source": [
    "from sklearn.tree import DecisionTreeRegressor\n",
    "regressor=DecisionTreeRegressor(random_state=1)\n",
    "regressor.fit(x_train,y_train)\n",
    "ypred=regressor.predict(x_train)\n",
    "mean_absolute_error(y_test,y_pred)\n"
   ]
  },
  {
   "cell_type": "code",
   "execution_count": 9,
   "id": "b9a890b4",
   "metadata": {
    "execution": {
     "iopub.execute_input": "2022-08-27T14:37:23.082386Z",
     "iopub.status.busy": "2022-08-27T14:37:23.081872Z",
     "iopub.status.idle": "2022-08-27T14:37:33.066522Z",
     "shell.execute_reply": "2022-08-27T14:37:33.065200Z"
    },
    "papermill": {
     "duration": 9.996335,
     "end_time": "2022-08-27T14:37:33.069192",
     "exception": false,
     "start_time": "2022-08-27T14:37:23.072857",
     "status": "completed"
    },
    "tags": []
   },
   "outputs": [
    {
     "data": {
      "text/html": [
       "<div>\n",
       "<style scoped>\n",
       "    .dataframe tbody tr th:only-of-type {\n",
       "        vertical-align: middle;\n",
       "    }\n",
       "\n",
       "    .dataframe tbody tr th {\n",
       "        vertical-align: top;\n",
       "    }\n",
       "\n",
       "    .dataframe thead th {\n",
       "        text-align: right;\n",
       "    }\n",
       "</style>\n",
       "<table border=\"1\" class=\"dataframe\">\n",
       "  <thead>\n",
       "    <tr style=\"text-align: right;\">\n",
       "      <th></th>\n",
       "      <th>fit_time</th>\n",
       "      <th>score_time</th>\n",
       "      <th>test_score</th>\n",
       "    </tr>\n",
       "  </thead>\n",
       "  <tbody>\n",
       "    <tr>\n",
       "      <th>0</th>\n",
       "      <td>0.238306</td>\n",
       "      <td>0.007284</td>\n",
       "      <td>0.019866</td>\n",
       "    </tr>\n",
       "    <tr>\n",
       "      <th>1</th>\n",
       "      <td>0.235604</td>\n",
       "      <td>0.007841</td>\n",
       "      <td>0.020185</td>\n",
       "    </tr>\n",
       "    <tr>\n",
       "      <th>2</th>\n",
       "      <td>0.236356</td>\n",
       "      <td>0.008450</td>\n",
       "      <td>0.020022</td>\n",
       "    </tr>\n",
       "    <tr>\n",
       "      <th>3</th>\n",
       "      <td>0.243571</td>\n",
       "      <td>0.007832</td>\n",
       "      <td>0.019833</td>\n",
       "    </tr>\n",
       "    <tr>\n",
       "      <th>4</th>\n",
       "      <td>0.255418</td>\n",
       "      <td>0.008154</td>\n",
       "      <td>0.019591</td>\n",
       "    </tr>\n",
       "    <tr>\n",
       "      <th>5</th>\n",
       "      <td>0.236508</td>\n",
       "      <td>0.007674</td>\n",
       "      <td>0.019825</td>\n",
       "    </tr>\n",
       "    <tr>\n",
       "      <th>6</th>\n",
       "      <td>0.237399</td>\n",
       "      <td>0.007766</td>\n",
       "      <td>0.019935</td>\n",
       "    </tr>\n",
       "    <tr>\n",
       "      <th>7</th>\n",
       "      <td>0.240575</td>\n",
       "      <td>0.008423</td>\n",
       "      <td>0.019600</td>\n",
       "    </tr>\n",
       "    <tr>\n",
       "      <th>8</th>\n",
       "      <td>0.240878</td>\n",
       "      <td>0.007662</td>\n",
       "      <td>0.019460</td>\n",
       "    </tr>\n",
       "    <tr>\n",
       "      <th>9</th>\n",
       "      <td>0.237323</td>\n",
       "      <td>0.008118</td>\n",
       "      <td>0.019688</td>\n",
       "    </tr>\n",
       "    <tr>\n",
       "      <th>10</th>\n",
       "      <td>0.238621</td>\n",
       "      <td>0.008299</td>\n",
       "      <td>0.019758</td>\n",
       "    </tr>\n",
       "    <tr>\n",
       "      <th>11</th>\n",
       "      <td>0.238791</td>\n",
       "      <td>0.008057</td>\n",
       "      <td>0.019885</td>\n",
       "    </tr>\n",
       "    <tr>\n",
       "      <th>12</th>\n",
       "      <td>0.241029</td>\n",
       "      <td>0.008480</td>\n",
       "      <td>0.019923</td>\n",
       "    </tr>\n",
       "    <tr>\n",
       "      <th>13</th>\n",
       "      <td>0.237300</td>\n",
       "      <td>0.007910</td>\n",
       "      <td>0.019955</td>\n",
       "    </tr>\n",
       "    <tr>\n",
       "      <th>14</th>\n",
       "      <td>0.236432</td>\n",
       "      <td>0.007770</td>\n",
       "      <td>0.019572</td>\n",
       "    </tr>\n",
       "    <tr>\n",
       "      <th>15</th>\n",
       "      <td>0.240112</td>\n",
       "      <td>0.008229</td>\n",
       "      <td>0.019948</td>\n",
       "    </tr>\n",
       "    <tr>\n",
       "      <th>16</th>\n",
       "      <td>0.239871</td>\n",
       "      <td>0.007729</td>\n",
       "      <td>0.019354</td>\n",
       "    </tr>\n",
       "    <tr>\n",
       "      <th>17</th>\n",
       "      <td>0.237972</td>\n",
       "      <td>0.008082</td>\n",
       "      <td>0.019379</td>\n",
       "    </tr>\n",
       "    <tr>\n",
       "      <th>18</th>\n",
       "      <td>0.235121</td>\n",
       "      <td>0.007787</td>\n",
       "      <td>0.019812</td>\n",
       "    </tr>\n",
       "    <tr>\n",
       "      <th>19</th>\n",
       "      <td>0.239254</td>\n",
       "      <td>0.008232</td>\n",
       "      <td>0.019881</td>\n",
       "    </tr>\n",
       "    <tr>\n",
       "      <th>20</th>\n",
       "      <td>0.237923</td>\n",
       "      <td>0.007792</td>\n",
       "      <td>0.019916</td>\n",
       "    </tr>\n",
       "    <tr>\n",
       "      <th>21</th>\n",
       "      <td>0.239187</td>\n",
       "      <td>0.008163</td>\n",
       "      <td>0.019594</td>\n",
       "    </tr>\n",
       "    <tr>\n",
       "      <th>22</th>\n",
       "      <td>0.239043</td>\n",
       "      <td>0.008357</td>\n",
       "      <td>0.020025</td>\n",
       "    </tr>\n",
       "    <tr>\n",
       "      <th>23</th>\n",
       "      <td>0.239358</td>\n",
       "      <td>0.008029</td>\n",
       "      <td>0.019741</td>\n",
       "    </tr>\n",
       "    <tr>\n",
       "      <th>24</th>\n",
       "      <td>0.238499</td>\n",
       "      <td>0.007745</td>\n",
       "      <td>0.019808</td>\n",
       "    </tr>\n",
       "    <tr>\n",
       "      <th>25</th>\n",
       "      <td>0.236593</td>\n",
       "      <td>0.008186</td>\n",
       "      <td>0.019864</td>\n",
       "    </tr>\n",
       "    <tr>\n",
       "      <th>26</th>\n",
       "      <td>0.236133</td>\n",
       "      <td>0.007418</td>\n",
       "      <td>0.020161</td>\n",
       "    </tr>\n",
       "    <tr>\n",
       "      <th>27</th>\n",
       "      <td>0.235707</td>\n",
       "      <td>0.007953</td>\n",
       "      <td>0.020155</td>\n",
       "    </tr>\n",
       "    <tr>\n",
       "      <th>28</th>\n",
       "      <td>0.238024</td>\n",
       "      <td>0.007703</td>\n",
       "      <td>0.019668</td>\n",
       "    </tr>\n",
       "    <tr>\n",
       "      <th>29</th>\n",
       "      <td>0.239469</td>\n",
       "      <td>0.007894</td>\n",
       "      <td>0.019902</td>\n",
       "    </tr>\n",
       "    <tr>\n",
       "      <th>30</th>\n",
       "      <td>0.234782</td>\n",
       "      <td>0.008079</td>\n",
       "      <td>0.019450</td>\n",
       "    </tr>\n",
       "    <tr>\n",
       "      <th>31</th>\n",
       "      <td>0.238978</td>\n",
       "      <td>0.008067</td>\n",
       "      <td>0.019936</td>\n",
       "    </tr>\n",
       "    <tr>\n",
       "      <th>32</th>\n",
       "      <td>0.239849</td>\n",
       "      <td>0.008251</td>\n",
       "      <td>0.019873</td>\n",
       "    </tr>\n",
       "    <tr>\n",
       "      <th>33</th>\n",
       "      <td>0.239780</td>\n",
       "      <td>0.007653</td>\n",
       "      <td>0.020036</td>\n",
       "    </tr>\n",
       "    <tr>\n",
       "      <th>34</th>\n",
       "      <td>0.239050</td>\n",
       "      <td>0.008630</td>\n",
       "      <td>0.019692</td>\n",
       "    </tr>\n",
       "    <tr>\n",
       "      <th>35</th>\n",
       "      <td>0.240089</td>\n",
       "      <td>0.008842</td>\n",
       "      <td>0.019402</td>\n",
       "    </tr>\n",
       "    <tr>\n",
       "      <th>36</th>\n",
       "      <td>0.238066</td>\n",
       "      <td>0.007479</td>\n",
       "      <td>0.020050</td>\n",
       "    </tr>\n",
       "    <tr>\n",
       "      <th>37</th>\n",
       "      <td>0.237380</td>\n",
       "      <td>0.007905</td>\n",
       "      <td>0.019408</td>\n",
       "    </tr>\n",
       "    <tr>\n",
       "      <th>38</th>\n",
       "      <td>0.238035</td>\n",
       "      <td>0.007346</td>\n",
       "      <td>0.019330</td>\n",
       "    </tr>\n",
       "    <tr>\n",
       "      <th>39</th>\n",
       "      <td>0.235500</td>\n",
       "      <td>0.008403</td>\n",
       "      <td>0.019477</td>\n",
       "    </tr>\n",
       "  </tbody>\n",
       "</table>\n",
       "</div>"
      ],
      "text/plain": [
       "    fit_time  score_time  test_score\n",
       "0   0.238306    0.007284    0.019866\n",
       "1   0.235604    0.007841    0.020185\n",
       "2   0.236356    0.008450    0.020022\n",
       "3   0.243571    0.007832    0.019833\n",
       "4   0.255418    0.008154    0.019591\n",
       "5   0.236508    0.007674    0.019825\n",
       "6   0.237399    0.007766    0.019935\n",
       "7   0.240575    0.008423    0.019600\n",
       "8   0.240878    0.007662    0.019460\n",
       "9   0.237323    0.008118    0.019688\n",
       "10  0.238621    0.008299    0.019758\n",
       "11  0.238791    0.008057    0.019885\n",
       "12  0.241029    0.008480    0.019923\n",
       "13  0.237300    0.007910    0.019955\n",
       "14  0.236432    0.007770    0.019572\n",
       "15  0.240112    0.008229    0.019948\n",
       "16  0.239871    0.007729    0.019354\n",
       "17  0.237972    0.008082    0.019379\n",
       "18  0.235121    0.007787    0.019812\n",
       "19  0.239254    0.008232    0.019881\n",
       "20  0.237923    0.007792    0.019916\n",
       "21  0.239187    0.008163    0.019594\n",
       "22  0.239043    0.008357    0.020025\n",
       "23  0.239358    0.008029    0.019741\n",
       "24  0.238499    0.007745    0.019808\n",
       "25  0.236593    0.008186    0.019864\n",
       "26  0.236133    0.007418    0.020161\n",
       "27  0.235707    0.007953    0.020155\n",
       "28  0.238024    0.007703    0.019668\n",
       "29  0.239469    0.007894    0.019902\n",
       "30  0.234782    0.008079    0.019450\n",
       "31  0.238978    0.008067    0.019936\n",
       "32  0.239849    0.008251    0.019873\n",
       "33  0.239780    0.007653    0.020036\n",
       "34  0.239050    0.008630    0.019692\n",
       "35  0.240089    0.008842    0.019402\n",
       "36  0.238066    0.007479    0.020050\n",
       "37  0.237380    0.007905    0.019408\n",
       "38  0.238035    0.007346    0.019330\n",
       "39  0.235500    0.008403    0.019477"
      ]
     },
     "execution_count": 9,
     "metadata": {},
     "output_type": "execute_result"
    }
   ],
   "source": [
    "from sklearn.model_selection import cross_validate,ShuffleSplit\n",
    "cv=ShuffleSplit(n_splits=40,test_size=0.3,random_state=1)\n",
    "cv_results=cross_validate(regressor,xsc,ysc,cv=cv,scoring=\"neg_mean_absolute_error\")\n",
    "cvresults=pd.DataFrame(cv_results)\n",
    "cvresults['test_score']=-cvresults[\"test_score\"]\n",
    "cvresults\n"
   ]
  },
  {
   "cell_type": "code",
   "execution_count": 10,
   "id": "a4128a62",
   "metadata": {
    "execution": {
     "iopub.execute_input": "2022-08-27T14:37:33.086828Z",
     "iopub.status.busy": "2022-08-27T14:37:33.086368Z",
     "iopub.status.idle": "2022-08-27T14:37:33.092858Z",
     "shell.execute_reply": "2022-08-27T14:37:33.091620Z"
    },
    "papermill": {
     "duration": 0.018189,
     "end_time": "2022-08-27T14:37:33.095145",
     "exception": false,
     "start_time": "2022-08-27T14:37:33.076956",
     "status": "completed"
    },
    "tags": []
   },
   "outputs": [],
   "source": [
    "m=cvresults.test_score.mean()\n",
    "s=cvresults.test_score.std()"
   ]
  },
  {
   "cell_type": "code",
   "execution_count": 11,
   "id": "84fc5731",
   "metadata": {
    "execution": {
     "iopub.execute_input": "2022-08-27T14:37:33.113591Z",
     "iopub.status.busy": "2022-08-27T14:37:33.112460Z",
     "iopub.status.idle": "2022-08-27T14:37:33.120445Z",
     "shell.execute_reply": "2022-08-27T14:37:33.119304Z"
    },
    "papermill": {
     "duration": 0.019689,
     "end_time": "2022-08-27T14:37:33.122685",
     "exception": false,
     "start_time": "2022-08-27T14:37:33.102996",
     "status": "completed"
    },
    "tags": []
   },
   "outputs": [
    {
     "data": {
      "text/plain": [
       "(0.02001278366619562, 0.019535205265514992)"
      ]
     },
     "execution_count": 11,
     "metadata": {},
     "output_type": "execute_result"
    }
   ],
   "source": [
    "m+s,m-s "
   ]
  },
  {
   "cell_type": "code",
   "execution_count": 12,
   "id": "343aac50",
   "metadata": {
    "execution": {
     "iopub.execute_input": "2022-08-27T14:37:33.140086Z",
     "iopub.status.busy": "2022-08-27T14:37:33.139656Z",
     "iopub.status.idle": "2022-08-27T14:37:33.415258Z",
     "shell.execute_reply": "2022-08-27T14:37:33.414377Z"
    },
    "papermill": {
     "duration": 0.287068,
     "end_time": "2022-08-27T14:37:33.417499",
     "exception": false,
     "start_time": "2022-08-27T14:37:33.130431",
     "status": "completed"
    },
    "tags": []
   },
   "outputs": [
    {
     "data": {
      "text/plain": [
       "<AxesSubplot:ylabel='Frequency'>"
      ]
     },
     "execution_count": 12,
     "metadata": {},
     "output_type": "execute_result"
    },
    {
     "data": {
      "image/png": "[encoded data removed]",
      "text/plain": [
       "<Figure size 432x288 with 1 Axes>"
      ]
     },
     "metadata": {
      "needs_background": "light"
     },
     "output_type": "display_data"
    }
   ],
   "source": [
    "import matplotlib.pyplot as plt\n",
    "cvresults[\"test_score\"].plot.hist(bins=10,edgecolor='black')\n"
   ]
  },
  {
   "cell_type": "code",
   "execution_count": 13,
   "id": "bcc39097",
   "metadata": {
    "execution": {
     "iopub.execute_input": "2022-08-27T14:37:33.435220Z",
     "iopub.status.busy": "2022-08-27T14:37:33.434802Z",
     "iopub.status.idle": "2022-08-27T14:37:33.668331Z",
     "shell.execute_reply": "2022-08-27T14:37:33.667300Z"
    },
    "papermill": {
     "duration": 0.24448,
     "end_time": "2022-08-27T14:37:33.670599",
     "exception": false,
     "start_time": "2022-08-27T14:37:33.426119",
     "status": "completed"
    },
    "tags": []
   },
   "outputs": [
    {
     "data": {
      "text/plain": [
       "<AxesSubplot:ylabel='Frequency'>"
      ]
     },
     "execution_count": 13,
     "metadata": {},
     "output_type": "execute_result"
    },
    {
     "data": {
      "image/png": "[encoded data removed]",
      "text/plain": [
       "<Figure size 432x288 with 1 Axes>"
      ]
     },
     "metadata": {
      "needs_background": "light"
     },
     "output_type": "display_data"
    }
   ],
   "source": [
    "df.price.plot.hist(bins=10,edgecolor='black')"
   ]
  },
  {
   "cell_type": "code",
   "execution_count": 14,
   "id": "f3c6bda5",
   "metadata": {
    "execution": {
     "iopub.execute_input": "2022-08-27T14:37:33.688992Z",
     "iopub.status.busy": "2022-08-27T14:37:33.688108Z",
     "iopub.status.idle": "2022-08-27T14:37:33.694989Z",
     "shell.execute_reply": "2022-08-27T14:37:33.694303Z"
    },
    "papermill": {
     "duration": 0.018222,
     "end_time": "2022-08-27T14:37:33.696896",
     "exception": false,
     "start_time": "2022-08-27T14:37:33.678674",
     "status": "completed"
    },
    "tags": []
   },
   "outputs": [
    {
     "data": {
      "text/plain": [
       "(3932.734293606214, 3989.3384468242402)"
      ]
     },
     "execution_count": 14,
     "metadata": {},
     "output_type": "execute_result"
    }
   ],
   "source": [
    "df.price.mean(),df.price.std()"
   ]
  },
  {
   "cell_type": "code",
   "execution_count": 15,
   "id": "d80b5197",
   "metadata": {
    "execution": {
     "iopub.execute_input": "2022-08-27T14:37:33.715180Z",
     "iopub.status.busy": "2022-08-27T14:37:33.714617Z",
     "iopub.status.idle": "2022-08-27T14:37:35.731005Z",
     "shell.execute_reply": "2022-08-27T14:37:35.729496Z"
    },
    "papermill": {
     "duration": 2.030416,
     "end_time": "2022-08-27T14:37:35.735561",
     "exception": false,
     "start_time": "2022-08-27T14:37:33.705145",
     "status": "completed"
    },
    "tags": []
   },
   "outputs": [],
   "source": [
    "cv1=ShuffleSplit(n_splits=40,test_size=0.3,random_state=1)\n",
    "cv1_results=cross_validate(model,xsc,ysc,cv=cv1,scoring=\"neg_mean_absolute_error\")\n",
    "cv1_results=pd.DataFrame(cv1_results)"
   ]
  },
  {
   "cell_type": "code",
   "execution_count": 16,
   "id": "8e26afc6",
   "metadata": {
    "execution": {
     "iopub.execute_input": "2022-08-27T14:37:35.813380Z",
     "iopub.status.busy": "2022-08-27T14:37:35.812508Z",
     "iopub.status.idle": "2022-08-27T14:37:35.834063Z",
     "shell.execute_reply": "2022-08-27T14:37:35.832783Z"
    },
    "papermill": {
     "duration": 0.068905,
     "end_time": "2022-08-27T14:37:35.838039",
     "exception": false,
     "start_time": "2022-08-27T14:37:35.769134",
     "status": "completed"
    },
    "tags": []
   },
   "outputs": [
    {
     "data": {
      "text/html": [
       "<div>\n",
       "<style scoped>\n",
       "    .dataframe tbody tr th:only-of-type {\n",
       "        vertical-align: middle;\n",
       "    }\n",
       "\n",
       "    .dataframe tbody tr th {\n",
       "        vertical-align: top;\n",
       "    }\n",
       "\n",
       "    .dataframe thead th {\n",
       "        text-align: right;\n",
       "    }\n",
       "</style>\n",
       "<table border=\"1\" class=\"dataframe\">\n",
       "  <thead>\n",
       "    <tr style=\"text-align: right;\">\n",
       "      <th></th>\n",
       "      <th>fit_time</th>\n",
       "      <th>score_time</th>\n",
       "      <th>test_score</th>\n",
       "    </tr>\n",
       "  </thead>\n",
       "  <tbody>\n",
       "    <tr>\n",
       "      <th>0</th>\n",
       "      <td>0.018002</td>\n",
       "      <td>0.007376</td>\n",
       "      <td>-0.046126</td>\n",
       "    </tr>\n",
       "    <tr>\n",
       "      <th>1</th>\n",
       "      <td>0.080898</td>\n",
       "      <td>0.001653</td>\n",
       "      <td>-0.046243</td>\n",
       "    </tr>\n",
       "    <tr>\n",
       "      <th>2</th>\n",
       "      <td>0.032005</td>\n",
       "      <td>0.001595</td>\n",
       "      <td>-0.046852</td>\n",
       "    </tr>\n",
       "    <tr>\n",
       "      <th>3</th>\n",
       "      <td>0.031355</td>\n",
       "      <td>0.001488</td>\n",
       "      <td>-0.047085</td>\n",
       "    </tr>\n",
       "    <tr>\n",
       "      <th>4</th>\n",
       "      <td>0.034321</td>\n",
       "      <td>0.001865</td>\n",
       "      <td>-0.046762</td>\n",
       "    </tr>\n",
       "  </tbody>\n",
       "</table>\n",
       "</div>"
      ],
      "text/plain": [
       "   fit_time  score_time  test_score\n",
       "0  0.018002    0.007376   -0.046126\n",
       "1  0.080898    0.001653   -0.046243\n",
       "2  0.032005    0.001595   -0.046852\n",
       "3  0.031355    0.001488   -0.047085\n",
       "4  0.034321    0.001865   -0.046762"
      ]
     },
     "execution_count": 16,
     "metadata": {},
     "output_type": "execute_result"
    }
   ],
   "source": [
    "cv1_results.head()"
   ]
  },
  {
   "cell_type": "code",
   "execution_count": 17,
   "id": "67d7dbc8",
   "metadata": {
    "execution": {
     "iopub.execute_input": "2022-08-27T14:37:35.862851Z",
     "iopub.status.busy": "2022-08-27T14:37:35.861870Z",
     "iopub.status.idle": "2022-08-27T14:37:35.869952Z",
     "shell.execute_reply": "2022-08-27T14:37:35.868967Z"
    },
    "papermill": {
     "duration": 0.020917,
     "end_time": "2022-08-27T14:37:35.872614",
     "exception": false,
     "start_time": "2022-08-27T14:37:35.851697",
     "status": "completed"
    },
    "tags": []
   },
   "outputs": [
    {
     "data": {
      "text/plain": [
       "(0.046643392412509734, 0.00029543539939025837)"
      ]
     },
     "execution_count": 17,
     "metadata": {},
     "output_type": "execute_result"
    }
   ],
   "source": [
    "cv1_results[\"test_score\"]=-cv1_results[\"test_score\"]\n",
    "score=cv1_results[\"test_score\"]\n",
    "rr=score.mean()\n",
    "ss=score.std()\n",
    "rr,ss\n"
   ]
  },
  {
   "cell_type": "code",
   "execution_count": null,
   "id": "7da408c5",
   "metadata": {
    "papermill": {
     "duration": 0.008278,
     "end_time": "2022-08-27T14:37:35.889354",
     "exception": false,
     "start_time": "2022-08-27T14:37:35.881076",
     "status": "completed"
    },
    "tags": []
   },
   "outputs": [],
   "source": []
  },
  {
   "cell_type": "code",
   "execution_count": 18,
   "id": "092559bd",
   "metadata": {
    "execution": {
     "iopub.execute_input": "2022-08-27T14:37:35.908513Z",
     "iopub.status.busy": "2022-08-27T14:37:35.907849Z",
     "iopub.status.idle": "2022-08-27T14:37:36.144148Z",
     "shell.execute_reply": "2022-08-27T14:37:36.142990Z"
    },
    "papermill": {
     "duration": 0.248797,
     "end_time": "2022-08-27T14:37:36.146670",
     "exception": false,
     "start_time": "2022-08-27T14:37:35.897873",
     "status": "completed"
    },
    "tags": []
   },
   "outputs": [
    {
     "data": {
      "text/plain": [
       "<AxesSubplot:ylabel='Frequency'>"
      ]
     },
     "execution_count": 18,
     "metadata": {},
     "output_type": "execute_result"
    },
    {
     "data": {
      "image/png": "[encoded data removed]",
      "text/plain": [
       "<Figure size 432x288 with 1 Axes>"
      ]
     },
     "metadata": {
      "needs_background": "light"
     },
     "output_type": "display_data"
    }
   ],
   "source": [
    "cv1_results[\"test_score\"].plot.hist(bins=10,edgecolor=\"black\")"
   ]
  },
  {
   "cell_type": "code",
   "execution_count": 19,
   "id": "58ab9d70",
   "metadata": {
    "execution": {
     "iopub.execute_input": "2022-08-27T14:37:36.166984Z",
     "iopub.status.busy": "2022-08-27T14:37:36.165888Z",
     "iopub.status.idle": "2022-08-27T14:37:39.342155Z",
     "shell.execute_reply": "2022-08-27T14:37:39.340979Z"
    },
    "papermill": {
     "duration": 3.189238,
     "end_time": "2022-08-27T14:37:39.344983",
     "exception": false,
     "start_time": "2022-08-27T14:37:36.155745",
     "status": "completed"
    },
    "tags": []
   },
   "outputs": [
    {
     "name": "stderr",
     "output_type": "stream",
     "text": [
      "/opt/conda/lib/python3.7/site-packages/ipykernel_launcher.py:3: DataConversionWarning: A column-vector y was passed when a 1d array was expected. Please change the shape of y to (n_samples,), for example using ravel().\n",
      "  This is separate from the ipykernel package so we can avoid doing imports until\n"
     ]
    },
    {
     "data": {
      "text/plain": [
       "0.015142132573901722"
      ]
     },
     "execution_count": 19,
     "metadata": {},
     "output_type": "execute_result"
    }
   ],
   "source": [
    "from sklearn.ensemble import RandomForestRegressor\n",
    "forest=RandomForestRegressor(n_estimators=20,random_state=0)\n",
    "forest.fit(x_train,y_train)\n",
    "yfor=forest.predict(x_test)\n",
    "mean_absolute_error(y_test,yfor)"
   ]
  },
  {
   "cell_type": "code",
   "execution_count": 20,
   "id": "369f468d",
   "metadata": {
    "execution": {
     "iopub.execute_input": "2022-08-27T14:37:39.365616Z",
     "iopub.status.busy": "2022-08-27T14:37:39.365195Z",
     "iopub.status.idle": "2022-08-27T14:39:42.840676Z",
     "shell.execute_reply": "2022-08-27T14:39:42.839321Z"
    },
    "papermill": {
     "duration": 123.499339,
     "end_time": "2022-08-27T14:39:42.853846",
     "exception": false,
     "start_time": "2022-08-27T14:37:39.354507",
     "status": "completed"
    },
    "tags": []
   },
   "outputs": [
    {
     "name": "stderr",
     "output_type": "stream",
     "text": [
      "/opt/conda/lib/python3.7/site-packages/sklearn/model_selection/_validation.py:680: DataConversionWarning: A column-vector y was passed when a 1d array was expected. Please change the shape of y to (n_samples,), for example using ravel().\n",
      "  estimator.fit(X_train, y_train, **fit_params)\n",
      "/opt/conda/lib/python3.7/site-packages/sklearn/model_selection/_validation.py:680: DataConversionWarning: A column-vector y was passed when a 1d array was expected. Please change the shape of y to (n_samples,), for example using ravel().\n",
      "  estimator.fit(X_train, y_train, **fit_params)\n",
      "/opt/conda/lib/python3.7/site-packages/sklearn/model_selection/_validation.py:680: DataConversionWarning: A column-vector y was passed when a 1d array was expected. Please change the shape of y to (n_samples,), for example using ravel().\n",
      "  estimator.fit(X_train, y_train, **fit_params)\n",
      "/opt/conda/lib/python3.7/site-packages/sklearn/model_selection/_validation.py:680: DataConversionWarning: A column-vector y was passed when a 1d array was expected. Please change the shape of y to (n_samples,), for example using ravel().\n",
      "  estimator.fit(X_train, y_train, **fit_params)\n",
      "/opt/conda/lib/python3.7/site-packages/sklearn/model_selection/_validation.py:680: DataConversionWarning: A column-vector y was passed when a 1d array was expected. Please change the shape of y to (n_samples,), for example using ravel().\n",
      "  estimator.fit(X_train, y_train, **fit_params)\n",
      "/opt/conda/lib/python3.7/site-packages/sklearn/model_selection/_validation.py:680: DataConversionWarning: A column-vector y was passed when a 1d array was expected. Please change the shape of y to (n_samples,), for example using ravel().\n",
      "  estimator.fit(X_train, y_train, **fit_params)\n",
      "/opt/conda/lib/python3.7/site-packages/sklearn/model_selection/_validation.py:680: DataConversionWarning: A column-vector y was passed when a 1d array was expected. Please change the shape of y to (n_samples,), for example using ravel().\n",
      "  estimator.fit(X_train, y_train, **fit_params)\n",
      "/opt/conda/lib/python3.7/site-packages/sklearn/model_selection/_validation.py:680: DataConversionWarning: A column-vector y was passed when a 1d array was expected. Please change the shape of y to (n_samples,), for example using ravel().\n",
      "  estimator.fit(X_train, y_train, **fit_params)\n",
      "/opt/conda/lib/python3.7/site-packages/sklearn/model_selection/_validation.py:680: DataConversionWarning: A column-vector y was passed when a 1d array was expected. Please change the shape of y to (n_samples,), for example using ravel().\n",
      "  estimator.fit(X_train, y_train, **fit_params)\n",
      "/opt/conda/lib/python3.7/site-packages/sklearn/model_selection/_validation.py:680: DataConversionWarning: A column-vector y was passed when a 1d array was expected. Please change the shape of y to (n_samples,), for example using ravel().\n",
      "  estimator.fit(X_train, y_train, **fit_params)\n",
      "/opt/conda/lib/python3.7/site-packages/sklearn/model_selection/_validation.py:680: DataConversionWarning: A column-vector y was passed when a 1d array was expected. Please change the shape of y to (n_samples,), for example using ravel().\n",
      "  estimator.fit(X_train, y_train, **fit_params)\n",
      "/opt/conda/lib/python3.7/site-packages/sklearn/model_selection/_validation.py:680: DataConversionWarning: A column-vector y was passed when a 1d array was expected. Please change the shape of y to (n_samples,), for example using ravel().\n",
      "  estimator.fit(X_train, y_train, **fit_params)\n",
      "/opt/conda/lib/python3.7/site-packages/sklearn/model_selection/_validation.py:680: DataConversionWarning: A column-vector y was passed when a 1d array was expected. Please change the shape of y to (n_samples,), for example using ravel().\n",
      "  estimator.fit(X_train, y_train, **fit_params)\n",
      "/opt/conda/lib/python3.7/site-packages/sklearn/model_selection/_validation.py:680: DataConversionWarning: A column-vector y was passed when a 1d array was expected. Please change the shape of y to (n_samples,), for example using ravel().\n",
      "  estimator.fit(X_train, y_train, **fit_params)\n",
      "/opt/conda/lib/python3.7/site-packages/sklearn/model_selection/_validation.py:680: DataConversionWarning: A column-vector y was passed when a 1d array was expected. Please change the shape of y to (n_samples,), for example using ravel().\n",
      "  estimator.fit(X_train, y_train, **fit_params)\n",
      "/opt/conda/lib/python3.7/site-packages/sklearn/model_selection/_validation.py:680: DataConversionWarning: A column-vector y was passed when a 1d array was expected. Please change the shape of y to (n_samples,), for example using ravel().\n",
      "  estimator.fit(X_train, y_train, **fit_params)\n",
      "/opt/conda/lib/python3.7/site-packages/sklearn/model_selection/_validation.py:680: DataConversionWarning: A column-vector y was passed when a 1d array was expected. Please change the shape of y to (n_samples,), for example using ravel().\n",
      "  estimator.fit(X_train, y_train, **fit_params)\n",
      "/opt/conda/lib/python3.7/site-packages/sklearn/model_selection/_validation.py:680: DataConversionWarning: A column-vector y was passed when a 1d array was expected. Please change the shape of y to (n_samples,), for example using ravel().\n",
      "  estimator.fit(X_train, y_train, **fit_params)\n",
      "/opt/conda/lib/python3.7/site-packages/sklearn/model_selection/_validation.py:680: DataConversionWarning: A column-vector y was passed when a 1d array was expected. Please change the shape of y to (n_samples,), for example using ravel().\n",
      "  estimator.fit(X_train, y_train, **fit_params)\n",
      "/opt/conda/lib/python3.7/site-packages/sklearn/model_selection/_validation.py:680: DataConversionWarning: A column-vector y was passed when a 1d array was expected. Please change the shape of y to (n_samples,), for example using ravel().\n",
      "  estimator.fit(X_train, y_train, **fit_params)\n",
      "/opt/conda/lib/python3.7/site-packages/sklearn/model_selection/_validation.py:680: DataConversionWarning: A column-vector y was passed when a 1d array was expected. Please change the shape of y to (n_samples,), for example using ravel().\n",
      "  estimator.fit(X_train, y_train, **fit_params)\n",
      "/opt/conda/lib/python3.7/site-packages/sklearn/model_selection/_validation.py:680: DataConversionWarning: A column-vector y was passed when a 1d array was expected. Please change the shape of y to (n_samples,), for example using ravel().\n",
      "  estimator.fit(X_train, y_train, **fit_params)\n",
      "/opt/conda/lib/python3.7/site-packages/sklearn/model_selection/_validation.py:680: DataConversionWarning: A column-vector y was passed when a 1d array was expected. Please change the shape of y to (n_samples,), for example using ravel().\n",
      "  estimator.fit(X_train, y_train, **fit_params)\n",
      "/opt/conda/lib/python3.7/site-packages/sklearn/model_selection/_validation.py:680: DataConversionWarning: A column-vector y was passed when a 1d array was expected. Please change the shape of y to (n_samples,), for example using ravel().\n",
      "  estimator.fit(X_train, y_train, **fit_params)\n",
      "/opt/conda/lib/python3.7/site-packages/sklearn/model_selection/_validation.py:680: DataConversionWarning: A column-vector y was passed when a 1d array was expected. Please change the shape of y to (n_samples,), for example using ravel().\n",
      "  estimator.fit(X_train, y_train, **fit_params)\n",
      "/opt/conda/lib/python3.7/site-packages/sklearn/model_selection/_validation.py:680: DataConversionWarning: A column-vector y was passed when a 1d array was expected. Please change the shape of y to (n_samples,), for example using ravel().\n",
      "  estimator.fit(X_train, y_train, **fit_params)\n",
      "/opt/conda/lib/python3.7/site-packages/sklearn/model_selection/_validation.py:680: DataConversionWarning: A column-vector y was passed when a 1d array was expected. Please change the shape of y to (n_samples,), for example using ravel().\n",
      "  estimator.fit(X_train, y_train, **fit_params)\n",
      "/opt/conda/lib/python3.7/site-packages/sklearn/model_selection/_validation.py:680: DataConversionWarning: A column-vector y was passed when a 1d array was expected. Please change the shape of y to (n_samples,), for example using ravel().\n",
      "  estimator.fit(X_train, y_train, **fit_params)\n",
      "/opt/conda/lib/python3.7/site-packages/sklearn/model_selection/_validation.py:680: DataConversionWarning: A column-vector y was passed when a 1d array was expected. Please change the shape of y to (n_samples,), for example using ravel().\n",
      "  estimator.fit(X_train, y_train, **fit_params)\n",
      "/opt/conda/lib/python3.7/site-packages/sklearn/model_selection/_validation.py:680: DataConversionWarning: A column-vector y was passed when a 1d array was expected. Please change the shape of y to (n_samples,), for example using ravel().\n",
      "  estimator.fit(X_train, y_train, **fit_params)\n",
      "/opt/conda/lib/python3.7/site-packages/sklearn/model_selection/_validation.py:680: DataConversionWarning: A column-vector y was passed when a 1d array was expected. Please change the shape of y to (n_samples,), for example using ravel().\n",
      "  estimator.fit(X_train, y_train, **fit_params)\n",
      "/opt/conda/lib/python3.7/site-packages/sklearn/model_selection/_validation.py:680: DataConversionWarning: A column-vector y was passed when a 1d array was expected. Please change the shape of y to (n_samples,), for example using ravel().\n",
      "  estimator.fit(X_train, y_train, **fit_params)\n",
      "/opt/conda/lib/python3.7/site-packages/sklearn/model_selection/_validation.py:680: DataConversionWarning: A column-vector y was passed when a 1d array was expected. Please change the shape of y to (n_samples,), for example using ravel().\n",
      "  estimator.fit(X_train, y_train, **fit_params)\n",
      "/opt/conda/lib/python3.7/site-packages/sklearn/model_selection/_validation.py:680: DataConversionWarning: A column-vector y was passed when a 1d array was expected. Please change the shape of y to (n_samples,), for example using ravel().\n",
      "  estimator.fit(X_train, y_train, **fit_params)\n",
      "/opt/conda/lib/python3.7/site-packages/sklearn/model_selection/_validation.py:680: DataConversionWarning: A column-vector y was passed when a 1d array was expected. Please change the shape of y to (n_samples,), for example using ravel().\n",
      "  estimator.fit(X_train, y_train, **fit_params)\n",
      "/opt/conda/lib/python3.7/site-packages/sklearn/model_selection/_validation.py:680: DataConversionWarning: A column-vector y was passed when a 1d array was expected. Please change the shape of y to (n_samples,), for example using ravel().\n",
      "  estimator.fit(X_train, y_train, **fit_params)\n",
      "/opt/conda/lib/python3.7/site-packages/sklearn/model_selection/_validation.py:680: DataConversionWarning: A column-vector y was passed when a 1d array was expected. Please change the shape of y to (n_samples,), for example using ravel().\n",
      "  estimator.fit(X_train, y_train, **fit_params)\n",
      "/opt/conda/lib/python3.7/site-packages/sklearn/model_selection/_validation.py:680: DataConversionWarning: A column-vector y was passed when a 1d array was expected. Please change the shape of y to (n_samples,), for example using ravel().\n",
      "  estimator.fit(X_train, y_train, **fit_params)\n",
      "/opt/conda/lib/python3.7/site-packages/sklearn/model_selection/_validation.py:680: DataConversionWarning: A column-vector y was passed when a 1d array was expected. Please change the shape of y to (n_samples,), for example using ravel().\n",
      "  estimator.fit(X_train, y_train, **fit_params)\n",
      "/opt/conda/lib/python3.7/site-packages/sklearn/model_selection/_validation.py:680: DataConversionWarning: A column-vector y was passed when a 1d array was expected. Please change the shape of y to (n_samples,), for example using ravel().\n",
      "  estimator.fit(X_train, y_train, **fit_params)\n"
     ]
    },
    {
     "data": {
      "text/html": [
       "<div>\n",
       "<style scoped>\n",
       "    .dataframe tbody tr th:only-of-type {\n",
       "        vertical-align: middle;\n",
       "    }\n",
       "\n",
       "    .dataframe tbody tr th {\n",
       "        vertical-align: top;\n",
       "    }\n",
       "\n",
       "    .dataframe thead th {\n",
       "        text-align: right;\n",
       "    }\n",
       "</style>\n",
       "<table border=\"1\" class=\"dataframe\">\n",
       "  <thead>\n",
       "    <tr style=\"text-align: right;\">\n",
       "      <th></th>\n",
       "      <th>fit_time</th>\n",
       "      <th>score_time</th>\n",
       "      <th>test_score</th>\n",
       "    </tr>\n",
       "  </thead>\n",
       "  <tbody>\n",
       "    <tr>\n",
       "      <th>0</th>\n",
       "      <td>2.980755</td>\n",
       "      <td>0.128818</td>\n",
       "      <td>-0.015142</td>\n",
       "    </tr>\n",
       "    <tr>\n",
       "      <th>1</th>\n",
       "      <td>2.955977</td>\n",
       "      <td>0.120901</td>\n",
       "      <td>-0.015484</td>\n",
       "    </tr>\n",
       "    <tr>\n",
       "      <th>2</th>\n",
       "      <td>3.018444</td>\n",
       "      <td>0.129603</td>\n",
       "      <td>-0.015069</td>\n",
       "    </tr>\n",
       "    <tr>\n",
       "      <th>3</th>\n",
       "      <td>3.060467</td>\n",
       "      <td>0.135675</td>\n",
       "      <td>-0.015250</td>\n",
       "    </tr>\n",
       "    <tr>\n",
       "      <th>4</th>\n",
       "      <td>2.938543</td>\n",
       "      <td>0.132952</td>\n",
       "      <td>-0.015219</td>\n",
       "    </tr>\n",
       "    <tr>\n",
       "      <th>5</th>\n",
       "      <td>2.982500</td>\n",
       "      <td>0.137124</td>\n",
       "      <td>-0.015284</td>\n",
       "    </tr>\n",
       "    <tr>\n",
       "      <th>6</th>\n",
       "      <td>2.945097</td>\n",
       "      <td>0.134075</td>\n",
       "      <td>-0.015153</td>\n",
       "    </tr>\n",
       "    <tr>\n",
       "      <th>7</th>\n",
       "      <td>2.962145</td>\n",
       "      <td>0.134314</td>\n",
       "      <td>-0.015224</td>\n",
       "    </tr>\n",
       "    <tr>\n",
       "      <th>8</th>\n",
       "      <td>2.954093</td>\n",
       "      <td>0.131516</td>\n",
       "      <td>-0.015006</td>\n",
       "    </tr>\n",
       "    <tr>\n",
       "      <th>9</th>\n",
       "      <td>2.984171</td>\n",
       "      <td>0.126328</td>\n",
       "      <td>-0.014948</td>\n",
       "    </tr>\n",
       "    <tr>\n",
       "      <th>10</th>\n",
       "      <td>2.932352</td>\n",
       "      <td>0.134298</td>\n",
       "      <td>-0.015268</td>\n",
       "    </tr>\n",
       "    <tr>\n",
       "      <th>11</th>\n",
       "      <td>2.938819</td>\n",
       "      <td>0.131004</td>\n",
       "      <td>-0.015066</td>\n",
       "    </tr>\n",
       "    <tr>\n",
       "      <th>12</th>\n",
       "      <td>2.976028</td>\n",
       "      <td>0.129080</td>\n",
       "      <td>-0.015269</td>\n",
       "    </tr>\n",
       "    <tr>\n",
       "      <th>13</th>\n",
       "      <td>2.928146</td>\n",
       "      <td>0.126171</td>\n",
       "      <td>-0.015178</td>\n",
       "    </tr>\n",
       "    <tr>\n",
       "      <th>14</th>\n",
       "      <td>2.947315</td>\n",
       "      <td>0.131777</td>\n",
       "      <td>-0.014919</td>\n",
       "    </tr>\n",
       "    <tr>\n",
       "      <th>15</th>\n",
       "      <td>2.919528</td>\n",
       "      <td>0.123477</td>\n",
       "      <td>-0.015061</td>\n",
       "    </tr>\n",
       "    <tr>\n",
       "      <th>16</th>\n",
       "      <td>2.917618</td>\n",
       "      <td>0.129201</td>\n",
       "      <td>-0.014660</td>\n",
       "    </tr>\n",
       "    <tr>\n",
       "      <th>17</th>\n",
       "      <td>2.997356</td>\n",
       "      <td>0.130350</td>\n",
       "      <td>-0.014872</td>\n",
       "    </tr>\n",
       "    <tr>\n",
       "      <th>18</th>\n",
       "      <td>2.943119</td>\n",
       "      <td>0.128692</td>\n",
       "      <td>-0.015254</td>\n",
       "    </tr>\n",
       "    <tr>\n",
       "      <th>19</th>\n",
       "      <td>2.961056</td>\n",
       "      <td>0.129953</td>\n",
       "      <td>-0.014823</td>\n",
       "    </tr>\n",
       "    <tr>\n",
       "      <th>20</th>\n",
       "      <td>2.947484</td>\n",
       "      <td>0.126906</td>\n",
       "      <td>-0.015303</td>\n",
       "    </tr>\n",
       "    <tr>\n",
       "      <th>21</th>\n",
       "      <td>2.923400</td>\n",
       "      <td>0.126657</td>\n",
       "      <td>-0.015086</td>\n",
       "    </tr>\n",
       "    <tr>\n",
       "      <th>22</th>\n",
       "      <td>2.945965</td>\n",
       "      <td>0.124074</td>\n",
       "      <td>-0.015275</td>\n",
       "    </tr>\n",
       "    <tr>\n",
       "      <th>23</th>\n",
       "      <td>2.952909</td>\n",
       "      <td>0.128108</td>\n",
       "      <td>-0.015291</td>\n",
       "    </tr>\n",
       "    <tr>\n",
       "      <th>24</th>\n",
       "      <td>2.918844</td>\n",
       "      <td>0.127794</td>\n",
       "      <td>-0.015309</td>\n",
       "    </tr>\n",
       "    <tr>\n",
       "      <th>25</th>\n",
       "      <td>2.932888</td>\n",
       "      <td>0.124649</td>\n",
       "      <td>-0.014905</td>\n",
       "    </tr>\n",
       "    <tr>\n",
       "      <th>26</th>\n",
       "      <td>2.949428</td>\n",
       "      <td>0.122728</td>\n",
       "      <td>-0.015210</td>\n",
       "    </tr>\n",
       "    <tr>\n",
       "      <th>27</th>\n",
       "      <td>2.959287</td>\n",
       "      <td>0.127790</td>\n",
       "      <td>-0.015231</td>\n",
       "    </tr>\n",
       "    <tr>\n",
       "      <th>28</th>\n",
       "      <td>2.932163</td>\n",
       "      <td>0.129003</td>\n",
       "      <td>-0.014973</td>\n",
       "    </tr>\n",
       "    <tr>\n",
       "      <th>29</th>\n",
       "      <td>2.999398</td>\n",
       "      <td>0.128160</td>\n",
       "      <td>-0.015190</td>\n",
       "    </tr>\n",
       "    <tr>\n",
       "      <th>30</th>\n",
       "      <td>2.965662</td>\n",
       "      <td>0.127923</td>\n",
       "      <td>-0.015018</td>\n",
       "    </tr>\n",
       "    <tr>\n",
       "      <th>31</th>\n",
       "      <td>2.948886</td>\n",
       "      <td>0.125998</td>\n",
       "      <td>-0.015003</td>\n",
       "    </tr>\n",
       "    <tr>\n",
       "      <th>32</th>\n",
       "      <td>2.937751</td>\n",
       "      <td>0.126267</td>\n",
       "      <td>-0.015123</td>\n",
       "    </tr>\n",
       "    <tr>\n",
       "      <th>33</th>\n",
       "      <td>2.958787</td>\n",
       "      <td>0.124510</td>\n",
       "      <td>-0.015258</td>\n",
       "    </tr>\n",
       "    <tr>\n",
       "      <th>34</th>\n",
       "      <td>2.942281</td>\n",
       "      <td>0.124469</td>\n",
       "      <td>-0.015245</td>\n",
       "    </tr>\n",
       "    <tr>\n",
       "      <th>35</th>\n",
       "      <td>2.933563</td>\n",
       "      <td>0.126088</td>\n",
       "      <td>-0.014994</td>\n",
       "    </tr>\n",
       "    <tr>\n",
       "      <th>36</th>\n",
       "      <td>2.939296</td>\n",
       "      <td>0.127216</td>\n",
       "      <td>-0.015458</td>\n",
       "    </tr>\n",
       "    <tr>\n",
       "      <th>37</th>\n",
       "      <td>2.948746</td>\n",
       "      <td>0.124879</td>\n",
       "      <td>-0.014946</td>\n",
       "    </tr>\n",
       "    <tr>\n",
       "      <th>38</th>\n",
       "      <td>2.945794</td>\n",
       "      <td>0.128475</td>\n",
       "      <td>-0.015122</td>\n",
       "    </tr>\n",
       "    <tr>\n",
       "      <th>39</th>\n",
       "      <td>2.931130</td>\n",
       "      <td>0.127184</td>\n",
       "      <td>-0.015250</td>\n",
       "    </tr>\n",
       "  </tbody>\n",
       "</table>\n",
       "</div>"
      ],
      "text/plain": [
       "    fit_time  score_time  test_score\n",
       "0   2.980755    0.128818   -0.015142\n",
       "1   2.955977    0.120901   -0.015484\n",
       "2   3.018444    0.129603   -0.015069\n",
       "3   3.060467    0.135675   -0.015250\n",
       "4   2.938543    0.132952   -0.015219\n",
       "5   2.982500    0.137124   -0.015284\n",
       "6   2.945097    0.134075   -0.015153\n",
       "7   2.962145    0.134314   -0.015224\n",
       "8   2.954093    0.131516   -0.015006\n",
       "9   2.984171    0.126328   -0.014948\n",
       "10  2.932352    0.134298   -0.015268\n",
       "11  2.938819    0.131004   -0.015066\n",
       "12  2.976028    0.129080   -0.015269\n",
       "13  2.928146    0.126171   -0.015178\n",
       "14  2.947315    0.131777   -0.014919\n",
       "15  2.919528    0.123477   -0.015061\n",
       "16  2.917618    0.129201   -0.014660\n",
       "17  2.997356    0.130350   -0.014872\n",
       "18  2.943119    0.128692   -0.015254\n",
       "19  2.961056    0.129953   -0.014823\n",
       "20  2.947484    0.126906   -0.015303\n",
       "21  2.923400    0.126657   -0.015086\n",
       "22  2.945965    0.124074   -0.015275\n",
       "23  2.952909    0.128108   -0.015291\n",
       "24  2.918844    0.127794   -0.015309\n",
       "25  2.932888    0.124649   -0.014905\n",
       "26  2.949428    0.122728   -0.015210\n",
       "27  2.959287    0.127790   -0.015231\n",
       "28  2.932163    0.129003   -0.014973\n",
       "29  2.999398    0.128160   -0.015190\n",
       "30  2.965662    0.127923   -0.015018\n",
       "31  2.948886    0.125998   -0.015003\n",
       "32  2.937751    0.126267   -0.015123\n",
       "33  2.958787    0.124510   -0.015258\n",
       "34  2.942281    0.124469   -0.015245\n",
       "35  2.933563    0.126088   -0.014994\n",
       "36  2.939296    0.127216   -0.015458\n",
       "37  2.948746    0.124879   -0.014946\n",
       "38  2.945794    0.128475   -0.015122\n",
       "39  2.931130    0.127184   -0.015250"
      ]
     },
     "execution_count": 20,
     "metadata": {},
     "output_type": "execute_result"
    }
   ],
   "source": [
    "cv2=ShuffleSplit(n_splits=40,test_size=0.3,random_state=1)\n",
    "cv2_result=cross_validate(forest,xsc,ysc,cv=cv2,scoring=\"neg_mean_absolute_error\")\n",
    "cv2result=pd.DataFrame(cv2_result)\n",
    "cv2result"
   ]
  },
  {
   "cell_type": "code",
   "execution_count": 21,
   "id": "ad5198b9",
   "metadata": {
    "execution": {
     "iopub.execute_input": "2022-08-27T14:39:42.879375Z",
     "iopub.status.busy": "2022-08-27T14:39:42.878923Z",
     "iopub.status.idle": "2022-08-27T14:39:42.887780Z",
     "shell.execute_reply": "2022-08-27T14:39:42.886830Z"
    },
    "papermill": {
     "duration": 0.024462,
     "end_time": "2022-08-27T14:39:42.890410",
     "exception": false,
     "start_time": "2022-08-27T14:39:42.865948",
     "status": "completed"
    },
    "tags": []
   },
   "outputs": [
    {
     "data": {
      "text/plain": [
       "0     0.015142\n",
       "1     0.015484\n",
       "2     0.015069\n",
       "3     0.015250\n",
       "4     0.015219\n",
       "5     0.015284\n",
       "6     0.015153\n",
       "7     0.015224\n",
       "8     0.015006\n",
       "9     0.014948\n",
       "10    0.015268\n",
       "11    0.015066\n",
       "12    0.015269\n",
       "13    0.015178\n",
       "14    0.014919\n",
       "15    0.015061\n",
       "16    0.014660\n",
       "17    0.014872\n",
       "18    0.015254\n",
       "19    0.014823\n",
       "20    0.015303\n",
       "21    0.015086\n",
       "22    0.015275\n",
       "23    0.015291\n",
       "24    0.015309\n",
       "25    0.014905\n",
       "26    0.015210\n",
       "27    0.015231\n",
       "28    0.014973\n",
       "29    0.015190\n",
       "30    0.015018\n",
       "31    0.015003\n",
       "32    0.015123\n",
       "33    0.015258\n",
       "34    0.015245\n",
       "35    0.014994\n",
       "36    0.015458\n",
       "37    0.014946\n",
       "38    0.015122\n",
       "39    0.015250\n",
       "Name: test_score, dtype: float64"
      ]
     },
     "execution_count": 21,
     "metadata": {},
     "output_type": "execute_result"
    }
   ],
   "source": [
    "cv2result[\"test_score\"]=-cv2result[\"test_score\"]\n",
    "cv2result[\"test_score\"]"
   ]
  },
  {
   "cell_type": "code",
   "execution_count": 22,
   "id": "ba4855bb",
   "metadata": {
    "execution": {
     "iopub.execute_input": "2022-08-27T14:39:42.915985Z",
     "iopub.status.busy": "2022-08-27T14:39:42.915206Z",
     "iopub.status.idle": "2022-08-27T14:39:42.922963Z",
     "shell.execute_reply": "2022-08-27T14:39:42.922129Z"
    },
    "papermill": {
     "duration": 0.022861,
     "end_time": "2022-08-27T14:39:42.924964",
     "exception": false,
     "start_time": "2022-08-27T14:39:42.902103",
     "status": "completed"
    },
    "tags": []
   },
   "outputs": [
    {
     "data": {
      "text/plain": [
       "(0.015133353577222942, 0.0001726846421647283)"
      ]
     },
     "execution_count": 22,
     "metadata": {},
     "output_type": "execute_result"
    }
   ],
   "source": [
    "forest_mean=cv2result['test_score'].mean()\n",
    "forest_std=cv2result[\"test_score\"].std()\n",
    "forest_mean,forest_std"
   ]
  },
  {
   "cell_type": "code",
   "execution_count": 23,
   "id": "7370cfcf",
   "metadata": {
    "execution": {
     "iopub.execute_input": "2022-08-27T14:39:42.951786Z",
     "iopub.status.busy": "2022-08-27T14:39:42.950875Z",
     "iopub.status.idle": "2022-08-27T14:39:43.173782Z",
     "shell.execute_reply": "2022-08-27T14:39:43.172568Z"
    },
    "papermill": {
     "duration": 0.239046,
     "end_time": "2022-08-27T14:39:43.176291",
     "exception": false,
     "start_time": "2022-08-27T14:39:42.937245",
     "status": "completed"
    },
    "tags": []
   },
   "outputs": [
    {
     "data": {
      "text/plain": [
       "<AxesSubplot:ylabel='Frequency'>"
      ]
     },
     "execution_count": 23,
     "metadata": {},
     "output_type": "execute_result"
    },
    {
     "data": {
      "image/png": "[encoded data removed]",
      "text/plain": [
       "<Figure size 432x288 with 1 Axes>"
      ]
     },
     "metadata": {
      "needs_background": "light"
     },
     "output_type": "display_data"
    }
   ],
   "source": [
    "cv2result['test_score'].plot.hist(bins=10,edgecolor='black')"
   ]
  }
 ],
 "metadata": {
  "kernelspec": {
   "display_name": "Python 3",
   "language": "python",
   "name": "python3"
  },
  "language_info": {
   "codemirror_mode": {
    "name": "ipython",
    "version": 3
   },
   "file_extension": ".py",
   "mimetype": "text/x-python",
   "name": "python",
   "nbconvert_exporter": "python",
   "pygments_lexer": "ipython3",
   "version": "3.7.12"
  },
  "papermill": {
   "default_parameters": {},
   "duration": 151.906341,
   "end_time": "2022-08-27T14:39:44.013483",
   "environment_variables": {},
   "exception": null,
   "input_path": "__notebook__.ipynb",
   "output_path": "__notebook__.ipynb",
   "parameters": {},
   "start_time": "2022-08-27T14:37:12.107142",
   "version": "2.3.4"
  }
 },
 "nbformat": 4,
 "nbformat_minor": 5
}
