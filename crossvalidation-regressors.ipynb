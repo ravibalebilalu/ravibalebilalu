{
 "cells": [
  {
   "cell_type": "code",
   "execution_count": 1,
   "id": "c6880bce",
   "metadata": {
    "execution": {
     "iopub.execute_input": "2022-08-27T14:40:17.632555Z",
     "iopub.status.busy": "2022-08-27T14:40:17.631540Z",
     "iopub.status.idle": "2022-08-27T14:40:17.774048Z",
     "shell.execute_reply": "2022-08-27T14:40:17.772918Z"
    },
    "papermill": {
     "duration": 0.155586,
     "end_time": "2022-08-27T14:40:17.777471",
     "exception": false,
     "start_time": "2022-08-27T14:40:17.621885",
     "status": "completed"
    },
    "tags": []
   },
   "outputs": [
    {
     "data": {
      "text/html": [
       "<div>\n",
       "<style scoped>\n",
       "    .dataframe tbody tr th:only-of-type {\n",
       "        vertical-align: middle;\n",
       "    }\n",
       "\n",
       "    .dataframe tbody tr th {\n",
       "        vertical-align: top;\n",
       "    }\n",
       "\n",
       "    .dataframe thead th {\n",
       "        text-align: right;\n",
       "    }\n",
       "</style>\n",
       "<table border=\"1\" class=\"dataframe\">\n",
       "  <thead>\n",
       "    <tr style=\"text-align: right;\">\n",
       "      <th></th>\n",
       "      <th>Unnamed: 0</th>\n",
       "      <th>carat</th>\n",
       "      <th>cut</th>\n",
       "      <th>color</th>\n",
       "      <th>clarity</th>\n",
       "      <th>depth</th>\n",
       "      <th>table</th>\n",
       "      <th>price</th>\n",
       "      <th>x</th>\n",
       "      <th>y</th>\n",
       "      <th>z</th>\n",
       "    </tr>\n",
       "  </thead>\n",
       "  <tbody>\n",
       "    <tr>\n",
       "      <th>0</th>\n",
       "      <td>1</td>\n",
       "      <td>0.23</td>\n",
       "      <td>Ideal</td>\n",
       "      <td>E</td>\n",
       "      <td>SI2</td>\n",
       "      <td>61.5</td>\n",
       "      <td>55.0</td>\n",
       "      <td>326</td>\n",
       "      <td>3.95</td>\n",
       "      <td>3.98</td>\n",
       "      <td>2.43</td>\n",
       "    </tr>\n",
       "    <tr>\n",
       "      <th>1</th>\n",
       "      <td>2</td>\n",
       "      <td>0.21</td>\n",
       "      <td>Premium</td>\n",
       "      <td>E</td>\n",
       "      <td>SI1</td>\n",
       "      <td>59.8</td>\n",
       "      <td>61.0</td>\n",
       "      <td>326</td>\n",
       "      <td>3.89</td>\n",
       "      <td>3.84</td>\n",
       "      <td>2.31</td>\n",
       "    </tr>\n",
       "    <tr>\n",
       "      <th>2</th>\n",
       "      <td>3</td>\n",
       "      <td>0.23</td>\n",
       "      <td>Good</td>\n",
       "      <td>E</td>\n",
       "      <td>VS1</td>\n",
       "      <td>56.9</td>\n",
       "      <td>65.0</td>\n",
       "      <td>327</td>\n",
       "      <td>4.05</td>\n",
       "      <td>4.07</td>\n",
       "      <td>2.31</td>\n",
       "    </tr>\n",
       "    <tr>\n",
       "      <th>3</th>\n",
       "      <td>4</td>\n",
       "      <td>0.29</td>\n",
       "      <td>Premium</td>\n",
       "      <td>I</td>\n",
       "      <td>VS2</td>\n",
       "      <td>62.4</td>\n",
       "      <td>58.0</td>\n",
       "      <td>334</td>\n",
       "      <td>4.20</td>\n",
       "      <td>4.23</td>\n",
       "      <td>2.63</td>\n",
       "    </tr>\n",
       "    <tr>\n",
       "      <th>4</th>\n",
       "      <td>5</td>\n",
       "      <td>0.31</td>\n",
       "      <td>Good</td>\n",
       "      <td>J</td>\n",
       "      <td>SI2</td>\n",
       "      <td>63.3</td>\n",
       "      <td>58.0</td>\n",
       "      <td>335</td>\n",
       "      <td>4.34</td>\n",
       "      <td>4.35</td>\n",
       "      <td>2.75</td>\n",
       "    </tr>\n",
       "  </tbody>\n",
       "</table>\n",
       "</div>"
      ],
      "text/plain": [
       "   Unnamed: 0  carat      cut color clarity  depth  table  price     x     y  \\\n",
       "0           1   0.23    Ideal     E     SI2   61.5   55.0    326  3.95  3.98   \n",
       "1           2   0.21  Premium     E     SI1   59.8   61.0    326  3.89  3.84   \n",
       "2           3   0.23     Good     E     VS1   56.9   65.0    327  4.05  4.07   \n",
       "3           4   0.29  Premium     I     VS2   62.4   58.0    334  4.20  4.23   \n",
       "4           5   0.31     Good     J     SI2   63.3   58.0    335  4.34  4.35   \n",
       "\n",
       "      z  \n",
       "0  2.43  \n",
       "1  2.31  \n",
       "2  2.31  \n",
       "3  2.63  \n",
       "4  2.75  "
      ]
     },
     "execution_count": 1,
     "metadata": {},
     "output_type": "execute_result"
    }
   ],
   "source": [
    "import pandas as pd\n",
    "df=pd.read_csv(\"../input/diamonds-prices/Diamonds Prices2022.csv\")\n",
    "df.head()"
   ]
  },
  {
   "cell_type": "code",
   "execution_count": null,
   "id": "1bee0702",
   "metadata": {
    "papermill": {
     "duration": 0.006246,
     "end_time": "2022-08-27T14:40:17.790395",
     "exception": false,
     "start_time": "2022-08-27T14:40:17.784149",
     "status": "completed"
    },
    "tags": []
   },
   "outputs": [],
   "source": []
  },
  {
   "cell_type": "code",
   "execution_count": 2,
   "id": "c2ce5dc9",
   "metadata": {
    "execution": {
     "iopub.execute_input": "2022-08-27T14:40:17.805320Z",
     "iopub.status.busy": "2022-08-27T14:40:17.804340Z",
     "iopub.status.idle": "2022-08-27T14:40:17.821578Z",
     "shell.execute_reply": "2022-08-27T14:40:17.820275Z"
    },
    "papermill": {
     "duration": 0.027355,
     "end_time": "2022-08-27T14:40:17.824133",
     "exception": false,
     "start_time": "2022-08-27T14:40:17.796778",
     "status": "completed"
    },
    "tags": []
   },
   "outputs": [
    {
     "data": {
      "text/plain": [
       "Unnamed: 0    False\n",
       "carat         False\n",
       "cut           False\n",
       "color         False\n",
       "clarity       False\n",
       "depth         False\n",
       "table         False\n",
       "price         False\n",
       "x             False\n",
       "y             False\n",
       "z             False\n",
       "dtype: bool"
      ]
     },
     "execution_count": 2,
     "metadata": {},
     "output_type": "execute_result"
    }
   ],
   "source": [
    "df.isnull().any()"
   ]
  },
  {
   "cell_type": "code",
   "execution_count": 3,
   "id": "7c8828a9",
   "metadata": {
    "execution": {
     "iopub.execute_input": "2022-08-27T14:40:17.839460Z",
     "iopub.status.busy": "2022-08-27T14:40:17.838742Z",
     "iopub.status.idle": "2022-08-27T14:40:17.846112Z",
     "shell.execute_reply": "2022-08-27T14:40:17.845169Z"
    },
    "papermill": {
     "duration": 0.017646,
     "end_time": "2022-08-27T14:40:17.848475",
     "exception": false,
     "start_time": "2022-08-27T14:40:17.830829",
     "status": "completed"
    },
    "tags": []
   },
   "outputs": [
    {
     "data": {
      "text/plain": [
       "Unnamed: 0      int64\n",
       "carat         float64\n",
       "cut            object\n",
       "color          object\n",
       "clarity        object\n",
       "depth         float64\n",
       "table         float64\n",
       "price           int64\n",
       "x             float64\n",
       "y             float64\n",
       "z             float64\n",
       "dtype: object"
      ]
     },
     "execution_count": 3,
     "metadata": {},
     "output_type": "execute_result"
    }
   ],
   "source": [
    "df.dtypes"
   ]
  },
  {
   "cell_type": "code",
   "execution_count": 4,
   "id": "dbe6e6f3",
   "metadata": {
    "execution": {
     "iopub.execute_input": "2022-08-27T14:40:17.863749Z",
     "iopub.status.busy": "2022-08-27T14:40:17.863042Z",
     "iopub.status.idle": "2022-08-27T14:40:18.941319Z",
     "shell.execute_reply": "2022-08-27T14:40:18.940055Z"
    },
    "papermill": {
     "duration": 1.088823,
     "end_time": "2022-08-27T14:40:18.943862",
     "exception": false,
     "start_time": "2022-08-27T14:40:17.855039",
     "status": "completed"
    },
    "tags": []
   },
   "outputs": [
    {
     "data": {
      "text/html": [
       "<div>\n",
       "<style scoped>\n",
       "    .dataframe tbody tr th:only-of-type {\n",
       "        vertical-align: middle;\n",
       "    }\n",
       "\n",
       "    .dataframe tbody tr th {\n",
       "        vertical-align: top;\n",
       "    }\n",
       "\n",
       "    .dataframe thead th {\n",
       "        text-align: right;\n",
       "    }\n",
       "</style>\n",
       "<table border=\"1\" class=\"dataframe\">\n",
       "  <thead>\n",
       "    <tr style=\"text-align: right;\">\n",
       "      <th></th>\n",
       "      <th>Unnamed: 0</th>\n",
       "      <th>carat</th>\n",
       "      <th>cut</th>\n",
       "      <th>color</th>\n",
       "      <th>clarity</th>\n",
       "      <th>depth</th>\n",
       "      <th>table</th>\n",
       "      <th>price</th>\n",
       "      <th>x</th>\n",
       "      <th>y</th>\n",
       "      <th>z</th>\n",
       "    </tr>\n",
       "  </thead>\n",
       "  <tbody>\n",
       "    <tr>\n",
       "      <th>0</th>\n",
       "      <td>1</td>\n",
       "      <td>0.23</td>\n",
       "      <td>2</td>\n",
       "      <td>1</td>\n",
       "      <td>3</td>\n",
       "      <td>61.5</td>\n",
       "      <td>55.0</td>\n",
       "      <td>326</td>\n",
       "      <td>3.95</td>\n",
       "      <td>3.98</td>\n",
       "      <td>2.43</td>\n",
       "    </tr>\n",
       "    <tr>\n",
       "      <th>1</th>\n",
       "      <td>2</td>\n",
       "      <td>0.21</td>\n",
       "      <td>3</td>\n",
       "      <td>1</td>\n",
       "      <td>2</td>\n",
       "      <td>59.8</td>\n",
       "      <td>61.0</td>\n",
       "      <td>326</td>\n",
       "      <td>3.89</td>\n",
       "      <td>3.84</td>\n",
       "      <td>2.31</td>\n",
       "    </tr>\n",
       "    <tr>\n",
       "      <th>2</th>\n",
       "      <td>3</td>\n",
       "      <td>0.23</td>\n",
       "      <td>1</td>\n",
       "      <td>1</td>\n",
       "      <td>4</td>\n",
       "      <td>56.9</td>\n",
       "      <td>65.0</td>\n",
       "      <td>327</td>\n",
       "      <td>4.05</td>\n",
       "      <td>4.07</td>\n",
       "      <td>2.31</td>\n",
       "    </tr>\n",
       "    <tr>\n",
       "      <th>3</th>\n",
       "      <td>4</td>\n",
       "      <td>0.29</td>\n",
       "      <td>3</td>\n",
       "      <td>5</td>\n",
       "      <td>5</td>\n",
       "      <td>62.4</td>\n",
       "      <td>58.0</td>\n",
       "      <td>334</td>\n",
       "      <td>4.20</td>\n",
       "      <td>4.23</td>\n",
       "      <td>2.63</td>\n",
       "    </tr>\n",
       "    <tr>\n",
       "      <th>4</th>\n",
       "      <td>5</td>\n",
       "      <td>0.31</td>\n",
       "      <td>1</td>\n",
       "      <td>6</td>\n",
       "      <td>3</td>\n",
       "      <td>63.3</td>\n",
       "      <td>58.0</td>\n",
       "      <td>335</td>\n",
       "      <td>4.34</td>\n",
       "      <td>4.35</td>\n",
       "      <td>2.75</td>\n",
       "    </tr>\n",
       "  </tbody>\n",
       "</table>\n",
       "</div>"
      ],
      "text/plain": [
       "   Unnamed: 0  carat  cut  color  clarity  depth  table  price     x     y  \\\n",
       "0           1   0.23    2      1        3   61.5   55.0    326  3.95  3.98   \n",
       "1           2   0.21    3      1        2   59.8   61.0    326  3.89  3.84   \n",
       "2           3   0.23    1      1        4   56.9   65.0    327  4.05  4.07   \n",
       "3           4   0.29    3      5        5   62.4   58.0    334  4.20  4.23   \n",
       "4           5   0.31    1      6        3   63.3   58.0    335  4.34  4.35   \n",
       "\n",
       "      z  \n",
       "0  2.43  \n",
       "1  2.31  \n",
       "2  2.31  \n",
       "3  2.63  \n",
       "4  2.75  "
      ]
     },
     "execution_count": 4,
     "metadata": {},
     "output_type": "execute_result"
    }
   ],
   "source": [
    "from sklearn.preprocessing import LabelEncoder\n",
    "le=LabelEncoder()\n",
    "df[\"cut\"]=le.fit_transform(df[\"cut\"])\n",
    "df[\"color\"]=le.fit_transform(df[\"color\"])\n",
    "df[\"clarity\"]=le.fit_transform(df[\"clarity\"])\n",
    "df.head()"
   ]
  },
  {
   "cell_type": "code",
   "execution_count": 5,
   "id": "dad33033",
   "metadata": {
    "execution": {
     "iopub.execute_input": "2022-08-27T14:40:18.959588Z",
     "iopub.status.busy": "2022-08-27T14:40:18.959127Z",
     "iopub.status.idle": "2022-08-27T14:40:18.985591Z",
     "shell.execute_reply": "2022-08-27T14:40:18.984312Z"
    },
    "papermill": {
     "duration": 0.037322,
     "end_time": "2022-08-27T14:40:18.988171",
     "exception": false,
     "start_time": "2022-08-27T14:40:18.950849",
     "status": "completed"
    },
    "tags": []
   },
   "outputs": [],
   "source": [
    "x=df[['carat', 'cut', 'color', 'clarity', 'depth', 'table', 'x', 'y', 'z']]\n",
    "y=df['price']\n",
    "import numpy as np\n",
    "x=np.array(x)\n",
    "y=np.array(y).reshape(-1,1)\n"
   ]
  },
  {
   "cell_type": "code",
   "execution_count": 6,
   "id": "41243ccf",
   "metadata": {
    "execution": {
     "iopub.execute_input": "2022-08-27T14:40:19.003957Z",
     "iopub.status.busy": "2022-08-27T14:40:19.003529Z",
     "iopub.status.idle": "2022-08-27T14:40:19.016375Z",
     "shell.execute_reply": "2022-08-27T14:40:19.015100Z"
    },
    "papermill": {
     "duration": 0.024257,
     "end_time": "2022-08-27T14:40:19.019442",
     "exception": false,
     "start_time": "2022-08-27T14:40:18.995185",
     "status": "completed"
    },
    "tags": []
   },
   "outputs": [],
   "source": [
    "from sklearn.preprocessing import MinMaxScaler\n",
    "sc=MinMaxScaler()\n",
    "xsc=sc.fit_transform(x)\n",
    "ysc=sc.fit_transform(y)"
   ]
  },
  {
   "cell_type": "code",
   "execution_count": 7,
   "id": "7f5c9b92",
   "metadata": {
    "execution": {
     "iopub.execute_input": "2022-08-27T14:40:19.035852Z",
     "iopub.status.busy": "2022-08-27T14:40:19.034990Z",
     "iopub.status.idle": "2022-08-27T14:40:19.228601Z",
     "shell.execute_reply": "2022-08-27T14:40:19.227338Z"
    },
    "papermill": {
     "duration": 0.206256,
     "end_time": "2022-08-27T14:40:19.232707",
     "exception": false,
     "start_time": "2022-08-27T14:40:19.026451",
     "status": "completed"
    },
    "tags": []
   },
   "outputs": [
    {
     "data": {
      "text/plain": [
       "0.04612578084465609"
      ]
     },
     "execution_count": 7,
     "metadata": {},
     "output_type": "execute_result"
    }
   ],
   "source": [
    "from sklearn.model_selection import train_test_split\n",
    "x_train,x_test,y_train,y_test=train_test_split(xsc,ysc,test_size=0.3,random_state=1)\n",
    "from sklearn.linear_model import LinearRegression\n",
    "model=LinearRegression()\n",
    "model.fit(x_train,y_train)\n",
    "from sklearn.metrics import mean_absolute_error\n",
    "y_pred=model.predict(x_test)\n",
    "mean_absolute_error(y_test,y_pred)"
   ]
  },
  {
   "cell_type": "code",
   "execution_count": 8,
   "id": "dc69121b",
   "metadata": {
    "execution": {
     "iopub.execute_input": "2022-08-27T14:40:19.271057Z",
     "iopub.status.busy": "2022-08-27T14:40:19.270383Z",
     "iopub.status.idle": "2022-08-27T14:40:19.618765Z",
     "shell.execute_reply": "2022-08-27T14:40:19.617474Z"
    },
    "papermill": {
     "duration": 0.371184,
     "end_time": "2022-08-27T14:40:19.621524",
     "exception": false,
     "start_time": "2022-08-27T14:40:19.250340",
     "status": "completed"
    },
    "tags": []
   },
   "outputs": [
    {
     "data": {
      "text/plain": [
       "0.04612578084465609"
      ]
     },
     "execution_count": 8,
     "metadata": {},
     "output_type": "execute_result"
    }
   ],
   "source": [
    "from sklearn.tree import DecisionTreeRegressor\n",
    "regressor=DecisionTreeRegressor(random_state=1)\n",
    "regressor.fit(x_train,y_train)\n",
    "ypred=regressor.predict(x_train)\n",
    "mean_absolute_error(y_test,y_pred)\n"
   ]
  },
  {
   "cell_type": "code",
   "execution_count": 9,
   "id": "cfbb51ec",
   "metadata": {
    "execution": {
     "iopub.execute_input": "2022-08-27T14:40:19.639013Z",
     "iopub.status.busy": "2022-08-27T14:40:19.637683Z",
     "iopub.status.idle": "2022-08-27T14:40:29.682728Z",
     "shell.execute_reply": "2022-08-27T14:40:29.681660Z"
    },
    "papermill": {
     "duration": 10.056991,
     "end_time": "2022-08-27T14:40:29.685694",
     "exception": false,
     "start_time": "2022-08-27T14:40:19.628703",
     "status": "completed"
    },
    "tags": []
   },
   "outputs": [
    {
     "data": {
      "text/html": [
       "<div>\n",
       "<style scoped>\n",
       "    .dataframe tbody tr th:only-of-type {\n",
       "        vertical-align: middle;\n",
       "    }\n",
       "\n",
       "    .dataframe tbody tr th {\n",
       "        vertical-align: top;\n",
       "    }\n",
       "\n",
       "    .dataframe thead th {\n",
       "        text-align: right;\n",
       "    }\n",
       "</style>\n",
       "<table border=\"1\" class=\"dataframe\">\n",
       "  <thead>\n",
       "    <tr style=\"text-align: right;\">\n",
       "      <th></th>\n",
       "      <th>fit_time</th>\n",
       "      <th>score_time</th>\n",
       "      <th>test_score</th>\n",
       "    </tr>\n",
       "  </thead>\n",
       "  <tbody>\n",
       "    <tr>\n",
       "      <th>0</th>\n",
       "      <td>0.242723</td>\n",
       "      <td>0.007315</td>\n",
       "      <td>0.019866</td>\n",
       "    </tr>\n",
       "    <tr>\n",
       "      <th>1</th>\n",
       "      <td>0.256131</td>\n",
       "      <td>0.007335</td>\n",
       "      <td>0.020185</td>\n",
       "    </tr>\n",
       "    <tr>\n",
       "      <th>2</th>\n",
       "      <td>0.239096</td>\n",
       "      <td>0.007639</td>\n",
       "      <td>0.020022</td>\n",
       "    </tr>\n",
       "    <tr>\n",
       "      <th>3</th>\n",
       "      <td>0.278855</td>\n",
       "      <td>0.007708</td>\n",
       "      <td>0.019833</td>\n",
       "    </tr>\n",
       "    <tr>\n",
       "      <th>4</th>\n",
       "      <td>0.237227</td>\n",
       "      <td>0.007368</td>\n",
       "      <td>0.019591</td>\n",
       "    </tr>\n",
       "    <tr>\n",
       "      <th>5</th>\n",
       "      <td>0.238738</td>\n",
       "      <td>0.007272</td>\n",
       "      <td>0.019825</td>\n",
       "    </tr>\n",
       "    <tr>\n",
       "      <th>6</th>\n",
       "      <td>0.240036</td>\n",
       "      <td>0.007080</td>\n",
       "      <td>0.019935</td>\n",
       "    </tr>\n",
       "    <tr>\n",
       "      <th>7</th>\n",
       "      <td>0.240676</td>\n",
       "      <td>0.007368</td>\n",
       "      <td>0.019600</td>\n",
       "    </tr>\n",
       "    <tr>\n",
       "      <th>8</th>\n",
       "      <td>0.242993</td>\n",
       "      <td>0.007210</td>\n",
       "      <td>0.019460</td>\n",
       "    </tr>\n",
       "    <tr>\n",
       "      <th>9</th>\n",
       "      <td>0.237555</td>\n",
       "      <td>0.007428</td>\n",
       "      <td>0.019688</td>\n",
       "    </tr>\n",
       "    <tr>\n",
       "      <th>10</th>\n",
       "      <td>0.243658</td>\n",
       "      <td>0.007628</td>\n",
       "      <td>0.019758</td>\n",
       "    </tr>\n",
       "    <tr>\n",
       "      <th>11</th>\n",
       "      <td>0.237630</td>\n",
       "      <td>0.007403</td>\n",
       "      <td>0.019885</td>\n",
       "    </tr>\n",
       "    <tr>\n",
       "      <th>12</th>\n",
       "      <td>0.240329</td>\n",
       "      <td>0.007127</td>\n",
       "      <td>0.019923</td>\n",
       "    </tr>\n",
       "    <tr>\n",
       "      <th>13</th>\n",
       "      <td>0.239663</td>\n",
       "      <td>0.007263</td>\n",
       "      <td>0.019955</td>\n",
       "    </tr>\n",
       "    <tr>\n",
       "      <th>14</th>\n",
       "      <td>0.239157</td>\n",
       "      <td>0.007536</td>\n",
       "      <td>0.019572</td>\n",
       "    </tr>\n",
       "    <tr>\n",
       "      <th>15</th>\n",
       "      <td>0.239732</td>\n",
       "      <td>0.007329</td>\n",
       "      <td>0.019948</td>\n",
       "    </tr>\n",
       "    <tr>\n",
       "      <th>16</th>\n",
       "      <td>0.238697</td>\n",
       "      <td>0.007484</td>\n",
       "      <td>0.019354</td>\n",
       "    </tr>\n",
       "    <tr>\n",
       "      <th>17</th>\n",
       "      <td>0.238893</td>\n",
       "      <td>0.007221</td>\n",
       "      <td>0.019379</td>\n",
       "    </tr>\n",
       "    <tr>\n",
       "      <th>18</th>\n",
       "      <td>0.236149</td>\n",
       "      <td>0.007355</td>\n",
       "      <td>0.019812</td>\n",
       "    </tr>\n",
       "    <tr>\n",
       "      <th>19</th>\n",
       "      <td>0.243919</td>\n",
       "      <td>0.007604</td>\n",
       "      <td>0.019881</td>\n",
       "    </tr>\n",
       "    <tr>\n",
       "      <th>20</th>\n",
       "      <td>0.238028</td>\n",
       "      <td>0.007456</td>\n",
       "      <td>0.019916</td>\n",
       "    </tr>\n",
       "    <tr>\n",
       "      <th>21</th>\n",
       "      <td>0.241491</td>\n",
       "      <td>0.007371</td>\n",
       "      <td>0.019594</td>\n",
       "    </tr>\n",
       "    <tr>\n",
       "      <th>22</th>\n",
       "      <td>0.240856</td>\n",
       "      <td>0.007459</td>\n",
       "      <td>0.020025</td>\n",
       "    </tr>\n",
       "    <tr>\n",
       "      <th>23</th>\n",
       "      <td>0.239563</td>\n",
       "      <td>0.007427</td>\n",
       "      <td>0.019741</td>\n",
       "    </tr>\n",
       "    <tr>\n",
       "      <th>24</th>\n",
       "      <td>0.236145</td>\n",
       "      <td>0.007157</td>\n",
       "      <td>0.019808</td>\n",
       "    </tr>\n",
       "    <tr>\n",
       "      <th>25</th>\n",
       "      <td>0.236932</td>\n",
       "      <td>0.007053</td>\n",
       "      <td>0.019864</td>\n",
       "    </tr>\n",
       "    <tr>\n",
       "      <th>26</th>\n",
       "      <td>0.237819</td>\n",
       "      <td>0.007306</td>\n",
       "      <td>0.020161</td>\n",
       "    </tr>\n",
       "    <tr>\n",
       "      <th>27</th>\n",
       "      <td>0.238856</td>\n",
       "      <td>0.007343</td>\n",
       "      <td>0.020155</td>\n",
       "    </tr>\n",
       "    <tr>\n",
       "      <th>28</th>\n",
       "      <td>0.237858</td>\n",
       "      <td>0.007484</td>\n",
       "      <td>0.019668</td>\n",
       "    </tr>\n",
       "    <tr>\n",
       "      <th>29</th>\n",
       "      <td>0.239462</td>\n",
       "      <td>0.007368</td>\n",
       "      <td>0.019902</td>\n",
       "    </tr>\n",
       "    <tr>\n",
       "      <th>30</th>\n",
       "      <td>0.239200</td>\n",
       "      <td>0.007311</td>\n",
       "      <td>0.019450</td>\n",
       "    </tr>\n",
       "    <tr>\n",
       "      <th>31</th>\n",
       "      <td>0.240355</td>\n",
       "      <td>0.007315</td>\n",
       "      <td>0.019936</td>\n",
       "    </tr>\n",
       "    <tr>\n",
       "      <th>32</th>\n",
       "      <td>0.238668</td>\n",
       "      <td>0.007401</td>\n",
       "      <td>0.019873</td>\n",
       "    </tr>\n",
       "    <tr>\n",
       "      <th>33</th>\n",
       "      <td>0.240419</td>\n",
       "      <td>0.007551</td>\n",
       "      <td>0.020036</td>\n",
       "    </tr>\n",
       "    <tr>\n",
       "      <th>34</th>\n",
       "      <td>0.239907</td>\n",
       "      <td>0.007448</td>\n",
       "      <td>0.019692</td>\n",
       "    </tr>\n",
       "    <tr>\n",
       "      <th>35</th>\n",
       "      <td>0.239594</td>\n",
       "      <td>0.007355</td>\n",
       "      <td>0.019402</td>\n",
       "    </tr>\n",
       "    <tr>\n",
       "      <th>36</th>\n",
       "      <td>0.237958</td>\n",
       "      <td>0.007408</td>\n",
       "      <td>0.020050</td>\n",
       "    </tr>\n",
       "    <tr>\n",
       "      <th>37</th>\n",
       "      <td>0.238511</td>\n",
       "      <td>0.007318</td>\n",
       "      <td>0.019408</td>\n",
       "    </tr>\n",
       "    <tr>\n",
       "      <th>38</th>\n",
       "      <td>0.239175</td>\n",
       "      <td>0.007456</td>\n",
       "      <td>0.019330</td>\n",
       "    </tr>\n",
       "    <tr>\n",
       "      <th>39</th>\n",
       "      <td>0.237541</td>\n",
       "      <td>0.007159</td>\n",
       "      <td>0.019477</td>\n",
       "    </tr>\n",
       "  </tbody>\n",
       "</table>\n",
       "</div>"
      ],
      "text/plain": [
       "    fit_time  score_time  test_score\n",
       "0   0.242723    0.007315    0.019866\n",
       "1   0.256131    0.007335    0.020185\n",
       "2   0.239096    0.007639    0.020022\n",
       "3   0.278855    0.007708    0.019833\n",
       "4   0.237227    0.007368    0.019591\n",
       "5   0.238738    0.007272    0.019825\n",
       "6   0.240036    0.007080    0.019935\n",
       "7   0.240676    0.007368    0.019600\n",
       "8   0.242993    0.007210    0.019460\n",
       "9   0.237555    0.007428    0.019688\n",
       "10  0.243658    0.007628    0.019758\n",
       "11  0.237630    0.007403    0.019885\n",
       "12  0.240329    0.007127    0.019923\n",
       "13  0.239663    0.007263    0.019955\n",
       "14  0.239157    0.007536    0.019572\n",
       "15  0.239732    0.007329    0.019948\n",
       "16  0.238697    0.007484    0.019354\n",
       "17  0.238893    0.007221    0.019379\n",
       "18  0.236149    0.007355    0.019812\n",
       "19  0.243919    0.007604    0.019881\n",
       "20  0.238028    0.007456    0.019916\n",
       "21  0.241491    0.007371    0.019594\n",
       "22  0.240856    0.007459    0.020025\n",
       "23  0.239563    0.007427    0.019741\n",
       "24  0.236145    0.007157    0.019808\n",
       "25  0.236932    0.007053    0.019864\n",
       "26  0.237819    0.007306    0.020161\n",
       "27  0.238856    0.007343    0.020155\n",
       "28  0.237858    0.007484    0.019668\n",
       "29  0.239462    0.007368    0.019902\n",
       "30  0.239200    0.007311    0.019450\n",
       "31  0.240355    0.007315    0.019936\n",
       "32  0.238668    0.007401    0.019873\n",
       "33  0.240419    0.007551    0.020036\n",
       "34  0.239907    0.007448    0.019692\n",
       "35  0.239594    0.007355    0.019402\n",
       "36  0.237958    0.007408    0.020050\n",
       "37  0.238511    0.007318    0.019408\n",
       "38  0.239175    0.007456    0.019330\n",
       "39  0.237541    0.007159    0.019477"
      ]
     },
     "execution_count": 9,
     "metadata": {},
     "output_type": "execute_result"
    }
   ],
   "source": [
    "from sklearn.model_selection import cross_validate,ShuffleSplit\n",
    "cv=ShuffleSplit(n_splits=40,test_size=0.3,random_state=1)\n",
    "cv_results=cross_validate(regressor,xsc,ysc,cv=cv,scoring=\"neg_mean_absolute_error\")\n",
    "cvresults=pd.DataFrame(cv_results)\n",
    "cvresults['test_score']=-cvresults[\"test_score\"]\n",
    "cvresults\n"
   ]
  },
  {
   "cell_type": "code",
   "execution_count": 10,
   "id": "09047f95",
   "metadata": {
    "execution": {
     "iopub.execute_input": "2022-08-27T14:40:29.702470Z",
     "iopub.status.busy": "2022-08-27T14:40:29.702075Z",
     "iopub.status.idle": "2022-08-27T14:40:29.707644Z",
     "shell.execute_reply": "2022-08-27T14:40:29.706438Z"
    },
    "papermill": {
     "duration": 0.016579,
     "end_time": "2022-08-27T14:40:29.709811",
     "exception": false,
     "start_time": "2022-08-27T14:40:29.693232",
     "status": "completed"
    },
    "tags": []
   },
   "outputs": [],
   "source": [
    "m=cvresults.test_score.mean()\n",
    "s=cvresults.test_score.std()"
   ]
  },
  {
   "cell_type": "code",
   "execution_count": 11,
   "id": "10c77b3b",
   "metadata": {
    "execution": {
     "iopub.execute_input": "2022-08-27T14:40:29.726773Z",
     "iopub.status.busy": "2022-08-27T14:40:29.726063Z",
     "iopub.status.idle": "2022-08-27T14:40:29.733368Z",
     "shell.execute_reply": "2022-08-27T14:40:29.732159Z"
    },
    "papermill": {
     "duration": 0.01828,
     "end_time": "2022-08-27T14:40:29.735696",
     "exception": false,
     "start_time": "2022-08-27T14:40:29.717416",
     "status": "completed"
    },
    "tags": []
   },
   "outputs": [
    {
     "data": {
      "text/plain": [
       "(0.02001278366619562, 0.019535205265514992)"
      ]
     },
     "execution_count": 11,
     "metadata": {},
     "output_type": "execute_result"
    }
   ],
   "source": [
    "m+s,m-s "
   ]
  },
  {
   "cell_type": "code",
   "execution_count": 12,
   "id": "6ccdf030",
   "metadata": {
    "execution": {
     "iopub.execute_input": "2022-08-27T14:40:29.752936Z",
     "iopub.status.busy": "2022-08-27T14:40:29.752537Z",
     "iopub.status.idle": "2022-08-27T14:40:30.030294Z",
     "shell.execute_reply": "2022-08-27T14:40:30.029020Z"
    },
    "papermill": {
     "duration": 0.289966,
     "end_time": "2022-08-27T14:40:30.033443",
     "exception": false,
     "start_time": "2022-08-27T14:40:29.743477",
     "status": "completed"
    },
    "tags": []
   },
   "outputs": [
    {
     "data": {
      "text/plain": [
       "<AxesSubplot:ylabel='Frequency'>"
      ]
     },
     "execution_count": 12,
     "metadata": {},
     "output_type": "execute_result"
    },
    {
     "data": {
      "image/png": "[encoded data removed]",
      "text/plain": [
       "<Figure size 432x288 with 1 Axes>"
      ]
     },
     "metadata": {
      "needs_background": "light"
     },
     "output_type": "display_data"
    }
   ],
   "source": [
    "import matplotlib.pyplot as plt\n",
    "cvresults[\"test_score\"].plot.hist(bins=10,edgecolor='black')\n"
   ]
  },
  {
   "cell_type": "code",
   "execution_count": 13,
   "id": "c65a61c1",
   "metadata": {
    "execution": {
     "iopub.execute_input": "2022-08-27T14:40:30.052777Z",
     "iopub.status.busy": "2022-08-27T14:40:30.052333Z",
     "iopub.status.idle": "2022-08-27T14:40:30.299521Z",
     "shell.execute_reply": "2022-08-27T14:40:30.298455Z"
    },
    "papermill": {
     "duration": 0.259989,
     "end_time": "2022-08-27T14:40:30.302499",
     "exception": false,
     "start_time": "2022-08-27T14:40:30.042510",
     "status": "completed"
    },
    "tags": []
   },
   "outputs": [
    {
     "data": {
      "text/plain": [
       "<AxesSubplot:ylabel='Frequency'>"
      ]
     },
     "execution_count": 13,
     "metadata": {},
     "output_type": "execute_result"
    },
    {
     "data": {
      "image/png": "[encoded data removed]",
      "text/plain": [
       "<Figure size 432x288 with 1 Axes>"
      ]
     },
     "metadata": {
      "needs_background": "light"
     },
     "output_type": "display_data"
    }
   ],
   "source": [
    "df.price.plot.hist(bins=10,edgecolor='black')"
   ]
  },
  {
   "cell_type": "code",
   "execution_count": 14,
   "id": "885cd35e",
   "metadata": {
    "execution": {
     "iopub.execute_input": "2022-08-27T14:40:30.321048Z",
     "iopub.status.busy": "2022-08-27T14:40:30.320320Z",
     "iopub.status.idle": "2022-08-27T14:40:30.329782Z",
     "shell.execute_reply": "2022-08-27T14:40:30.328647Z"
    },
    "papermill": {
     "duration": 0.021358,
     "end_time": "2022-08-27T14:40:30.332141",
     "exception": false,
     "start_time": "2022-08-27T14:40:30.310783",
     "status": "completed"
    },
    "tags": []
   },
   "outputs": [
    {
     "data": {
      "text/plain": [
       "(3932.734293606214, 3989.3384468242402)"
      ]
     },
     "execution_count": 14,
     "metadata": {},
     "output_type": "execute_result"
    }
   ],
   "source": [
    "df.price.mean(),df.price.std()"
   ]
  },
  {
   "cell_type": "code",
   "execution_count": 15,
   "id": "562dcbda",
   "metadata": {
    "execution": {
     "iopub.execute_input": "2022-08-27T14:40:30.350780Z",
     "iopub.status.busy": "2022-08-27T14:40:30.350381Z",
     "iopub.status.idle": "2022-08-27T14:40:32.299848Z",
     "shell.execute_reply": "2022-08-27T14:40:32.298205Z"
    },
    "papermill": {
     "duration": 1.963842,
     "end_time": "2022-08-27T14:40:32.304419",
     "exception": false,
     "start_time": "2022-08-27T14:40:30.340577",
     "status": "completed"
    },
    "tags": []
   },
   "outputs": [],
   "source": [
    "cv1=ShuffleSplit(n_splits=40,test_size=0.3,random_state=1)\n",
    "cv1_results=cross_validate(model,xsc,ysc,cv=cv1,scoring=\"neg_mean_absolute_error\")\n",
    "cv1_results=pd.DataFrame(cv1_results)"
   ]
  },
  {
   "cell_type": "code",
   "execution_count": 16,
   "id": "2e7b9f7d",
   "metadata": {
    "execution": {
     "iopub.execute_input": "2022-08-27T14:40:32.380069Z",
     "iopub.status.busy": "2022-08-27T14:40:32.378356Z",
     "iopub.status.idle": "2022-08-27T14:40:32.407451Z",
     "shell.execute_reply": "2022-08-27T14:40:32.405191Z"
    },
    "papermill": {
     "duration": 0.078275,
     "end_time": "2022-08-27T14:40:32.416339",
     "exception": false,
     "start_time": "2022-08-27T14:40:32.338064",
     "status": "completed"
    },
    "tags": []
   },
   "outputs": [
    {
     "data": {
      "text/html": [
       "<div>\n",
       "<style scoped>\n",
       "    .dataframe tbody tr th:only-of-type {\n",
       "        vertical-align: middle;\n",
       "    }\n",
       "\n",
       "    .dataframe tbody tr th {\n",
       "        vertical-align: top;\n",
       "    }\n",
       "\n",
       "    .dataframe thead th {\n",
       "        text-align: right;\n",
       "    }\n",
       "</style>\n",
       "<table border=\"1\" class=\"dataframe\">\n",
       "  <thead>\n",
       "    <tr style=\"text-align: right;\">\n",
       "      <th></th>\n",
       "      <th>fit_time</th>\n",
       "      <th>score_time</th>\n",
       "      <th>test_score</th>\n",
       "    </tr>\n",
       "  </thead>\n",
       "  <tbody>\n",
       "    <tr>\n",
       "      <th>0</th>\n",
       "      <td>0.017405</td>\n",
       "      <td>0.003318</td>\n",
       "      <td>-0.046126</td>\n",
       "    </tr>\n",
       "    <tr>\n",
       "      <th>1</th>\n",
       "      <td>0.033545</td>\n",
       "      <td>0.001526</td>\n",
       "      <td>-0.046243</td>\n",
       "    </tr>\n",
       "    <tr>\n",
       "      <th>2</th>\n",
       "      <td>0.034407</td>\n",
       "      <td>0.001571</td>\n",
       "      <td>-0.046852</td>\n",
       "    </tr>\n",
       "    <tr>\n",
       "      <th>3</th>\n",
       "      <td>0.038248</td>\n",
       "      <td>0.001560</td>\n",
       "      <td>-0.047085</td>\n",
       "    </tr>\n",
       "    <tr>\n",
       "      <th>4</th>\n",
       "      <td>0.034755</td>\n",
       "      <td>0.004866</td>\n",
       "      <td>-0.046762</td>\n",
       "    </tr>\n",
       "  </tbody>\n",
       "</table>\n",
       "</div>"
      ],
      "text/plain": [
       "   fit_time  score_time  test_score\n",
       "0  0.017405    0.003318   -0.046126\n",
       "1  0.033545    0.001526   -0.046243\n",
       "2  0.034407    0.001571   -0.046852\n",
       "3  0.038248    0.001560   -0.047085\n",
       "4  0.034755    0.004866   -0.046762"
      ]
     },
     "execution_count": 16,
     "metadata": {},
     "output_type": "execute_result"
    }
   ],
   "source": [
    "cv1_results.head()"
   ]
  },
  {
   "cell_type": "code",
   "execution_count": 17,
   "id": "1b543139",
   "metadata": {
    "execution": {
     "iopub.execute_input": "2022-08-27T14:40:32.436636Z",
     "iopub.status.busy": "2022-08-27T14:40:32.435780Z",
     "iopub.status.idle": "2022-08-27T14:40:32.444895Z",
     "shell.execute_reply": "2022-08-27T14:40:32.443686Z"
    },
    "papermill": {
     "duration": 0.022513,
     "end_time": "2022-08-27T14:40:32.447562",
     "exception": false,
     "start_time": "2022-08-27T14:40:32.425049",
     "status": "completed"
    },
    "tags": []
   },
   "outputs": [
    {
     "data": {
      "text/plain": [
       "(0.046643392412509734, 0.00029543539939025837)"
      ]
     },
     "execution_count": 17,
     "metadata": {},
     "output_type": "execute_result"
    }
   ],
   "source": [
    "cv1_results[\"test_score\"]=-cv1_results[\"test_score\"]\n",
    "score=cv1_results[\"test_score\"]\n",
    "rr=score.mean()\n",
    "ss=score.std()\n",
    "rr,ss\n"
   ]
  },
  {
   "cell_type": "code",
   "execution_count": null,
   "id": "5feb4e53",
   "metadata": {
    "papermill": {
     "duration": 0.008425,
     "end_time": "2022-08-27T14:40:32.465158",
     "exception": false,
     "start_time": "2022-08-27T14:40:32.456733",
     "status": "completed"
    },
    "tags": []
   },
   "outputs": [],
   "source": []
  },
  {
   "cell_type": "code",
   "execution_count": 18,
   "id": "e110b6b7",
   "metadata": {
    "execution": {
     "iopub.execute_input": "2022-08-27T14:40:32.485325Z",
     "iopub.status.busy": "2022-08-27T14:40:32.484198Z",
     "iopub.status.idle": "2022-08-27T14:40:32.719696Z",
     "shell.execute_reply": "2022-08-27T14:40:32.718780Z"
    },
    "papermill": {
     "duration": 0.248051,
     "end_time": "2022-08-27T14:40:32.721983",
     "exception": false,
     "start_time": "2022-08-27T14:40:32.473932",
     "status": "completed"
    },
    "tags": []
   },
   "outputs": [
    {
     "data": {
      "text/plain": [
       "<AxesSubplot:ylabel='Frequency'>"
      ]
     },
     "execution_count": 18,
     "metadata": {},
     "output_type": "execute_result"
    },
    {
     "data": {
      "image/png": "[encoded data removed]",
      "text/plain": [
       "<Figure size 432x288 with 1 Axes>"
      ]
     },
     "metadata": {
      "needs_background": "light"
     },
     "output_type": "display_data"
    }
   ],
   "source": [
    "cv1_results[\"test_score\"].plot.hist(bins=10,edgecolor=\"black\")"
   ]
  },
  {
   "cell_type": "code",
   "execution_count": 19,
   "id": "2a6db166",
   "metadata": {
    "execution": {
     "iopub.execute_input": "2022-08-27T14:40:32.742646Z",
     "iopub.status.busy": "2022-08-27T14:40:32.741700Z",
     "iopub.status.idle": "2022-08-27T14:40:35.881501Z",
     "shell.execute_reply": "2022-08-27T14:40:35.880303Z"
    },
    "papermill": {
     "duration": 3.152823,
     "end_time": "2022-08-27T14:40:35.884049",
     "exception": false,
     "start_time": "2022-08-27T14:40:32.731226",
     "status": "completed"
    },
    "tags": []
   },
   "outputs": [
    {
     "name": "stderr",
     "output_type": "stream",
     "text": [
      "/opt/conda/lib/python3.7/site-packages/ipykernel_launcher.py:3: DataConversionWarning: A column-vector y was passed when a 1d array was expected. Please change the shape of y to (n_samples,), for example using ravel().\n",
      "  This is separate from the ipykernel package so we can avoid doing imports until\n"
     ]
    },
    {
     "data": {
      "text/plain": [
       "0.015142132573901722"
      ]
     },
     "execution_count": 19,
     "metadata": {},
     "output_type": "execute_result"
    }
   ],
   "source": [
    "from sklearn.ensemble import RandomForestRegressor\n",
    "forest=RandomForestRegressor(n_estimators=20,random_state=0)\n",
    "forest.fit(x_train,y_train)\n",
    "yfor=forest.predict(x_test)\n",
    "mean_absolute_error(y_test,yfor)"
   ]
  },
  {
   "cell_type": "code",
   "execution_count": 20,
   "id": "a8ba62ce",
   "metadata": {
    "execution": {
     "iopub.execute_input": "2022-08-27T14:40:35.905259Z",
     "iopub.status.busy": "2022-08-27T14:40:35.904209Z",
     "iopub.status.idle": "2022-08-27T14:42:38.326904Z",
     "shell.execute_reply": "2022-08-27T14:42:38.325802Z"
    },
    "papermill": {
     "duration": 122.446907,
     "end_time": "2022-08-27T14:42:38.340477",
     "exception": false,
     "start_time": "2022-08-27T14:40:35.893570",
     "status": "completed"
    },
    "tags": []
   },
   "outputs": [
    {
     "name": "stderr",
     "output_type": "stream",
     "text": [
      "/opt/conda/lib/python3.7/site-packages/sklearn/model_selection/_validation.py:680: DataConversionWarning: A column-vector y was passed when a 1d array was expected. Please change the shape of y to (n_samples,), for example using ravel().\n",
      "  estimator.fit(X_train, y_train, **fit_params)\n",
      "/opt/conda/lib/python3.7/site-packages/sklearn/model_selection/_validation.py:680: DataConversionWarning: A column-vector y was passed when a 1d array was expected. Please change the shape of y to (n_samples,), for example using ravel().\n",
      "  estimator.fit(X_train, y_train, **fit_params)\n",
      "/opt/conda/lib/python3.7/site-packages/sklearn/model_selection/_validation.py:680: DataConversionWarning: A column-vector y was passed when a 1d array was expected. Please change the shape of y to (n_samples,), for example using ravel().\n",
      "  estimator.fit(X_train, y_train, **fit_params)\n",
      "/opt/conda/lib/python3.7/site-packages/sklearn/model_selection/_validation.py:680: DataConversionWarning: A column-vector y was passed when a 1d array was expected. Please change the shape of y to (n_samples,), for example using ravel().\n",
      "  estimator.fit(X_train, y_train, **fit_params)\n",
      "/opt/conda/lib/python3.7/site-packages/sklearn/model_selection/_validation.py:680: DataConversionWarning: A column-vector y was passed when a 1d array was expected. Please change the shape of y to (n_samples,), for example using ravel().\n",
      "  estimator.fit(X_train, y_train, **fit_params)\n",
      "/opt/conda/lib/python3.7/site-packages/sklearn/model_selection/_validation.py:680: DataConversionWarning: A column-vector y was passed when a 1d array was expected. Please change the shape of y to (n_samples,), for example using ravel().\n",
      "  estimator.fit(X_train, y_train, **fit_params)\n",
      "/opt/conda/lib/python3.7/site-packages/sklearn/model_selection/_validation.py:680: DataConversionWarning: A column-vector y was passed when a 1d array was expected. Please change the shape of y to (n_samples,), for example using ravel().\n",
      "  estimator.fit(X_train, y_train, **fit_params)\n",
      "/opt/conda/lib/python3.7/site-packages/sklearn/model_selection/_validation.py:680: DataConversionWarning: A column-vector y was passed when a 1d array was expected. Please change the shape of y to (n_samples,), for example using ravel().\n",
      "  estimator.fit(X_train, y_train, **fit_params)\n",
      "/opt/conda/lib/python3.7/site-packages/sklearn/model_selection/_validation.py:680: DataConversionWarning: A column-vector y was passed when a 1d array was expected. Please change the shape of y to (n_samples,), for example using ravel().\n",
      "  estimator.fit(X_train, y_train, **fit_params)\n",
      "/opt/conda/lib/python3.7/site-packages/sklearn/model_selection/_validation.py:680: DataConversionWarning: A column-vector y was passed when a 1d array was expected. Please change the shape of y to (n_samples,), for example using ravel().\n",
      "  estimator.fit(X_train, y_train, **fit_params)\n",
      "/opt/conda/lib/python3.7/site-packages/sklearn/model_selection/_validation.py:680: DataConversionWarning: A column-vector y was passed when a 1d array was expected. Please change the shape of y to (n_samples,), for example using ravel().\n",
      "  estimator.fit(X_train, y_train, **fit_params)\n",
      "/opt/conda/lib/python3.7/site-packages/sklearn/model_selection/_validation.py:680: DataConversionWarning: A column-vector y was passed when a 1d array was expected. Please change the shape of y to (n_samples,), for example using ravel().\n",
      "  estimator.fit(X_train, y_train, **fit_params)\n",
      "/opt/conda/lib/python3.7/site-packages/sklearn/model_selection/_validation.py:680: DataConversionWarning: A column-vector y was passed when a 1d array was expected. Please change the shape of y to (n_samples,), for example using ravel().\n",
      "  estimator.fit(X_train, y_train, **fit_params)\n",
      "/opt/conda/lib/python3.7/site-packages/sklearn/model_selection/_validation.py:680: DataConversionWarning: A column-vector y was passed when a 1d array was expected. Please change the shape of y to (n_samples,), for example using ravel().\n",
      "  estimator.fit(X_train, y_train, **fit_params)\n",
      "/opt/conda/lib/python3.7/site-packages/sklearn/model_selection/_validation.py:680: DataConversionWarning: A column-vector y was passed when a 1d array was expected. Please change the shape of y to (n_samples,), for example using ravel().\n",
      "  estimator.fit(X_train, y_train, **fit_params)\n",
      "/opt/conda/lib/python3.7/site-packages/sklearn/model_selection/_validation.py:680: DataConversionWarning: A column-vector y was passed when a 1d array was expected. Please change the shape of y to (n_samples,), for example using ravel().\n",
      "  estimator.fit(X_train, y_train, **fit_params)\n",
      "/opt/conda/lib/python3.7/site-packages/sklearn/model_selection/_validation.py:680: DataConversionWarning: A column-vector y was passed when a 1d array was expected. Please change the shape of y to (n_samples,), for example using ravel().\n",
      "  estimator.fit(X_train, y_train, **fit_params)\n",
      "/opt/conda/lib/python3.7/site-packages/sklearn/model_selection/_validation.py:680: DataConversionWarning: A column-vector y was passed when a 1d array was expected. Please change the shape of y to (n_samples,), for example using ravel().\n",
      "  estimator.fit(X_train, y_train, **fit_params)\n",
      "/opt/conda/lib/python3.7/site-packages/sklearn/model_selection/_validation.py:680: DataConversionWarning: A column-vector y was passed when a 1d array was expected. Please change the shape of y to (n_samples,), for example using ravel().\n",
      "  estimator.fit(X_train, y_train, **fit_params)\n",
      "/opt/conda/lib/python3.7/site-packages/sklearn/model_selection/_validation.py:680: DataConversionWarning: A column-vector y was passed when a 1d array was expected. Please change the shape of y to (n_samples,), for example using ravel().\n",
      "  estimator.fit(X_train, y_train, **fit_params)\n",
      "/opt/conda/lib/python3.7/site-packages/sklearn/model_selection/_validation.py:680: DataConversionWarning: A column-vector y was passed when a 1d array was expected. Please change the shape of y to (n_samples,), for example using ravel().\n",
      "  estimator.fit(X_train, y_train, **fit_params)\n",
      "/opt/conda/lib/python3.7/site-packages/sklearn/model_selection/_validation.py:680: DataConversionWarning: A column-vector y was passed when a 1d array was expected. Please change the shape of y to (n_samples,), for example using ravel().\n",
      "  estimator.fit(X_train, y_train, **fit_params)\n",
      "/opt/conda/lib/python3.7/site-packages/sklearn/model_selection/_validation.py:680: DataConversionWarning: A column-vector y was passed when a 1d array was expected. Please change the shape of y to (n_samples,), for example using ravel().\n",
      "  estimator.fit(X_train, y_train, **fit_params)\n",
      "/opt/conda/lib/python3.7/site-packages/sklearn/model_selection/_validation.py:680: DataConversionWarning: A column-vector y was passed when a 1d array was expected. Please change the shape of y to (n_samples,), for example using ravel().\n",
      "  estimator.fit(X_train, y_train, **fit_params)\n",
      "/opt/conda/lib/python3.7/site-packages/sklearn/model_selection/_validation.py:680: DataConversionWarning: A column-vector y was passed when a 1d array was expected. Please change the shape of y to (n_samples,), for example using ravel().\n",
      "  estimator.fit(X_train, y_train, **fit_params)\n",
      "/opt/conda/lib/python3.7/site-packages/sklearn/model_selection/_validation.py:680: DataConversionWarning: A column-vector y was passed when a 1d array was expected. Please change the shape of y to (n_samples,), for example using ravel().\n",
      "  estimator.fit(X_train, y_train, **fit_params)\n",
      "/opt/conda/lib/python3.7/site-packages/sklearn/model_selection/_validation.py:680: DataConversionWarning: A column-vector y was passed when a 1d array was expected. Please change the shape of y to (n_samples,), for example using ravel().\n",
      "  estimator.fit(X_train, y_train, **fit_params)\n",
      "/opt/conda/lib/python3.7/site-packages/sklearn/model_selection/_validation.py:680: DataConversionWarning: A column-vector y was passed when a 1d array was expected. Please change the shape of y to (n_samples,), for example using ravel().\n",
      "  estimator.fit(X_train, y_train, **fit_params)\n",
      "/opt/conda/lib/python3.7/site-packages/sklearn/model_selection/_validation.py:680: DataConversionWarning: A column-vector y was passed when a 1d array was expected. Please change the shape of y to (n_samples,), for example using ravel().\n",
      "  estimator.fit(X_train, y_train, **fit_params)\n",
      "/opt/conda/lib/python3.7/site-packages/sklearn/model_selection/_validation.py:680: DataConversionWarning: A column-vector y was passed when a 1d array was expected. Please change the shape of y to (n_samples,), for example using ravel().\n",
      "  estimator.fit(X_train, y_train, **fit_params)\n",
      "/opt/conda/lib/python3.7/site-packages/sklearn/model_selection/_validation.py:680: DataConversionWarning: A column-vector y was passed when a 1d array was expected. Please change the shape of y to (n_samples,), for example using ravel().\n",
      "  estimator.fit(X_train, y_train, **fit_params)\n",
      "/opt/conda/lib/python3.7/site-packages/sklearn/model_selection/_validation.py:680: DataConversionWarning: A column-vector y was passed when a 1d array was expected. Please change the shape of y to (n_samples,), for example using ravel().\n",
      "  estimator.fit(X_train, y_train, **fit_params)\n",
      "/opt/conda/lib/python3.7/site-packages/sklearn/model_selection/_validation.py:680: DataConversionWarning: A column-vector y was passed when a 1d array was expected. Please change the shape of y to (n_samples,), for example using ravel().\n",
      "  estimator.fit(X_train, y_train, **fit_params)\n",
      "/opt/conda/lib/python3.7/site-packages/sklearn/model_selection/_validation.py:680: DataConversionWarning: A column-vector y was passed when a 1d array was expected. Please change the shape of y to (n_samples,), for example using ravel().\n",
      "  estimator.fit(X_train, y_train, **fit_params)\n",
      "/opt/conda/lib/python3.7/site-packages/sklearn/model_selection/_validation.py:680: DataConversionWarning: A column-vector y was passed when a 1d array was expected. Please change the shape of y to (n_samples,), for example using ravel().\n",
      "  estimator.fit(X_train, y_train, **fit_params)\n",
      "/opt/conda/lib/python3.7/site-packages/sklearn/model_selection/_validation.py:680: DataConversionWarning: A column-vector y was passed when a 1d array was expected. Please change the shape of y to (n_samples,), for example using ravel().\n",
      "  estimator.fit(X_train, y_train, **fit_params)\n",
      "/opt/conda/lib/python3.7/site-packages/sklearn/model_selection/_validation.py:680: DataConversionWarning: A column-vector y was passed when a 1d array was expected. Please change the shape of y to (n_samples,), for example using ravel().\n",
      "  estimator.fit(X_train, y_train, **fit_params)\n",
      "/opt/conda/lib/python3.7/site-packages/sklearn/model_selection/_validation.py:680: DataConversionWarning: A column-vector y was passed when a 1d array was expected. Please change the shape of y to (n_samples,), for example using ravel().\n",
      "  estimator.fit(X_train, y_train, **fit_params)\n",
      "/opt/conda/lib/python3.7/site-packages/sklearn/model_selection/_validation.py:680: DataConversionWarning: A column-vector y was passed when a 1d array was expected. Please change the shape of y to (n_samples,), for example using ravel().\n",
      "  estimator.fit(X_train, y_train, **fit_params)\n",
      "/opt/conda/lib/python3.7/site-packages/sklearn/model_selection/_validation.py:680: DataConversionWarning: A column-vector y was passed when a 1d array was expected. Please change the shape of y to (n_samples,), for example using ravel().\n",
      "  estimator.fit(X_train, y_train, **fit_params)\n"
     ]
    },
    {
     "data": {
      "text/html": [
       "<div>\n",
       "<style scoped>\n",
       "    .dataframe tbody tr th:only-of-type {\n",
       "        vertical-align: middle;\n",
       "    }\n",
       "\n",
       "    .dataframe tbody tr th {\n",
       "        vertical-align: top;\n",
       "    }\n",
       "\n",
       "    .dataframe thead th {\n",
       "        text-align: right;\n",
       "    }\n",
       "</style>\n",
       "<table border=\"1\" class=\"dataframe\">\n",
       "  <thead>\n",
       "    <tr style=\"text-align: right;\">\n",
       "      <th></th>\n",
       "      <th>fit_time</th>\n",
       "      <th>score_time</th>\n",
       "      <th>test_score</th>\n",
       "    </tr>\n",
       "  </thead>\n",
       "  <tbody>\n",
       "    <tr>\n",
       "      <th>0</th>\n",
       "      <td>2.951873</td>\n",
       "      <td>0.114383</td>\n",
       "      <td>-0.015142</td>\n",
       "    </tr>\n",
       "    <tr>\n",
       "      <th>1</th>\n",
       "      <td>2.939365</td>\n",
       "      <td>0.115200</td>\n",
       "      <td>-0.015484</td>\n",
       "    </tr>\n",
       "    <tr>\n",
       "      <th>2</th>\n",
       "      <td>2.980684</td>\n",
       "      <td>0.116896</td>\n",
       "      <td>-0.015069</td>\n",
       "    </tr>\n",
       "    <tr>\n",
       "      <th>3</th>\n",
       "      <td>2.934465</td>\n",
       "      <td>0.114099</td>\n",
       "      <td>-0.015250</td>\n",
       "    </tr>\n",
       "    <tr>\n",
       "      <th>4</th>\n",
       "      <td>2.939725</td>\n",
       "      <td>0.114767</td>\n",
       "      <td>-0.015219</td>\n",
       "    </tr>\n",
       "    <tr>\n",
       "      <th>5</th>\n",
       "      <td>2.947096</td>\n",
       "      <td>0.113620</td>\n",
       "      <td>-0.015284</td>\n",
       "    </tr>\n",
       "    <tr>\n",
       "      <th>6</th>\n",
       "      <td>2.946182</td>\n",
       "      <td>0.114403</td>\n",
       "      <td>-0.015153</td>\n",
       "    </tr>\n",
       "    <tr>\n",
       "      <th>7</th>\n",
       "      <td>3.015877</td>\n",
       "      <td>0.114446</td>\n",
       "      <td>-0.015224</td>\n",
       "    </tr>\n",
       "    <tr>\n",
       "      <th>8</th>\n",
       "      <td>2.924253</td>\n",
       "      <td>0.115650</td>\n",
       "      <td>-0.015006</td>\n",
       "    </tr>\n",
       "    <tr>\n",
       "      <th>9</th>\n",
       "      <td>2.953465</td>\n",
       "      <td>0.113122</td>\n",
       "      <td>-0.014948</td>\n",
       "    </tr>\n",
       "    <tr>\n",
       "      <th>10</th>\n",
       "      <td>2.920289</td>\n",
       "      <td>0.116147</td>\n",
       "      <td>-0.015268</td>\n",
       "    </tr>\n",
       "    <tr>\n",
       "      <th>11</th>\n",
       "      <td>2.906537</td>\n",
       "      <td>0.113815</td>\n",
       "      <td>-0.015066</td>\n",
       "    </tr>\n",
       "    <tr>\n",
       "      <th>12</th>\n",
       "      <td>2.953093</td>\n",
       "      <td>0.114714</td>\n",
       "      <td>-0.015269</td>\n",
       "    </tr>\n",
       "    <tr>\n",
       "      <th>13</th>\n",
       "      <td>2.923356</td>\n",
       "      <td>0.112232</td>\n",
       "      <td>-0.015178</td>\n",
       "    </tr>\n",
       "    <tr>\n",
       "      <th>14</th>\n",
       "      <td>2.928392</td>\n",
       "      <td>0.113586</td>\n",
       "      <td>-0.014919</td>\n",
       "    </tr>\n",
       "    <tr>\n",
       "      <th>15</th>\n",
       "      <td>2.920456</td>\n",
       "      <td>0.116071</td>\n",
       "      <td>-0.015061</td>\n",
       "    </tr>\n",
       "    <tr>\n",
       "      <th>16</th>\n",
       "      <td>2.949440</td>\n",
       "      <td>0.112854</td>\n",
       "      <td>-0.014660</td>\n",
       "    </tr>\n",
       "    <tr>\n",
       "      <th>17</th>\n",
       "      <td>2.919445</td>\n",
       "      <td>0.116344</td>\n",
       "      <td>-0.014872</td>\n",
       "    </tr>\n",
       "    <tr>\n",
       "      <th>18</th>\n",
       "      <td>2.920286</td>\n",
       "      <td>0.114819</td>\n",
       "      <td>-0.015254</td>\n",
       "    </tr>\n",
       "    <tr>\n",
       "      <th>19</th>\n",
       "      <td>2.942406</td>\n",
       "      <td>0.115219</td>\n",
       "      <td>-0.014823</td>\n",
       "    </tr>\n",
       "    <tr>\n",
       "      <th>20</th>\n",
       "      <td>2.939249</td>\n",
       "      <td>0.113545</td>\n",
       "      <td>-0.015303</td>\n",
       "    </tr>\n",
       "    <tr>\n",
       "      <th>21</th>\n",
       "      <td>2.973450</td>\n",
       "      <td>0.116245</td>\n",
       "      <td>-0.015086</td>\n",
       "    </tr>\n",
       "    <tr>\n",
       "      <th>22</th>\n",
       "      <td>2.934545</td>\n",
       "      <td>0.114748</td>\n",
       "      <td>-0.015275</td>\n",
       "    </tr>\n",
       "    <tr>\n",
       "      <th>23</th>\n",
       "      <td>2.951757</td>\n",
       "      <td>0.112512</td>\n",
       "      <td>-0.015291</td>\n",
       "    </tr>\n",
       "    <tr>\n",
       "      <th>24</th>\n",
       "      <td>2.923484</td>\n",
       "      <td>0.115674</td>\n",
       "      <td>-0.015309</td>\n",
       "    </tr>\n",
       "    <tr>\n",
       "      <th>25</th>\n",
       "      <td>2.928679</td>\n",
       "      <td>0.114523</td>\n",
       "      <td>-0.014905</td>\n",
       "    </tr>\n",
       "    <tr>\n",
       "      <th>26</th>\n",
       "      <td>2.914390</td>\n",
       "      <td>0.116268</td>\n",
       "      <td>-0.015210</td>\n",
       "    </tr>\n",
       "    <tr>\n",
       "      <th>27</th>\n",
       "      <td>2.938853</td>\n",
       "      <td>0.113072</td>\n",
       "      <td>-0.015231</td>\n",
       "    </tr>\n",
       "    <tr>\n",
       "      <th>28</th>\n",
       "      <td>2.918660</td>\n",
       "      <td>0.115237</td>\n",
       "      <td>-0.014973</td>\n",
       "    </tr>\n",
       "    <tr>\n",
       "      <th>29</th>\n",
       "      <td>2.924187</td>\n",
       "      <td>0.111956</td>\n",
       "      <td>-0.015190</td>\n",
       "    </tr>\n",
       "    <tr>\n",
       "      <th>30</th>\n",
       "      <td>2.924347</td>\n",
       "      <td>0.122670</td>\n",
       "      <td>-0.015018</td>\n",
       "    </tr>\n",
       "    <tr>\n",
       "      <th>31</th>\n",
       "      <td>2.921470</td>\n",
       "      <td>0.114064</td>\n",
       "      <td>-0.015003</td>\n",
       "    </tr>\n",
       "    <tr>\n",
       "      <th>32</th>\n",
       "      <td>2.915038</td>\n",
       "      <td>0.112787</td>\n",
       "      <td>-0.015123</td>\n",
       "    </tr>\n",
       "    <tr>\n",
       "      <th>33</th>\n",
       "      <td>2.922782</td>\n",
       "      <td>0.110525</td>\n",
       "      <td>-0.015258</td>\n",
       "    </tr>\n",
       "    <tr>\n",
       "      <th>34</th>\n",
       "      <td>3.052911</td>\n",
       "      <td>0.117737</td>\n",
       "      <td>-0.015245</td>\n",
       "    </tr>\n",
       "    <tr>\n",
       "      <th>35</th>\n",
       "      <td>2.997854</td>\n",
       "      <td>0.116775</td>\n",
       "      <td>-0.014994</td>\n",
       "    </tr>\n",
       "    <tr>\n",
       "      <th>36</th>\n",
       "      <td>2.962451</td>\n",
       "      <td>0.114555</td>\n",
       "      <td>-0.015458</td>\n",
       "    </tr>\n",
       "    <tr>\n",
       "      <th>37</th>\n",
       "      <td>2.924485</td>\n",
       "      <td>0.115209</td>\n",
       "      <td>-0.014946</td>\n",
       "    </tr>\n",
       "    <tr>\n",
       "      <th>38</th>\n",
       "      <td>2.955550</td>\n",
       "      <td>0.115856</td>\n",
       "      <td>-0.015122</td>\n",
       "    </tr>\n",
       "    <tr>\n",
       "      <th>39</th>\n",
       "      <td>2.922008</td>\n",
       "      <td>0.115528</td>\n",
       "      <td>-0.015250</td>\n",
       "    </tr>\n",
       "  </tbody>\n",
       "</table>\n",
       "</div>"
      ],
      "text/plain": [
       "    fit_time  score_time  test_score\n",
       "0   2.951873    0.114383   -0.015142\n",
       "1   2.939365    0.115200   -0.015484\n",
       "2   2.980684    0.116896   -0.015069\n",
       "3   2.934465    0.114099   -0.015250\n",
       "4   2.939725    0.114767   -0.015219\n",
       "5   2.947096    0.113620   -0.015284\n",
       "6   2.946182    0.114403   -0.015153\n",
       "7   3.015877    0.114446   -0.015224\n",
       "8   2.924253    0.115650   -0.015006\n",
       "9   2.953465    0.113122   -0.014948\n",
       "10  2.920289    0.116147   -0.015268\n",
       "11  2.906537    0.113815   -0.015066\n",
       "12  2.953093    0.114714   -0.015269\n",
       "13  2.923356    0.112232   -0.015178\n",
       "14  2.928392    0.113586   -0.014919\n",
       "15  2.920456    0.116071   -0.015061\n",
       "16  2.949440    0.112854   -0.014660\n",
       "17  2.919445    0.116344   -0.014872\n",
       "18  2.920286    0.114819   -0.015254\n",
       "19  2.942406    0.115219   -0.014823\n",
       "20  2.939249    0.113545   -0.015303\n",
       "21  2.973450    0.116245   -0.015086\n",
       "22  2.934545    0.114748   -0.015275\n",
       "23  2.951757    0.112512   -0.015291\n",
       "24  2.923484    0.115674   -0.015309\n",
       "25  2.928679    0.114523   -0.014905\n",
       "26  2.914390    0.116268   -0.015210\n",
       "27  2.938853    0.113072   -0.015231\n",
       "28  2.918660    0.115237   -0.014973\n",
       "29  2.924187    0.111956   -0.015190\n",
       "30  2.924347    0.122670   -0.015018\n",
       "31  2.921470    0.114064   -0.015003\n",
       "32  2.915038    0.112787   -0.015123\n",
       "33  2.922782    0.110525   -0.015258\n",
       "34  3.052911    0.117737   -0.015245\n",
       "35  2.997854    0.116775   -0.014994\n",
       "36  2.962451    0.114555   -0.015458\n",
       "37  2.924485    0.115209   -0.014946\n",
       "38  2.955550    0.115856   -0.015122\n",
       "39  2.922008    0.115528   -0.015250"
      ]
     },
     "execution_count": 20,
     "metadata": {},
     "output_type": "execute_result"
    }
   ],
   "source": [
    "cv2=ShuffleSplit(n_splits=40,test_size=0.3,random_state=1)\n",
    "cv2_result=cross_validate(forest,xsc,ysc,cv=cv2,scoring=\"neg_mean_absolute_error\")\n",
    "cv2result=pd.DataFrame(cv2_result)\n",
    "cv2result"
   ]
  },
  {
   "cell_type": "code",
   "execution_count": 21,
   "id": "5f42dbd3",
   "metadata": {
    "execution": {
     "iopub.execute_input": "2022-08-27T14:42:38.366449Z",
     "iopub.status.busy": "2022-08-27T14:42:38.365730Z",
     "iopub.status.idle": "2022-08-27T14:42:38.375357Z",
     "shell.execute_reply": "2022-08-27T14:42:38.374278Z"
    },
    "papermill": {
     "duration": 0.025394,
     "end_time": "2022-08-27T14:42:38.377803",
     "exception": false,
     "start_time": "2022-08-27T14:42:38.352409",
     "status": "completed"
    },
    "tags": []
   },
   "outputs": [
    {
     "data": {
      "text/plain": [
       "0     0.015142\n",
       "1     0.015484\n",
       "2     0.015069\n",
       "3     0.015250\n",
       "4     0.015219\n",
       "5     0.015284\n",
       "6     0.015153\n",
       "7     0.015224\n",
       "8     0.015006\n",
       "9     0.014948\n",
       "10    0.015268\n",
       "11    0.015066\n",
       "12    0.015269\n",
       "13    0.015178\n",
       "14    0.014919\n",
       "15    0.015061\n",
       "16    0.014660\n",
       "17    0.014872\n",
       "18    0.015254\n",
       "19    0.014823\n",
       "20    0.015303\n",
       "21    0.015086\n",
       "22    0.015275\n",
       "23    0.015291\n",
       "24    0.015309\n",
       "25    0.014905\n",
       "26    0.015210\n",
       "27    0.015231\n",
       "28    0.014973\n",
       "29    0.015190\n",
       "30    0.015018\n",
       "31    0.015003\n",
       "32    0.015123\n",
       "33    0.015258\n",
       "34    0.015245\n",
       "35    0.014994\n",
       "36    0.015458\n",
       "37    0.014946\n",
       "38    0.015122\n",
       "39    0.015250\n",
       "Name: test_score, dtype: float64"
      ]
     },
     "execution_count": 21,
     "metadata": {},
     "output_type": "execute_result"
    }
   ],
   "source": [
    "cv2result[\"test_score\"]=-cv2result[\"test_score\"]\n",
    "cv2result[\"test_score\"]"
   ]
  },
  {
   "cell_type": "code",
   "execution_count": 22,
   "id": "951590f1",
   "metadata": {
    "execution": {
     "iopub.execute_input": "2022-08-27T14:42:38.404460Z",
     "iopub.status.busy": "2022-08-27T14:42:38.403995Z",
     "iopub.status.idle": "2022-08-27T14:42:38.412041Z",
     "shell.execute_reply": "2022-08-27T14:42:38.410979Z"
    },
    "papermill": {
     "duration": 0.024017,
     "end_time": "2022-08-27T14:42:38.414304",
     "exception": false,
     "start_time": "2022-08-27T14:42:38.390287",
     "status": "completed"
    },
    "tags": []
   },
   "outputs": [
    {
     "data": {
      "text/plain": [
       "(0.015133353577222942, 0.0001726846421647283)"
      ]
     },
     "execution_count": 22,
     "metadata": {},
     "output_type": "execute_result"
    }
   ],
   "source": [
    "forest_mean=cv2result['test_score'].mean()\n",
    "forest_std=cv2result[\"test_score\"].std()\n",
    "forest_mean,forest_std"
   ]
  },
  {
   "cell_type": "code",
   "execution_count": 23,
   "id": "89f90e11",
   "metadata": {
    "execution": {
     "iopub.execute_input": "2022-08-27T14:42:38.441103Z",
     "iopub.status.busy": "2022-08-27T14:42:38.440681Z",
     "iopub.status.idle": "2022-08-27T14:42:38.662742Z",
     "shell.execute_reply": "2022-08-27T14:42:38.661400Z"
    },
    "papermill": {
     "duration": 0.238549,
     "end_time": "2022-08-27T14:42:38.665447",
     "exception": false,
     "start_time": "2022-08-27T14:42:38.426898",
     "status": "completed"
    },
    "tags": []
   },
   "outputs": [
    {
     "data": {
      "text/plain": [
       "<AxesSubplot:ylabel='Frequency'>"
      ]
     },
     "execution_count": 23,
     "metadata": {},
     "output_type": "execute_result"
    },
    {
     "data": {
      "image/png": "[encoded data removed]",
      "text/plain": [
       "<Figure size 432x288 with 1 Axes>"
      ]
     },
     "metadata": {
      "needs_background": "light"
     },
     "output_type": "display_data"
    }
   ],
   "source": [
    "cv2result['test_score'].plot.hist(bins=10,edgecolor='black')"
   ]
  }
 ],
 "metadata": {
  "kernelspec": {
   "display_name": "Python 3",
   "language": "python",
   "name": "python3"
  },
  "language_info": {
   "codemirror_mode": {
    "name": "ipython",
    "version": 3
   },
   "file_extension": ".py",
   "mimetype": "text/x-python",
   "name": "python",
   "nbconvert_exporter": "python",
   "pygments_lexer": "ipython3",
   "version": "3.7.12"
  },
  "papermill": {
   "default_parameters": {},
   "duration": 151.048034,
   "end_time": "2022-08-27T14:42:39.501316",
   "environment_variables": {},
   "exception": null,
   "input_path": "__notebook__.ipynb",
   "output_path": "__notebook__.ipynb",
   "parameters": {},
   "start_time": "2022-08-27T14:40:08.453282",
   "version": "2.3.4"
  }
 },
 "nbformat": 4,
 "nbformat_minor": 5
}
