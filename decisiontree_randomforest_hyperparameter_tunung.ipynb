{
  "nbformat": 4,
  "nbformat_minor": 0,
  "metadata": {
    "colab": {
      "name": "decisiontree_randomforest_hyperparameter_tunung.ipynb",
      "private_outputs": true,
      "provenance": [],
      "authorship_tag": "ABX9TyPldd7dfrhbRaRxLMC64rec",
      "include_colab_link": true
    },
    "kernelspec": {
      "name": "python3",
      "display_name": "Python 3"
    },
    "language_info": {
      "name": "python"
    },
    "accelerator": "GPU",
    "gpuClass": "standard"
  },
  "cells": [
    {
      "cell_type": "markdown",
      "metadata": {
        "id": "view-in-github",
        "colab_type": "text"
      },
      "source": [
        "<a href=\"https://colab.research.google.com/github/ravibalebilalu/ravibalebilalu/blob/main/decisiontree_randomforest_hyperparameter_tunung.ipynb\" target=\"_parent\"><img src=\"https://colab.research.google.com/assets/colab-badge.svg\" alt=\"Open In Colab\"/></a>"
      ]
    },
    {
      "cell_type": "code",
      "execution_count": null,
      "metadata": {
        "id": "funhQja8FDJu"
      },
      "outputs": [],
      "source": [
        "import pandas as pd\n",
        "df=pd.read_csv(\"/content/titanic.csv\")\n",
        "df.head()"
      ]
    },
    {
      "cell_type": "code",
      "source": [
        "df.columns"
      ],
      "metadata": {
        "id": "_A9RH4-8GLsN"
      },
      "execution_count": null,
      "outputs": []
    },
    {
      "cell_type": "code",
      "source": [
        "df.isnull().any()"
      ],
      "metadata": {
        "id": "eyFhz113GPAH"
      },
      "execution_count": null,
      "outputs": []
    },
    {
      "cell_type": "code",
      "source": [
        "df.dtypes"
      ],
      "metadata": {
        "id": "BX61UlfGGT06"
      },
      "execution_count": null,
      "outputs": []
    },
    {
      "cell_type": "code",
      "source": [
        "df[\"Sex\"]=df[\"Sex\"].map({\"female\":0,\"male\":1})\n",
        "df.head()"
      ],
      "metadata": {
        "id": "-u0hP3ObGcaX"
      },
      "execution_count": null,
      "outputs": []
    },
    {
      "cell_type": "code",
      "source": [
        "import numpy as np\n",
        "feature=['Pclass',  'Sex', 'Age', 'Siblings/Spouses Aboard','Parents/Children Aboard', 'Fare']\n",
        "x=np.array(df[feature])\n",
        "y=np.array(df[\"Survived\"]).reshape(-1,1)"
      ],
      "metadata": {
        "id": "U9RAitMkG32w"
      },
      "execution_count": null,
      "outputs": []
    },
    {
      "cell_type": "code",
      "source": [
        "from sklearn.preprocessing import MinMaxScaler\n",
        "sc=MinMaxScaler()\n",
        "xsc=sc.fit_transform(x)\n"
      ],
      "metadata": {
        "id": "H3ukFQdaTZAE"
      },
      "execution_count": null,
      "outputs": []
    },
    {
      "cell_type": "code",
      "source": [
        "from sklearn.model_selection import train_test_split\n",
        "x_train,x_test,y_train,y_test=train_test_split(xsc,y,test_size=0.3,random_state=1)\n"
      ],
      "metadata": {
        "id": "4XVYRbN7HiG-"
      },
      "execution_count": null,
      "outputs": []
    },
    {
      "cell_type": "code",
      "source": [
        "from sklearn.tree import DecisionTreeClassifier\n",
        "from sklearn.metrics import accuracy_score\n",
        "tree=DecisionTreeClassifier()\n",
        "tree.fit(x_train,y_train)\n",
        "y_pred=tree.predict(x_test)\n",
        "accuracy_score(y_test,y_pred)\n"
      ],
      "metadata": {
        "id": "hFj__9BGH7FB"
      },
      "execution_count": null,
      "outputs": []
    },
    {
      "cell_type": "code",
      "source": [],
      "metadata": {
        "id": "QP00K9AXUtI1"
      },
      "execution_count": null,
      "outputs": []
    },
    {
      "cell_type": "code",
      "source": [
        "from sklearn.model_selection import GridSearchCV,RandomizedSearchCV\n",
        "tree.get_params()"
      ],
      "metadata": {
        "id": "-45BSAbnIktx"
      },
      "execution_count": null,
      "outputs": []
    },
    {
      "cell_type": "code",
      "source": [
        "criterion=[\"gini\",\"entropy\"]\n",
        "max_depth=[1,2,3,4,5]\n",
        "min_samples_split=[x/1000 for x in list(range(5,41,10))]\n",
        "min_samples_leaf=[x/1000 for x in list(range(5,41,10))]\n",
        "max_features=[\"sqrt\",\"log2\"]\n",
        "params_grid={\n",
        "    \"criterion\":criterion,\n",
        "    \"max_depth\":max_depth,\n",
        "    \"min_samples_split\":min_samples_split,\n",
        "    \"min_samples_leaf\":min_samples_leaf,\n",
        "    \"max_features\":max_features,\n",
        "    \"splitter\":[\"best\",\"random\"],\n",
        "    \"random_state\":[1]\n",
        "\n",
        "}\n",
        "rf_grid=GridSearchCV(estimator=tree,param_grid=params_grid,cv=3,verbose=2,n_jobs=-1)\n",
        "rf_grid.fit(x,y)\n",
        "\n",
        "    "
      ],
      "metadata": {
        "id": "GdLbDnMSKYqA"
      },
      "execution_count": null,
      "outputs": []
    },
    {
      "cell_type": "code",
      "source": [
        "rf_grid.best_params_,rf_grid.best_score_"
      ],
      "metadata": {
        "id": "gN9Rav4wQ2eo"
      },
      "execution_count": null,
      "outputs": []
    },
    {
      "cell_type": "code",
      "source": [
        "from sklearn.ensemble import RandomForestClassifier\n",
        "forest=RandomForestClassifier()\n",
        "forest.fit(x_train,y_train)\n",
        "for_pred=forest.predict(x_test)\n",
        "accuracy_score(y_test,for_pred)"
      ],
      "metadata": {
        "id": "0HTfmdM0UwEX"
      },
      "execution_count": null,
      "outputs": []
    },
    {
      "cell_type": "code",
      "source": [
        "forest.get_params()"
      ],
      "metadata": {
        "id": "P_5MJSoLVSDe"
      },
      "execution_count": null,
      "outputs": []
    },
    {
      "cell_type": "code",
      "source": [
        "paragrid={\n",
        "    \"bootstrap\":[False],\n",
        "    \"criterion\":[\"gini\",\"entropy\"],\n",
        "    \"max_depth\":[5],\n",
        "    \"max_features\":[\"sqrt\",\"auto\",'log2'],\n",
        "    \"n_estimators\":[50],\n",
        "    \"random_state\":[6],\n",
        "    \"min_samples_leaf\":[1],\n",
        "    \"min_weight_fraction_leaf\":[0.0]\n",
        "}\n",
        "forest_grid=GridSearchCV(cv=3,estimator=forest,param_grid=paragrid,verbose=1,n_jobs=-1)\n",
        "forest_grid.fit(xsc,y)\n",
        "forest_grid.best_params_,forest_grid.best_score_"
      ],
      "metadata": {
        "id": "eyu3bSagVckP"
      },
      "execution_count": null,
      "outputs": []
    },
    {
      "cell_type": "code",
      "source": [],
      "metadata": {
        "id": "6TaULfaUlVvI"
      },
      "execution_count": null,
      "outputs": []
    }
  ]
}