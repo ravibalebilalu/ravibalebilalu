{
  "nbformat": 4,
  "nbformat_minor": 0,
  "metadata": {
    "colab": {
      "private_outputs": true,
      "provenance": [],
      "authorship_tag": "ABX9TyONZjWk5jgTmy51CSehlfln",
      "include_colab_link": true
    },
    "kernelspec": {
      "name": "python3",
      "display_name": "Python 3"
    },
    "language_info": {
      "name": "python"
    }
  },
  "cells": [
    {
      "cell_type": "markdown",
      "metadata": {
        "id": "view-in-github",
        "colab_type": "text"
      },
      "source": [
        "<a href=\"https://colab.research.google.com/github/ravibalebilalu/ravibalebilalu/blob/main/lazy_predict.ipynb\" target=\"_parent\"><img src=\"https://colab.research.google.com/assets/colab-badge.svg\" alt=\"Open In Colab\"/></a>"
      ]
    },
    {
      "cell_type": "code",
      "execution_count": null,
      "metadata": {
        "id": "e8coLgJyPRyX"
      },
      "outputs": [],
      "source": [
        "import pandas as pd\n",
        "employee = pd.read_csv(\"/content/Employee Satisfaction Index.csv\")\n",
        "employee.head()\n",
        "employee = employee.drop(['Unnamed: 0','emp_id'],axis = 'columns')\n",
        "from sklearn.preprocessing import LabelEncoder\n",
        "le = LabelEncoder()\n",
        "employee.Dept = le.fit_transform(employee.Dept)\n",
        "employee.location = le.fit_transform(employee.location)\n",
        "employee.education = le.fit_transform(employee.education)\n",
        "employee.recruitment_type = le.fit_transform(employee.recruitment_type)\n",
        "X = employee[['rating','Dept','onsite','salary','education','location','recruitment_type']]\n",
        "Y = employee.satisfied\n",
        "from sklearn.preprocessing import StandardScaler\n",
        "sc = StandardScaler()\n",
        "x = sc.fit_transform(X)\n",
        "from sklearn.model_selection import train_test_split\n",
        "x_train,x_test,y_train,y_test = train_test_split(x,Y,test_size = 0.3,random_state = 5)\n",
        "\n",
        " "
      ]
    },
    {
      "cell_type": "code",
      "source": [
        "\n",
        "from lazypredict.Supervised import LazyClassifier\n",
        "cllf = LazyClassifier(verbose = 0,ignore_warnings = True, custom_metric = None)\n",
        "models,prediction = cllf.fit(x_train,x_test,y_train,y_test)\n",
        "print(models)\n"
      ],
      "metadata": {
        "id": "xhqquCiLSrYh"
      },
      "execution_count": null,
      "outputs": []
    }
  ]
}