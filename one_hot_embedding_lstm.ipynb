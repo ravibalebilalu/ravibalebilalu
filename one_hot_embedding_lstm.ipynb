{
  "nbformat": 4,
  "nbformat_minor": 0,
  "metadata": {
    "colab": {
      "private_outputs": true,
      "provenance": [],
      "authorship_tag": "ABX9TyMlYVxa2oVwlVC3DwTJjsnv",
      "include_colab_link": true
    },
    "kernelspec": {
      "name": "python3",
      "display_name": "Python 3"
    },
    "language_info": {
      "name": "python"
    }
  },
  "cells": [
    {
      "cell_type": "markdown",
      "metadata": {
        "id": "view-in-github",
        "colab_type": "text"
      },
      "source": [
        "<a href=\"https://colab.research.google.com/github/ravibalebilalu/ravibalebilalu/blob/main/one_hot_embedding_lstm.ipynb\" target=\"_parent\"><img src=\"https://colab.research.google.com/assets/colab-badge.svg\" alt=\"Open In Colab\"/></a>"
      ]
    },
    {
      "cell_type": "code",
      "source": [
        "import pandas as pd\n",
        "data=pd.read_csv(\"/content/FA-KES-Dataset.csv\",encoding='latin')\n",
        "data.head()"
      ],
      "metadata": {
        "id": "M-yah_Hv5yPz"
      },
      "execution_count": null,
      "outputs": []
    },
    {
      "cell_type": "code",
      "source": [
        "data.columns"
      ],
      "metadata": {
        "id": "u93ie5Xc7IZN"
      },
      "execution_count": null,
      "outputs": []
    },
    {
      "cell_type": "code",
      "source": [
        "data=data[['article_content','labels']]\n",
        "data.head()"
      ],
      "metadata": {
        "id": "RcL8lZzI7NJo"
      },
      "execution_count": null,
      "outputs": []
    },
    {
      "cell_type": "code",
      "source": [
        "data.info()"
      ],
      "metadata": {
        "id": "bOvW4XpH7lQl"
      },
      "execution_count": null,
      "outputs": []
    },
    {
      "cell_type": "code",
      "source": [
        "import tensorflow as tf\n",
        "from tensorflow.keras.layers import Embedding\n",
        "from tensorflow.keras.preprocessing.text import one_hot\n",
        "from tensorflow.keras.preprocessing.sequence import pad_sequences\n",
        "from tensorflow.keras.models import Sequential\n",
        "from tensorflow.keras.layers import Dense,Dropout,LSTM\n",
        "import nltk\n",
        "from nltk.corpus import stopwords\n",
        "from nltk.stem import PorterStemmer\n",
        "import re\n",
        "ps=PorterStemmer()\n",
        "stopWords=set(stopwords.words('english'))\n",
        "\n"
      ],
      "metadata": {
        "id": "j25Bd3Yg7zsm"
      },
      "execution_count": null,
      "outputs": []
    },
    {
      "cell_type": "code",
      "source": [
        "def clean(text):\n",
        "  result=re.sub('[^a-zA-Z]',' ',text)\n",
        "  result=result.lower()\n",
        "  result=result.split()\n",
        "  result=[ps.stem(i) for i in result if i not in stopWords]\n",
        "  result=' '.join(result)\n",
        "  return result\n",
        "data['txt']=data[\"article_content\"].apply(clean)\n",
        "data.txt\n",
        " "
      ],
      "metadata": {
        "id": "FuGgb_t49zoX"
      },
      "execution_count": null,
      "outputs": []
    },
    {
      "cell_type": "code",
      "source": [
        "voc_size=5000\n",
        "one_hot_rpt=[one_hot(words,voc_size) for words in data['txt']]\n",
        "one_hot_rpt[0]"
      ],
      "metadata": {
        "id": "UfMC_dFJ-_2U"
      },
      "execution_count": null,
      "outputs": []
    },
    {
      "cell_type": "code",
      "source": [
        "sent_len=25\n",
        "emb_doc=pad_sequences(one_hot_rpt,padding='post',maxlen=sent_len)\n",
        "emb_doc[0]"
      ],
      "metadata": {
        "id": "PTO9Xdwe_p8L"
      },
      "execution_count": null,
      "outputs": []
    },
    {
      "cell_type": "code",
      "source": [
        "embedding_vector_features=40\n",
        "model=Sequential()\n",
        "model.add(Embedding(voc_size,embedding_vector_features,input_length=sent_len))\n",
        "model.add(Dropout(0.5))\n",
        "model.add(LSTM(200))\n",
        "model.add(Dropout(0.5))\n",
        "model.add(Dense(1,activation='sigmoid'))\n",
        "model.compile(loss='binary_crossentropy',optimizer='sgd',metrics=['accuracy'])\n"
      ],
      "metadata": {
        "id": "CwfllU9sAgyF"
      },
      "execution_count": null,
      "outputs": []
    },
    {
      "cell_type": "code",
      "source": [
        "import numpy as np\n",
        "x=np.array(emb_doc)\n",
        "y=np.array(data['labels'])\n",
        "from sklearn.model_selection import train_test_split\n",
        "x_train,x_test,y_train,y_test=train_test_split(x,y,test_size=0.3,random_state=5)\n",
        "model.fit(x_train,y_train,epochs=5,validation_data=(x_test,y_test),batch_size=10)\n"
      ],
      "metadata": {
        "id": "xqprad6NCGJE"
      },
      "execution_count": null,
      "outputs": []
    },
    {
      "cell_type": "code",
      "source": [
        " "
      ],
      "metadata": {
        "id": "XYH_UBRhGByF"
      },
      "execution_count": null,
      "outputs": []
    }
  ]
}