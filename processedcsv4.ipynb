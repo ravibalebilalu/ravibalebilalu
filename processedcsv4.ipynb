{
  "nbformat": 4,
  "nbformat_minor": 0,
  "metadata": {
    "colab": {
      "private_outputs": true,
      "provenance": [],
      "authorship_tag": "ABX9TyOG39ySUgLa9BAiBe4Emf3N",
      "include_colab_link": true
    },
    "kernelspec": {
      "name": "python3",
      "display_name": "Python 3"
    },
    "language_info": {
      "name": "python"
    }
  },
  "cells": [
    {
      "cell_type": "markdown",
      "metadata": {
        "id": "view-in-github",
        "colab_type": "text"
      },
      "source": [
        "<a href=\"https://colab.research.google.com/github/ravibalebilalu/ravibalebilalu/blob/main/processedcsv4.ipynb\" target=\"_parent\"><img src=\"https://colab.research.google.com/assets/colab-badge.svg\" alt=\"Open In Colab\"/></a>"
      ]
    },
    {
      "cell_type": "markdown",
      "source": [
        "Task is to :\n",
        "1.\tLoad the following CSV file into a Pandas DataFrame:\n",
        "Name,Age,City,Country\n",
        "Alice,23,Toronto,Canada\n",
        "Bob,35,New York,USA\n",
        "Charlie,31,Paris,France\n",
        "2.\tFilter the DataFrame to only include rows where the Age is greater than 30.\n",
        "3.\tCreate a new column called \"IsMajor\" that indicates whether each person is a \"major\" (age greater than or equal to 18) or a \"minor\" (age less than 18).\n",
        "4.\tGroup the DataFrame by Country and calculate the mean Age for each group.\n",
        "5.\tSort the DataFrame by Age in descending order.\n",
        "6.\tWrite the resulting DataFrame to a new CSV file called \"filtered_and_processed.csv\".\n"
      ],
      "metadata": {
        "id": "kFIGfsIbtQEB"
      }
    },
    {
      "cell_type": "markdown",
      "source": [],
      "metadata": {
        "id": "yKTQ5r-_sQRo"
      }
    },
    {
      "cell_type": "code",
      "source": [
        "#load the data\n",
        "columns = [\"Name\",\"Age\",\"City\",\"Country\"]\n",
        "a = [\"Alice\",23,\"Toronto\",\"Canada\"]\n",
        "b = [\"Bob\",35,\"New York\",\"USA\"]\n",
        "c = [\"Charlie\",31,\"Paris\",\"France\"]\n",
        "import pandas as pd\n",
        "df = pd.DataFrame(data = (a,b,c),columns = columns)\n",
        "df"
      ],
      "metadata": {
        "id": "2hyfKqGgsSOU"
      },
      "execution_count": null,
      "outputs": []
    },
    {
      "cell_type": "code",
      "source": [
        "#Filter the DataFrame to only include rows where the Age is greater than 30.\n",
        "df[df[\"Age\"]>30]"
      ],
      "metadata": {
        "id": "aIEkVeF1tjEb"
      },
      "execution_count": null,
      "outputs": []
    },
    {
      "cell_type": "code",
      "source": [
        "#Create a new column called \"IsMajor\" that indicates whether each person is a \"major\" (age greater than or equal to 18) or a \"minor\" (age less than 18).\n",
        "def ismajor(x):\n",
        "  if x >= 18:\n",
        "    result = \"major\"\n",
        "  else:\n",
        "    result = \"minor\"\n",
        "  return result\n",
        "df[\"IsMajor\"] = df[\"Age\"].apply(ismajor)\n",
        "df"
      ],
      "metadata": {
        "id": "2ojhbv6huClt"
      },
      "execution_count": null,
      "outputs": []
    },
    {
      "cell_type": "code",
      "source": [
        "#Group the DataFrame by Country and calculate the mean Age for each group.\n",
        "df.groupby(\"Country\")[\"Age\"].mean()"
      ],
      "metadata": {
        "id": "liuPXpnuvNyW"
      },
      "execution_count": null,
      "outputs": []
    },
    {
      "cell_type": "code",
      "source": [
        "#Sort the DataFrame by Age in descending order.\n",
        "df.sort_values(by = \"Age\",ascending = False)"
      ],
      "metadata": {
        "id": "bM37_wpHvmyl"
      },
      "execution_count": null,
      "outputs": []
    },
    {
      "cell_type": "code",
      "source": [
        "#Write the resulting DataFrame to a new CSV file called \"filtered_and_processed.csv\".\n",
        "result = df.sort_values(by = \"Age\",ascending = False)\n",
        "result.to_csv(\"filterd_and_processed.csv\")"
      ],
      "metadata": {
        "id": "Rc0r5-obwgZW"
      },
      "execution_count": null,
      "outputs": []
    }
  ]
}