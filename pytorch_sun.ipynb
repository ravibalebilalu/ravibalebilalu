{
  "nbformat": 4,
  "nbformat_minor": 0,
  "metadata": {
    "colab": {
      "private_outputs": true,
      "provenance": [],
      "authorship_tag": "ABX9TyOSRTpDSIUPhv4LT3rHFBal",
      "include_colab_link": true
    },
    "kernelspec": {
      "name": "python3",
      "display_name": "Python 3"
    },
    "language_info": {
      "name": "python"
    },
    "accelerator": "GPU",
    "gpuClass": "standard"
  },
  "cells": [
    {
      "cell_type": "markdown",
      "metadata": {
        "id": "view-in-github",
        "colab_type": "text"
      },
      "source": [
        "<a href=\"https://colab.research.google.com/github/ravibalebilalu/ravibalebilalu/blob/main/pytorch_sun.ipynb\" target=\"_parent\"><img src=\"https://colab.research.google.com/assets/colab-badge.svg\" alt=\"Open In Colab\"/></a>"
      ]
    },
    {
      "cell_type": "code",
      "execution_count": null,
      "metadata": {
        "id": "fhBLOhP3q4ik"
      },
      "outputs": [],
      "source": [
        "import torch\n",
        "import pandas as pd\n",
        "import numpy as np\n",
        "import seaborn as sns\n",
        "import matplotlib.pyplot as plt\n",
        "import torch.nn as nn\n",
        "import torch.nn.functional as F\n",
        "bank = pd.read_csv(\"Churn_Modelling.csv\")\n",
        "from sklearn.preprocessing import LabelEncoder\n",
        "le = LabelEncoder()\n",
        "bank['Geography'] = le.fit_transform(bank['Geography'])\n",
        "bank['Gender'] = le.fit_transform(bank['Gender'])\n",
        "bank = bank.drop(['RowNumber','CustomerId','Surname'],axis = \"columns\")\n",
        "\n",
        "from sklearn.model_selection import train_test_split\n",
        "from sklearn.preprocessing import StandardScaler\n",
        "sc = StandardScaler()\n",
        "x = bank.drop(['Exited'],axis = 'columns').values\n",
        "y = bank['Exited'].values\n",
        "x = sc.fit_transform(x)\n",
        "x_train,x_test,y_train,y_test = train_test_split(x,y,test_size = 0.3,random_state = 1)\n",
        "x_train.shape\n",
        "\n",
        "\n",
        "\n",
        " "
      ]
    },
    {
      "cell_type": "code",
      "source": [
        "x_train = torch.FloatTensor(x_train)\n",
        "x_test = torch.FloatTensor(x_test)\n",
        "y_train = torch.LongTensor(y_train)\n",
        "y_test = torch.LongTensor(y_test)\n",
        "\n",
        "class ANN_model(nn.Module):\n",
        "  def __init__(self,input_features = x_train.shape[1],hidden1 = 100,hidden2 = 100,output = 2):\n",
        "    super().__init__()\n",
        "    self.f_connected1 = nn.Linear(input_features,hidden1)\n",
        "    self.f_connected2 = nn.Linear(hidden1,hidden2)\n",
        "    self.out = nn.Linear(hidden2,output)\n",
        "  def forward(self,x):\n",
        "    x = F.relu(self.f_connected1(x))\n",
        "    x = F.relu(self.f_connected2(x))\n",
        "    x = self.out(x)\n",
        "    return x\n",
        "\n",
        "torch.manual_seed(20)\n",
        "model = ANN_model()\n",
        "loss_function = nn.CrossEntropyLoss()\n",
        "optimizer = torch.optim.Adam(model.parameters(),lr = 0.001)\n",
        "\n",
        "epochs = 1000\n",
        "final_loss = []\n",
        "for i in range(epochs):\n",
        "  i+=1\n",
        "  y_pred = model.forward(x_train)\n",
        "  loss = loss_function(y_pred,y_train)\n",
        "  final_loss.append(loss)\n",
        "  if i%10 == 1:\n",
        "    optimizer.zero_grad()\n",
        "    loss.backward()\n",
        "    optimizer.step()\n",
        "final_loss = torch.tensor(final_loss,requires_grad = True).detach().numpy()\n",
        "\n",
        "\n",
        "plt.plot(range(epochs),final_loss)\n",
        "plt.xlabel(\"Epochs\")\n",
        "plt.ylabel(\"Loss\")\n",
        "plt.show()\n"
      ],
      "metadata": {
        "id": "vsgpnM-muhVj"
      },
      "execution_count": null,
      "outputs": []
    },
    {
      "cell_type": "code",
      "source": [
        "\n",
        "predictions = []\n",
        "with torch.no_grad():\n",
        "  for i , data in enumerate(x_test):\n",
        "    y_pred = model(data)\n",
        "    predictions.append(y_pred.argmax().item())\n",
        "from sklearn.metrics import accuracy_score\n",
        "print(accuracy_score(y_test,predictions))\n",
        "\n"
      ],
      "metadata": {
        "id": "1dTgDhHeuwVJ"
      },
      "execution_count": null,
      "outputs": []
    },
    {
      "cell_type": "code",
      "source": [
        "torch.save(model,\"bank_churn.pt\")"
      ],
      "metadata": {
        "id": "jOBUzShD9SyZ"
      },
      "execution_count": null,
      "outputs": []
    },
    {
      "cell_type": "code",
      "source": [
        "bank_c = torch.load(\"bank_churn.pt\")\n",
        "bank_c.eval()"
      ],
      "metadata": {
        "id": "X83USQh09lUC"
      },
      "execution_count": null,
      "outputs": []
    }
  ]
}