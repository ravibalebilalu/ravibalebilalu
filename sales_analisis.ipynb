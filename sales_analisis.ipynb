{
  "nbformat": 4,
  "nbformat_minor": 0,
  "metadata": {
    "colab": {
      "private_outputs": true,
      "provenance": [],
      "authorship_tag": "ABX9TyNlWFNSWuJvG2zZ+vJXCamP",
      "include_colab_link": true
    },
    "kernelspec": {
      "name": "python3",
      "display_name": "Python 3"
    },
    "language_info": {
      "name": "python"
    }
  },
  "cells": [
    {
      "cell_type": "markdown",
      "metadata": {
        "id": "view-in-github",
        "colab_type": "text"
      },
      "source": [
        "<a href=\"https://colab.research.google.com/github/ravibalebilalu/ravibalebilalu/blob/main/sales_analisis.ipynb\" target=\"_parent\"><img src=\"https://colab.research.google.com/assets/colab-badge.svg\" alt=\"Open In Colab\"/></a>"
      ]
    },
    {
      "cell_type": "markdown",
      "source": [
        "Here the  task is to use pandas to do the following:\n",
        "1.\tLoad the dataset into a pandas DataFrame\n",
        "2.\tFind the total sales for each customer\n",
        "3.\tFind the most popular product by quantity sold\n",
        "4.\tFind the total sales for each product\n",
        "5.\tFind the total sales for each month\n"
      ],
      "metadata": {
        "id": "c3FineikGRPu"
      }
    },
    {
      "cell_type": "code",
      "execution_count": null,
      "metadata": {
        "id": "s9fnC_Wb3Vwx"
      },
      "outputs": [],
      "source": [
        "#Load the dataset \n",
        "import pandas as pd\n",
        "sales = pd.read_csv(\"https://raw.githubusercontent.com/ms-robot-please/Python-for-Data-Science/master/Superstore-Sales.csv\",encoding = \"ISO-8859-1\")\n",
        "print(sales.columns)\n",
        "#select required columns for simplisity\n",
        "sales = sales[[\"Customer Name\",\"Product Name\",\"Order Quantity\",\"Unit Price\",\"Order Date\",]]\n",
        "#create new column\n",
        "sales[\"Total Price\"] = sales[\"Order Quantity\"] * sales[\"Unit Price\"]\n",
        "#convert date column to datetime stamp\n",
        "sales[\"Order Date\"] = pd.to_datetime(sales[\"Order Date\"])\n"
      ]
    },
    {
      "cell_type": "code",
      "source": [
        "##TO FInd TOtal sales for each cos\n",
        "total_sales = sales.groupby(\"Customer Name\")[\"Total Price\"].sum()\n",
        "total_sales"
      ],
      "metadata": {
        "id": "PYv5gHBM7MZ_"
      },
      "execution_count": null,
      "outputs": []
    },
    {
      "cell_type": "code",
      "source": [
        "## to find most populer product\n",
        "sales.groupby(\"Product Name\")[\"Order Quantity\"].sum().sort_values(ascending = False).head()"
      ],
      "metadata": {
        "id": "kfxWbIv_8ZNU"
      },
      "execution_count": null,
      "outputs": []
    },
    {
      "cell_type": "code",
      "source": [
        "#to find total sales for each product\n",
        "total_sales = sales.groupby(\"Product Name\")[\"Total Price\"].sum()\n",
        "total_sales"
      ],
      "metadata": {
        "id": "WqEvVUD3-shc"
      },
      "execution_count": null,
      "outputs": []
    },
    {
      "cell_type": "code",
      "source": [
        "#to find montlywise sales\n",
        "sales[\"month\"] = pd.DatetimeIndex(sales[\"Order Date\"]).month\n",
        "monthly_sales = sales.groupby(\"month\")[\"Total Price\"].sum()\n",
        "monthly_sales\n"
      ],
      "metadata": {
        "id": "Af5Jo81sCdi1"
      },
      "execution_count": null,
      "outputs": []
    },
    {
      "cell_type": "markdown",
      "source": [],
      "metadata": {
        "id": "m3zzMDvh8dVB"
      }
    }
  ]
}